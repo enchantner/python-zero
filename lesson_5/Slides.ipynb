{
 "cells": [
  {
   "cell_type": "code",
   "execution_count": null,
   "metadata": {
    "slideshow": {
     "slide_type": "skip"
    }
   },
   "outputs": [],
   "source": [
    "%%html\n",
    "<style>\n",
    ".text_cell_render * {\n",
    "   font-family: OfficinaSansCTT;\n",
    "}\n",
    ".reveal code {\n",
    "    font-family: OfficinaSansCTT;\n",
    "}\n",
    ".text_cell_render h3 {\n",
    "   font-family: OfficinaSansCTT;\n",
    "}\n",
    ".reveal section img {\n",
    "    max-height: 500px;\n",
    "    margin-left: auto;\n",
    "    margin-right: auto;\n",
    "}\n",
    "</style>"
   ]
  },
  {
   "cell_type": "markdown",
   "metadata": {
    "slideshow": {
     "slide_type": "slide"
    }
   },
   "source": [
    "### Вопросы по прошлому занятию\n",
    "\n",
    "* Что найдет регулярка **\"^\\d+\\.\\d{1,2}\\.\\d{1,2}\\s[^A-Z]?$\"** ?\n",
    "* Что делает функция filter(lambda s: s.startswith(\"https://\"), sys.stdin)?\n",
    "* Объясните своими словами, что такое yield.\n",
    "* В Python 2 была возможность получить очень странную ошибку ValueError: function 'func' accepts at least 2 arguments (2 given). В Python 3 сообщение об ошибке исправили на более информативное, но попытайтесь предположить, что надо было сделать для получения такой ошибки?\n",
    "* Как выбрать случайный элемент из списка?"
   ]
  },
  {
   "cell_type": "markdown",
   "metadata": {
    "slideshow": {
     "slide_type": "slide"
    }
   },
   "source": [
    "### Классы и магические методы"
   ]
  },
  {
   "cell_type": "code",
   "execution_count": null,
   "metadata": {},
   "outputs": [],
   "source": [
    "a = 1\n",
    "b = 3\n",
    "# dir(a)"
   ]
  },
  {
   "cell_type": "code",
   "execution_count": null,
   "metadata": {},
   "outputs": [],
   "source": [
    "a + b\n",
    "a.__add__(b)"
   ]
  },
  {
   "cell_type": "code",
   "execution_count": null,
   "metadata": {},
   "outputs": [],
   "source": [
    "type(a)\n",
    "isinstance(a, int)"
   ]
  },
  {
   "cell_type": "code",
   "execution_count": null,
   "metadata": {
    "slideshow": {
     "slide_type": "slide"
    }
   },
   "outputs": [],
   "source": [
    "class Animal(object):\n",
    "    \n",
    "    mammal = True  # class variable\n",
    "    \n",
    "    def __init__(self, name, voice, color=\"black\"):\n",
    "        self.name = name\n",
    "        self.__voice = voice  # \"приватный\" или \"защищенный\" атрибут\n",
    "        self._color = color  # \"типа приватный\" атрибут\n",
    "        \n",
    "    def make_sound(self):\n",
    "        print('{0} {1} says \"{2}\"'.format(self._color, self.name, self.__voice))"
   ]
  },
  {
   "cell_type": "code",
   "execution_count": null,
   "metadata": {},
   "outputs": [],
   "source": [
    "a = Animal(name=\"dog\", voice=\"bark\")\n",
    "a.make_sound()"
   ]
  },
  {
   "cell_type": "code",
   "execution_count": null,
   "metadata": {
    "slideshow": {
     "slide_type": "slide"
    }
   },
   "outputs": [],
   "source": [
    "c.__voice\n",
    "c._color\n",
    "dir(c)"
   ]
  },
  {
   "cell_type": "code",
   "execution_count": null,
   "metadata": {},
   "outputs": [],
   "source": []
  },
  {
   "cell_type": "code",
   "execution_count": null,
   "metadata": {
    "slideshow": {
     "slide_type": "slide"
    }
   },
   "outputs": [],
   "source": [
    "class Cat(Animal):\n",
    "    \n",
    "    def __init__(self, color):\n",
    "        super().__init__(name=\"cat\", voice=\"meow\", color=color)"
   ]
  },
  {
   "cell_type": "code",
   "execution_count": null,
   "metadata": {},
   "outputs": [],
   "source": [
    "c = Cat(color=\"white\")\n",
    "c.make_sound()"
   ]
  },
  {
   "cell_type": "code",
   "execution_count": null,
   "metadata": {
    "slideshow": {
     "slide_type": "slide"
    }
   },
   "outputs": [],
   "source": [
    "c1 = Cat(color=\"white\")\n",
    "c2 = Cat(color=\"black\")\n",
    "print(c1.mammal)\n",
    "c1.mammal = False\n",
    "print(c1.mammal)\n",
    "print(c2.mammal)"
   ]
  },
  {
   "cell_type": "code",
   "execution_count": null,
   "metadata": {},
   "outputs": [],
   "source": []
  },
  {
   "cell_type": "code",
   "execution_count": null,
   "metadata": {
    "slideshow": {
     "slide_type": "slide"
    }
   },
   "outputs": [],
   "source": [
    "c1 = Cat(color=\"white\")\n",
    "c2 = Cat(color=\"black\")\n",
    "print(c1.mammal)\n",
    "Cat.mammal = False\n",
    "print(c1.mammal)\n",
    "print(c2.mammal)"
   ]
  },
  {
   "cell_type": "code",
   "execution_count": null,
   "metadata": {},
   "outputs": [],
   "source": []
  },
  {
   "cell_type": "code",
   "execution_count": null,
   "metadata": {
    "slideshow": {
     "slide_type": "slide"
    }
   },
   "outputs": [],
   "source": [
    "c._color = \"green\"\n",
    "c.make_sound()"
   ]
  },
  {
   "cell_type": "code",
   "execution_count": null,
   "metadata": {
    "slideshow": {
     "slide_type": "slide"
    }
   },
   "outputs": [],
   "source": [
    "class Cat(Animal):\n",
    "    \n",
    "    def __init__(self, color):\n",
    "        super().__init__(name=\"cat\", voice=\"meow\", color=color)\n",
    "        \n",
    "    @property\n",
    "    def color(self):\n",
    "        return self._color\n",
    "    \n",
    "    @color.setter\n",
    "    def color(self, val):\n",
    "        if val not in (\"black\", \"white\", \"grey\", \"mixed\"):\n",
    "            raise Exception(\"Cat can't be {0}!\".format(val))\n",
    "        self._color = val"
   ]
  },
  {
   "cell_type": "code",
   "execution_count": null,
   "metadata": {
    "slideshow": {
     "slide_type": "slide"
    }
   },
   "outputs": [],
   "source": [
    "c = Cat(\"white\")\n",
    "c.color"
   ]
  },
  {
   "cell_type": "code",
   "execution_count": null,
   "metadata": {},
   "outputs": [],
   "source": [
    "c.color = \"black\"\n",
    "c.color"
   ]
  },
  {
   "cell_type": "markdown",
   "metadata": {
    "slideshow": {
     "slide_type": "slide"
    }
   },
   "source": [
    "### Упражнение\n",
    "\n",
    "Написать класс счетчика, который принимает начальное значение и шаг. У счетчика есть метод step(), который позволяет увеличить значение на размер шага. Давайте запретим менять значение напрямую, а шаг позволим устанавливать через сеттер."
   ]
  },
  {
   "cell_type": "code",
   "execution_count": null,
   "metadata": {},
   "outputs": [],
   "source": []
  },
  {
   "cell_type": "markdown",
   "metadata": {
    "slideshow": {
     "slide_type": "slide"
    }
   },
   "source": [
    "### Более подробно о with"
   ]
  },
  {
   "cell_type": "code",
   "execution_count": null,
   "metadata": {},
   "outputs": [],
   "source": [
    "class A(object):\n",
    "    def __init__(self):\n",
    "        self.sandbox = {}\n",
    "        \n",
    "    def __enter__(self):\n",
    "        return self.sandbox\n",
    "    \n",
    "    def __exit__(self, exc_type, exc_value, traceback):\n",
    "        self.sandbox = {}"
   ]
  },
  {
   "cell_type": "code",
   "execution_count": null,
   "metadata": {
    "slideshow": {
     "slide_type": "slide"
    }
   },
   "outputs": [],
   "source": [
    "a = A()\n",
    "with a as sbox:\n",
    "    sbox[\"foo\"] = \"bar\"\n",
    "    print(sbox)\n",
    "\n",
    "print(a.sandbox)"
   ]
  },
  {
   "cell_type": "code",
   "execution_count": null,
   "metadata": {
    "slideshow": {
     "slide_type": "slide"
    }
   },
   "outputs": [],
   "source": [
    "from contextlib import contextmanager\n",
    "\n",
    "@contextmanager\n",
    "def contextgen():\n",
    "    print(\"enter\")\n",
    "    yield 1\n",
    "    print(\"exit\")"
   ]
  },
  {
   "cell_type": "code",
   "execution_count": null,
   "metadata": {},
   "outputs": [],
   "source": [
    "with contextgen() as a:\n",
    "    print(a)"
   ]
  },
  {
   "cell_type": "markdown",
   "metadata": {
    "slideshow": {
     "slide_type": "slide"
    }
   },
   "source": [
    "### Что такое потоки?\n",
    "\n",
    "- Системный планировщик отдает процессорное время потокам/процессам, переключая между ними контекст\n",
    "- Процессы/потоки работают \"параллельно\", в идеале используя несколько ядер процессора\n",
    "- Пути планировщика неисповедимы, нельзя заранее предсказать, какой процесс получит ресурсы в конкретный момент\n",
    "- Потоки надо синхронизировать согласно задачам, чтобы не было проблем с одновременным доступом\n",
    "- Пример - простая версия веб-сервера\n",
    "- Есть CPU-bound задачи и есть I/O-bound задачи - важно понимать разницу"
   ]
  },
  {
   "cell_type": "markdown",
   "metadata": {
    "slideshow": {
     "slide_type": "slide"
    }
   },
   "source": [
    "### Что такое GIL?\n",
    "\n",
    "- GIL - это глобальный мьютекс (механизм синхронизации) в интерпретаторе Python\n",
    "- GIL запрещает выполнять байткод Python больше чем одному потоку одновременно\n",
    "- Но это касается ТОЛЬКО байткода Python и не распространяется на I/O операции\n",
    "- Потоки Python (в отличие от потоков, скажем, в Ruby) - это полноценные потоки ОС"
   ]
  },
  {
   "cell_type": "code",
   "execution_count": null,
   "metadata": {
    "slideshow": {
     "slide_type": "slide"
    }
   },
   "outputs": [],
   "source": [
    "import os\n",
    "import requests\n",
    "from threading import Thread\n",
    " \n",
    "class DownloadThread(Thread):\n",
    "\n",
    "    def __init__(self, url, name):\n",
    "        super().__init__()\n",
    "        self.url = url\n",
    "        self.name = name\n",
    "    \n",
    "    def run(self):\n",
    "        res = requests.get(self.url, stream=True)\n",
    "        res.raise_for_status()        \n",
    "        fname = os.path.basename(self.url)\n",
    "    \n",
    "        with open(fname, \"wb\") as savefile:\n",
    "            for chunk in res.iter_content(1024):\n",
    "                savefile.write(chunk)\n",
    "        \n",
    "        print(f\"{self.name} закончил загрузку {self.url} !\")"
   ]
  },
  {
   "cell_type": "code",
   "execution_count": null,
   "metadata": {
    "slideshow": {
     "slide_type": "slide"
    }
   },
   "outputs": [],
   "source": [
    "def main(urls): \n",
    "    for item, url in enumerate(urls):\n",
    "        thread = DownloadThread(url, f\"Поток {item + 1}\")\n",
    "        thread.start()\n",
    "\n",
    "main([\n",
    "    \"http://www.irs.gov/pub/irs-pdf/f1040.pdf\",\n",
    "    \"http://www.irs.gov/pub/irs-pdf/f1040a.pdf\",\n",
    "    \"http://www.irs.gov/pub/irs-pdf/f1040ez.pdf\",\n",
    "    \"http://www.irs.gov/pub/irs-pdf/f1040es.pdf\",\n",
    "    \"http://www.irs.gov/pub/irs-pdf/f1040sb.pdf\"\n",
    "])\n",
    "\n",
    "\"\"\"\n",
    "В данном случае интерпретатор дожидается\n",
    "завершения всех дочерних потоков.\n",
    "В других языках может быть иначе!\n",
    "\"\"\""
   ]
  },
  {
   "cell_type": "code",
   "execution_count": null,
   "metadata": {
    "slideshow": {
     "slide_type": "slide"
    }
   },
   "outputs": [],
   "source": [
    "import queue\n",
    "\n",
    "class DownloadThread2(Thread):\n",
    "\n",
    "    def __init__(self, queue, name):\n",
    "        super().__init__()\n",
    "        self.queue = queue\n",
    "        self.name = name\n",
    "    \n",
    "    def run(self):\n",
    "        while True:\n",
    "            url = self.queue.get()\n",
    "            fname = os.path.basename(url)\n",
    "            \n",
    "            res = requests.get(url, stream=True)\n",
    "            res.raise_for_status()        \n",
    "        \n",
    "            with open(fname, \"wb\") as savefile:\n",
    "                for chunk in res.iter_content(1024):\n",
    "                    savefile.write(chunk)\n",
    "                    \n",
    "            self.queue.task_done()\n",
    "            print(f\"{self.name} закончил загрузку {url} !\")"
   ]
  },
  {
   "cell_type": "code",
   "execution_count": null,
   "metadata": {
    "slideshow": {
     "slide_type": "slide"
    }
   },
   "outputs": [],
   "source": [
    "def main(urls):\n",
    "    q = queue.Queue()\n",
    "    threads = [DownloadThread2(q, f\"Поток {i + 1}\") for i in range(2)]\n",
    "    for t in threads:\n",
    "        # заставляем интерпретатор НЕ ждать завершения дочерних потоков\n",
    "        t.setDaemon(True)\n",
    "        t.start()\n",
    "    \n",
    "    for url in urls:\n",
    "        q.put(url)\n",
    "        \n",
    "    q.join()  # все обработано - выходим\n",
    "\n",
    "main([\n",
    "    \"http://www.irs.gov/pub/irs-pdf/f1040.pdf\",\n",
    "    \"http://www.irs.gov/pub/irs-pdf/f1040a.pdf\",\n",
    "    \"http://www.irs.gov/pub/irs-pdf/f1040ez.pdf\",\n",
    "    \"http://www.irs.gov/pub/irs-pdf/f1040es.pdf\",\n",
    "    \"http://www.irs.gov/pub/irs-pdf/f1040sb.pdf\"\n",
    "])"
   ]
  },
  {
   "cell_type": "markdown",
   "metadata": {
    "slideshow": {
     "slide_type": "slide"
    }
   },
   "source": [
    "### Упражнение\n",
    "\n",
    "Реализовать \"sleepsort\". Предположим у нас есть **короткий** список чисел от 0 до 10. Чтобы их вывести в отсортированном порядке - достаточно каждый поток заставить \"спать\" количество секунд, равное самому числу, и только потом его выводить. В чем недостаток данного подхода?"
   ]
  },
  {
   "cell_type": "code",
   "execution_count": null,
   "metadata": {},
   "outputs": [],
   "source": []
  },
  {
   "cell_type": "markdown",
   "metadata": {
    "slideshow": {
     "slide_type": "slide"
    }
   },
   "source": [
    "### Как обойти GIL?\n",
    "\n",
    "- Например, использовать процессы вместо потоков.\n",
    "- Тогда проблема будет с синхронизацией и обменом сообщениями (см. pickle)\n",
    "- И процессы все-таки немного тяжелее потоков. Стартовать по процессу на каждого клиента слишком дорого."
   ]
  },
  {
   "cell_type": "code",
   "execution_count": null,
   "metadata": {},
   "outputs": [],
   "source": [
    "from multiprocessing import Process\n",
    "from multiprocessing import Queue"
   ]
  },
  {
   "cell_type": "markdown",
   "metadata": {},
   "source": [
    "### Ipyparallel\n",
    "\n",
    "- 0MQ + Kernels\n",
    "- Поддержка платформ наподобие EC2\n",
    "- mpi4py\n",
    "- Task DAG\n",
    "\n",
    "https://ipyparallel.readthedocs.io/en/latest/"
   ]
  },
  {
   "cell_type": "code",
   "execution_count": null,
   "metadata": {
    "slideshow": {
     "slide_type": "slide"
    }
   },
   "outputs": [],
   "source": [
    "import time\n",
    "from concurrent.futures import ThreadPoolExecutor\n",
    "# аналогично с ProcessPoolExecutor\n",
    " \n",
    "def hold_my_beer_5_sec(beer):\n",
    "    time.sleep(5)\n",
    "    return beer\n",
    " \n",
    "pool = ThreadPoolExecutor(3)\n",
    " \n",
    "future = pool.submit(hold_my_beer_5_sec, (\"Балтика\"))\n",
    "print(future.done())\n",
    "sleep(5)\n",
    "print(future.done())\n",
    "print(future.result())"
   ]
  },
  {
   "cell_type": "code",
   "execution_count": null,
   "metadata": {},
   "outputs": [],
   "source": []
  },
  {
   "cell_type": "code",
   "execution_count": null,
   "metadata": {
    "slideshow": {
     "slide_type": "slide"
    }
   },
   "outputs": [],
   "source": [
    "import concurrent.futures\n",
    "import requests\n",
    " \n",
    "def load_url(url):\n",
    "    fname = os.path.basename(url)\n",
    "    res = requests.get(url, stream=True)\n",
    "    res.raise_for_status()        \n",
    "\n",
    "    with open(fname, \"wb\") as savefile:\n",
    "        for chunk in res.iter_content(1024):\n",
    "            savefile.write(chunk)\n",
    "    return fname"
   ]
  },
  {
   "cell_type": "code",
   "execution_count": null,
   "metadata": {
    "slideshow": {
     "slide_type": "slide"
    }
   },
   "outputs": [],
   "source": [
    "URLS = [\n",
    "    \"http://www.irs.gov/pub/irs-pdf/f1040.pdf\",\n",
    "    \"http://www.irs.gov/pub/irs-pdf/f1040a.pdf\",\n",
    "    \"http://www.irs.gov/pub/irs-pdf/f1040ez.pdf\",\n",
    "    \"http://www.irs.gov/pub/irs-pdf/f1040es.pdf\",\n",
    "    \"http://www.irs.gov/pub/irs-pdf/f1040sb.pdf\"\n",
    "]\n",
    "\n",
    "with concurrent.futures.ThreadPoolExecutor(max_workers=5) as executor:\n",
    "    future_to_url = {\n",
    "        executor.submit(load_url, url): url\n",
    "        for url in URLS\n",
    "    }\n",
    "    for future in concurrent.futures.as_completed(future_to_url):\n",
    "        url = future_to_url[future]\n",
    "        print(f\"URL '{future_to_url[future]}' is saved to '{future.result()}'\")"
   ]
  },
  {
   "cell_type": "markdown",
   "metadata": {},
   "source": [
    "### Примитивы синхронизации - мьютекс"
   ]
  },
  {
   "cell_type": "code",
   "execution_count": null,
   "metadata": {},
   "outputs": [],
   "source": [
    "m = threading.Lock()\n",
    "m.acquire()\n",
    "m.release()"
   ]
  },
  {
   "cell_type": "markdown",
   "metadata": {
    "slideshow": {
     "slide_type": "slide"
    }
   },
   "source": [
    "### Задача об обедающих философах\n",
    "\n",
    "https://ru.wikipedia.org/wiki/%D0%97%D0%B0%D0%B4%D0%B0%D1%87%D0%B0_%D0%BE%D0%B1_%D0%BE%D0%B1%D0%B5%D0%B4%D0%B0%D1%8E%D1%89%D0%B8%D1%85_%D1%84%D0%B8%D0%BB%D0%BE%D1%81%D0%BE%D1%84%D0%B0%D1%85"
   ]
  },
  {
   "cell_type": "code",
   "execution_count": null,
   "metadata": {},
   "outputs": [],
   "source": []
  }
 ],
 "metadata": {
  "celltoolbar": "Slideshow",
  "kernelspec": {
   "display_name": "Python 3",
   "language": "python",
   "name": "python3"
  },
  "language_info": {
   "codemirror_mode": {
    "name": "ipython",
    "version": 3
   },
   "file_extension": ".py",
   "mimetype": "text/x-python",
   "name": "python",
   "nbconvert_exporter": "python",
   "pygments_lexer": "ipython3",
   "version": "3.6.1"
  }
 },
 "nbformat": 4,
 "nbformat_minor": 2
}
