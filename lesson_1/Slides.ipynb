{
 "cells": [
  {
   "cell_type": "code",
   "execution_count": 1,
   "metadata": {
    "slideshow": {
     "slide_type": "skip"
    }
   },
   "outputs": [
    {
     "data": {
      "text/html": [
       "<style>\n",
       ".text_cell_render * {\n",
       "   font-family: OfficinaSansCTT;\n",
       "}\n",
       ".reveal code {\n",
       "    font-family: OfficinaSansCTT;\n",
       "}\n",
       ".text_cell_render h3 {\n",
       "   font-family: OfficinaSansCTT;\n",
       "}\n",
       ".reveal section img {\n",
       "    max-height: 500px;\n",
       "    margin-left: auto;\n",
       "    margin-right: auto;\n",
       "}\n",
       "img[alt=lexer] {\n",
       "    height: 300px;\n",
       "}\n",
       "</style>"
      ],
      "text/plain": [
       "<IPython.core.display.HTML object>"
      ]
     },
     "metadata": {},
     "output_type": "display_data"
    }
   ],
   "source": [
    "%%html\n",
    "<style>\n",
    ".text_cell_render * {\n",
    "   font-family: OfficinaSansCTT;\n",
    "}\n",
    ".reveal code {\n",
    "    font-family: OfficinaSansCTT;\n",
    "}\n",
    ".text_cell_render h3 {\n",
    "   font-family: OfficinaSansCTT;\n",
    "}\n",
    ".reveal section img {\n",
    "    max-height: 500px;\n",
    "    margin-left: auto;\n",
    "    margin-right: auto;\n",
    "}\n",
    "img[alt=lexer] {\n",
    "    height: 300px;\n",
    "}\n",
    "</style>"
   ]
  },
  {
   "cell_type": "markdown",
   "metadata": {
    "slideshow": {
     "slide_type": "slide"
    }
   },
   "source": [
    "* Привет! Меня зовут Николай Марков. \n",
    "* Я работаю на позиции Senior Data Engineer в компании Aligned Research Group.\n",
    "* Создаю пайплайны для анализа данных.\n",
    "* Пишу на Python суммарно уже лет шесть-семь.\n",
    "* А еще мы организуем в России встречи и конференции под брендом PyData (http://pydata.org/). Присоединяйтесь: https://www.meetup.com/PyData-Moscow/\n",
    "* У меня везде один и тот же ник - @enchantner, пишите в твиттере, телеграме или фейсбуке.\n",
    "* И в http://ods.ai/ тоже заходите."
   ]
  },
  {
   "cell_type": "markdown",
   "metadata": {
    "slideshow": {
     "slide_type": "slide"
    }
   },
   "source": [
    "### Что такое Python?\n",
    "\n",
    "* Язык общего назначения\n",
    "* Интерпретируемый\n",
    "* С динамической \"утиной\" типизацией\n",
    "* С автоматическим управлением памятью и Garbage Collector'ом\n",
    "* Эталонная реализация - CPython (есть также PyPy, Jython, IronPython и т.д.)"
   ]
  },
  {
   "cell_type": "markdown",
   "metadata": {
    "slideshow": {
     "slide_type": "slide"
    }
   },
   "source": [
    "### Что можно писать на Python? Сайты и сервисы, например.\n",
    "\n",
    "![web](img/web.png \"Сайты, например\")"
   ]
  },
  {
   "cell_type": "markdown",
   "metadata": {
    "slideshow": {
     "slide_type": "slide"
    }
   },
   "source": [
    "### А также:\n",
    "\n",
    "* Оконные приложения (как ни странно)\n",
    "* Ботов для игр и Telegram\n",
    "* Приложения для анализа данных\n",
    "* Облачные платформы\n",
    "* Утилиты для администрирования\n",
    "* Что угодно еще\n"
   ]
  },
  {
   "cell_type": "markdown",
   "metadata": {
    "slideshow": {
     "slide_type": "slide"
    }
   },
   "source": [
    "### Лучше не брать Python для\n",
    "\n",
    "* Оконных приложений (как ни странно)\n",
    "* Фронтенд-задач\n",
    "* Мобильных приложений\n",
    "* Сложных распределенных систем\n"
   ]
  },
  {
   "cell_type": "markdown",
   "metadata": {
    "slideshow": {
     "slide_type": "slide"
    }
   },
   "source": [
    "### Что такое \"интерпретируемый язык\"?\n",
    "\n",
    "    1) Это как компилируемый, только быстро\n",
    "    2) Это исполняемый на виртуальной машине\n",
    "    3) Это позволяющий получить ошибки во время исполнения\n",
    "    4) Это язык, у которого зачастую есть REPL"
   ]
  },
  {
   "cell_type": "markdown",
   "metadata": {
    "slideshow": {
     "slide_type": "slide"
    }
   },
   "source": [
    "### Как происходит запуск нашей программы (скрипта)?\n",
    "\n",
    "![lexer](img/interpreter.png \"lexer\")"
   ]
  },
  {
   "cell_type": "markdown",
   "metadata": {
    "slideshow": {
     "slide_type": "slide"
    }
   },
   "source": [
    "### А что потом?\n",
    "\n",
    "![ast](img/ast.png \"AST\")"
   ]
  },
  {
   "cell_type": "markdown",
   "metadata": {
    "slideshow": {
     "slide_type": "slide"
    }
   },
   "source": [
    "### И как в конце?\n",
    "\n",
    "![bytecode](img/bytecode.png \"Bytecode\")"
   ]
  },
  {
   "cell_type": "markdown",
   "metadata": {
    "slideshow": {
     "slide_type": "slide"
    }
   },
   "source": [
    "### Давайте поставим интерпретатор Python\n",
    "\n",
    "* Экосистема Python состоит из\n",
    "    * интерпретатора и стандартной библиотеки\n",
    "    * сторонних модулей\n",
    "    * окружения и IDE\n",
    "* Python 2 умер, ставим Python 3\n",
    "* “ванильный” дистрибутив: https://www.python.org/\n",
    "* дистрибутив для data science https://www.anaconda.com/distribution/"
   ]
  },
  {
   "cell_type": "markdown",
   "metadata": {
    "slideshow": {
     "slide_type": "slide"
    }
   },
   "source": [
    "### Основные типы данных\n",
    "\n",
    "- bool (логический, True/False)\n",
    "- string/bytes (строковый)\n",
    "- int, float, complex (числовой)\n",
    "\n",
    "### Основные типы контейнеров\n",
    "\n",
    "- list (список элементов разных типов)\n",
    "- tuple (кортеж, неизменяемый список)\n",
    "- dict (словарь, набор пар ключ-значение)\n",
    "- set (множество)\n",
    "\n",
    "Еще: https://docs.python.org/3/library/datatypes.html"
   ]
  },
  {
   "cell_type": "markdown",
   "metadata": {
    "slideshow": {
     "slide_type": "slide"
    }
   },
   "source": [
    "### Что такое \"динамическая типизация\"?"
   ]
  },
  {
   "cell_type": "code",
   "execution_count": null,
   "metadata": {},
   "outputs": [],
   "source": [
    "s = 'abc'  # строка\n",
    "s = \"abc\"  # тоже строка\n",
    "n = 2  # int\n",
    "n = 3.5  # float\n",
    "\n",
    "l = []  # пустой список\n",
    "l = [1, 2, 3]  # тоже список, но с числами\n",
    "l = ['a', 1, None]  # разные типы в одном списке\n",
    "\n",
    "t = (1,) # кортеж с одним элементом (не забудьте про запятую!)\n",
    "\n",
    "d = {}  # пустой словарь\n",
    "d = {'a': 1, 'b': 2}  # словарь с парами ключ-значение\n",
    "\n",
    "s = set([1, 2])  # множество, еще можно {1, 2}"
   ]
  },
  {
   "cell_type": "code",
   "execution_count": null,
   "metadata": {},
   "outputs": [],
   "source": []
  },
  {
   "cell_type": "markdown",
   "metadata": {
    "slideshow": {
     "slide_type": "slide"
    }
   },
   "source": [
    "### Список - непрерывный кусок памяти!\n",
    "https://wiki.python.org/moin/TimeComplexity"
   ]
  },
  {
   "cell_type": "code",
   "execution_count": null,
   "metadata": {},
   "outputs": [],
   "source": [
    "l = [3,2,1]"
   ]
  },
  {
   "cell_type": "code",
   "execution_count": null,
   "metadata": {},
   "outputs": [],
   "source": [
    "len(l)  # посчитать длину списка или строки"
   ]
  },
  {
   "cell_type": "code",
   "execution_count": null,
   "metadata": {},
   "outputs": [],
   "source": [
    "sum(l)  # просуммировать элементы списка"
   ]
  },
  {
   "cell_type": "code",
   "execution_count": null,
   "metadata": {},
   "outputs": [],
   "source": [
    "sorted(l)  # вернуть отсортированный список, reverse=True для сортировки в обратном порядке"
   ]
  },
  {
   "cell_type": "code",
   "execution_count": null,
   "metadata": {
    "slideshow": {
     "slide_type": "-"
    }
   },
   "outputs": [],
   "source": [
    "max(l)  # максимальный элемент;  min(l)  # минимальный"
   ]
  },
  {
   "cell_type": "markdown",
   "metadata": {
    "slideshow": {
     "slide_type": "slide"
    }
   },
   "source": [
    "### Методы самого списка"
   ]
  },
  {
   "cell_type": "code",
   "execution_count": null,
   "metadata": {},
   "outputs": [],
   "source": [
    "l.append(9)  # добавить элемент в конец\n",
    "l.extend([3, 4, 5])  # расширить один список другим\n",
    "l.insert(3, 4)  # вставить элемент 4 в позицию 3\n",
    "l.remove(3)  # удалить первый элемент со значением 3\n",
    "l.count(3)  # посчитать число элементов со значением 3"
   ]
  },
  {
   "cell_type": "code",
   "execution_count": null,
   "metadata": {},
   "outputs": [],
   "source": []
  },
  {
   "cell_type": "markdown",
   "metadata": {
    "slideshow": {
     "slide_type": "slide"
    }
   },
   "source": [
    "### Строки, списки, срезы"
   ]
  },
  {
   "cell_type": "code",
   "execution_count": null,
   "metadata": {},
   "outputs": [],
   "source": [
    "# s - строка или список\n",
    "s = \"string\"\n",
    "s[0]  # нулевой элемент (индексация с нуля)\n",
    "s[2:4]  # элементы 2 и 3\n",
    "s[1:8:2]  # элементы 1, 3, 5, 7 (шаг 2)\n",
    "s[-1]  # обратный индекс - последний элемент\n",
    "s[::2]  # все элементы с шагом 2\n",
    "s[::-1]  # развернутая строка/список"
   ]
  },
  {
   "cell_type": "code",
   "execution_count": null,
   "metadata": {},
   "outputs": [],
   "source": []
  },
  {
   "cell_type": "markdown",
   "metadata": {},
   "source": [
    "### Разделение - объединение"
   ]
  },
  {
   "cell_type": "code",
   "execution_count": null,
   "metadata": {},
   "outputs": [],
   "source": [
    "s.split(\"a\")  # разделяем строку по \"a\"\n",
    "s.split(\"\\t\")  # разделяем строку по табуляции\n",
    "\"\\t\".join(list_of_strings)  # объединяем"
   ]
  },
  {
   "cell_type": "code",
   "execution_count": null,
   "metadata": {},
   "outputs": [],
   "source": []
  },
  {
   "cell_type": "markdown",
   "metadata": {
    "slideshow": {
     "slide_type": "slide"
    }
   },
   "source": [
    "### Попробуем сами"
   ]
  },
  {
   "cell_type": "code",
   "execution_count": null,
   "metadata": {},
   "outputs": [],
   "source": [
    "s = \"У Мэри есть овечка\"\n",
    "print(s[0] == ...)\n",
    "print(s[7:10] == ...)\n",
    "print(s[1:8:2] == ...)\n",
    "print(s[-3] == ...)\n",
    "print(s[::4] == ...)\n",
    "print(s[::-1] == ...)"
   ]
  },
  {
   "cell_type": "code",
   "execution_count": null,
   "metadata": {},
   "outputs": [],
   "source": []
  },
  {
   "cell_type": "markdown",
   "metadata": {
    "slideshow": {
     "slide_type": "slide"
    }
   },
   "source": [
    "### Циклы"
   ]
  },
  {
   "cell_type": "code",
   "execution_count": null,
   "metadata": {},
   "outputs": [],
   "source": [
    "lst = [3,2,1]\n",
    "for i in lst:  # перебираем элементы в контейнере\n",
    "    print(i)"
   ]
  },
  {
   "cell_type": "code",
   "execution_count": null,
   "metadata": {},
   "outputs": [],
   "source": [
    "for i, item in enumerate(lst):  # перебираем вместе с индексами\n",
    "    print(str(i) + \". \" + str(item))"
   ]
  },
  {
   "cell_type": "code",
   "execution_count": null,
   "metadata": {},
   "outputs": [],
   "source": [
    "for j in range(1, 10, 2):  # что напечатает?\n",
    "    print(j)"
   ]
  },
  {
   "cell_type": "markdown",
   "metadata": {
    "slideshow": {
     "slide_type": "slide"
    }
   },
   "source": [
    "### Цикл с условием останова"
   ]
  },
  {
   "cell_type": "code",
   "execution_count": null,
   "metadata": {
    "slideshow": {
     "slide_type": "-"
    }
   },
   "outputs": [],
   "source": [
    "a = 0\n",
    "while a < 100:  # проверка условия\n",
    "    a += 1  # инкремент (увеличение значения на 1)\n",
    "    print(a)\n",
    "    if a == 20:\n",
    "        break  # выход из цикла"
   ]
  },
  {
   "cell_type": "markdown",
   "metadata": {
    "slideshow": {
     "slide_type": "slide"
    }
   },
   "source": [
    "### Упражнения"
   ]
  },
  {
   "cell_type": "markdown",
   "metadata": {},
   "source": [
    "1) Для чисел от 0 до 100 вывести само число, а затем\n",
    "«fizz», если число делится на 3, и «buzz», если оно делится\n",
    "на 5.\n",
    " Подсказка: оператор взятия остатка - %\n",
    "\n",
    "2) Даны два списка равной длины с целыми числами - например, время в секундах, проведенное на сайте, для каждого пользователя в группе A/B тестирования. Нужно найти разницу между максимальным элементом первого списка и минимальным элементом второго за один проход (O(n))."
   ]
  },
  {
   "cell_type": "code",
   "execution_count": null,
   "metadata": {},
   "outputs": [],
   "source": [
    "# сгенерировать список можно, например, так:\n",
    "import random\n",
    "a = [random.randint(-10, 10) for _ in range(10)]\n",
    "b = [random.randint(-10, 10) for _ in range(10)]\n",
    "\n",
    "mx = a[0]\n",
    "mn = b[0]\n"
   ]
  },
  {
   "cell_type": "code",
   "execution_count": null,
   "metadata": {
    "slideshow": {
     "slide_type": "slide"
    }
   },
   "outputs": [],
   "source": []
  },
  {
   "cell_type": "markdown",
   "metadata": {
    "slideshow": {
     "slide_type": "slide"
    }
   },
   "source": [
    "### Set\n",
    "\n",
    "- Вставка и проверка наличия элемента - гораздо быстрее, чем в списке!\n",
    "- Все элементы уникальны\n",
    "- Элементы сортируются в Python 3.5+, но на это полагаться не стоит"
   ]
  },
  {
   "cell_type": "code",
   "execution_count": 7,
   "metadata": {},
   "outputs": [
    {
     "data": {
      "text/plain": [
       "True"
      ]
     },
     "execution_count": 7,
     "metadata": {},
     "output_type": "execute_result"
    }
   ],
   "source": [
    "s = {1, 2, 3}\n",
    "s.add(6)  # добавление элемента\n",
    "s.remove(2)  # удаление элемента\n",
    "3 in s  # проверка наличия элемента\n",
    "4 not in s  # проверка отсутствия элемента"
   ]
  },
  {
   "cell_type": "code",
   "execution_count": 12,
   "metadata": {},
   "outputs": [
    {
     "data": {
      "text/plain": [
       "{1, 2, 3, 5}"
      ]
     },
     "execution_count": 12,
     "metadata": {},
     "output_type": "execute_result"
    }
   ],
   "source": []
  },
  {
   "cell_type": "markdown",
   "metadata": {
    "slideshow": {
     "slide_type": "slide"
    }
   },
   "source": [
    "### Set как математическое множество"
   ]
  },
  {
   "cell_type": "code",
   "execution_count": 13,
   "metadata": {},
   "outputs": [
    {
     "data": {
      "text/plain": [
       "{1}"
      ]
     },
     "execution_count": 13,
     "metadata": {},
     "output_type": "execute_result"
    }
   ],
   "source": [
    "s1, s2 = {1, 2, 3}, {2, 3}\n",
    "s2.issubset(s1)  # является ли s2 подсетом s1?\n",
    "s1.issuperset(s2)  # является ли s1 суперсетом над s2?\n",
    "s1.union(s2)  # объединить два множества в одно\n",
    "s1.intersection(s2)  # пересечение множеств\n",
    "s1.difference(s2)  # разность множеств"
   ]
  },
  {
   "cell_type": "code",
   "execution_count": 14,
   "metadata": {},
   "outputs": [
    {
     "data": {
      "text/plain": [
       "{1}"
      ]
     },
     "execution_count": 14,
     "metadata": {},
     "output_type": "execute_result"
    }
   ],
   "source": [
    "# сокращенные версии (не рекомендуются к использованию)\n",
    "s2 <= s1 # можно также s1<s2\n",
    "s1 >= s2 # можно также s1>s2\n",
    "s1 | s2\n",
    "s1 & s2\n",
    "s1 - s2"
   ]
  },
  {
   "cell_type": "code",
   "execution_count": null,
   "metadata": {},
   "outputs": [],
   "source": []
  },
  {
   "cell_type": "markdown",
   "metadata": {
    "slideshow": {
     "slide_type": "slide"
    }
   },
   "source": [
    "### Dictionary\n",
    "- Структура данных - hash table (хэш-таблица)\n",
    "- На упорядоченность полагаться тоже не стоит"
   ]
  },
  {
   "cell_type": "code",
   "execution_count": null,
   "metadata": {},
   "outputs": [],
   "source": [
    "d = {\"foo\": 1, 42: \"bar\"}\n",
    "d[\"a\"] = 125  # добавить значение по ключу в словарь\n",
    "del d[\"a\"]  # удалить значение по ключу из словаря\n",
    "d.keys()  # список ключей (в Python 3 - итератор)\n",
    "d.values()  # список значений (в Python 3 - итератор)\n",
    "d.get(12, \"freedom\")  # значение по умолчанию\n",
    "d.update({42: \"zord\", \"obama\": \"trump\"})  # обновить значения из другого словаря"
   ]
  },
  {
   "cell_type": "code",
   "execution_count": 40,
   "metadata": {},
   "outputs": [
    {
     "data": {
      "text/plain": [
       "'fadgadgs'"
      ]
     },
     "execution_count": 40,
     "metadata": {},
     "output_type": "execute_result"
    }
   ],
   "source": []
  },
  {
   "cell_type": "markdown",
   "metadata": {
    "slideshow": {
     "slide_type": "slide"
    }
   },
   "source": [
    "### Шаблонизация и форматирование"
   ]
  },
  {
   "cell_type": "code",
   "execution_count": 41,
   "metadata": {},
   "outputs": [
    {
     "name": "stdout",
     "output_type": "stream",
     "text": [
      "текст домиком\n",
      "ТЕКСТ ДОМИКОМ\n"
     ]
    }
   ],
   "source": [
    "s = \"ТеКсТ ДоМиКом\"\n",
    "print(s.lower())  # нижний регистр\n",
    "print(s.upper())  # верхний регистр"
   ]
  },
  {
   "cell_type": "code",
   "execution_count": 46,
   "metadata": {},
   "outputs": [
    {
     "name": "stdout",
     "output_type": "stream",
     "text": [
      "У Пети было 15 яблок\n",
      "Что лучше - 30 ящиков пива или 20 ящиков водки?\n",
      "У Пети было дофига яблок\n"
     ]
    }
   ],
   "source": [
    "print(\"У Пети было {0} яблок\".format(15))\n",
    "print(\"Что лучше - {0} ящиков пива или {1} ящиков водки?\".format(30, 20))\n",
    "print(\"У Пети было {how_much} яблок\".format(how_much=\"дофига\"))"
   ]
  },
  {
   "cell_type": "code",
   "execution_count": 47,
   "metadata": {},
   "outputs": [
    {
     "data": {
      "text/plain": [
       "'\\nВзвесьте мне 21.35236\\nкилограмм хурмы\\n'"
      ]
     },
     "execution_count": 47,
     "metadata": {},
     "output_type": "execute_result"
    }
   ],
   "source": [
    "\"\"\"\n",
    "Взвесьте мне {0:.5f}\n",
    "килограмм хурмы\n",
    "\"\"\".format(21.35236172)"
   ]
  },
  {
   "cell_type": "markdown",
   "metadata": {
    "slideshow": {
     "slide_type": "slide"
    }
   },
   "source": [
    "### Еще пара примеров"
   ]
  },
  {
   "cell_type": "code",
   "execution_count": 49,
   "metadata": {},
   "outputs": [
    {
     "data": {
      "text/plain": [
       "'a + b = 10'"
      ]
     },
     "execution_count": 49,
     "metadata": {},
     "output_type": "execute_result"
    }
   ],
   "source": [
    "# f-строки (Python 3.6+):\n",
    "a = 2\n",
    "b = 8\n",
    "f\"a + b = {a + b}\""
   ]
  },
  {
   "cell_type": "code",
   "execution_count": 50,
   "metadata": {},
   "outputs": [
    {
     "data": {
      "text/plain": [
       "'Жили в квартире 44 веселых чижа'"
      ]
     },
     "execution_count": 50,
     "metadata": {},
     "output_type": "execute_result"
    }
   ],
   "source": [
    "# старый формат: printf-нотация:\n",
    "\"Жили в квартире %d веселых чижа\" % 44"
   ]
  },
  {
   "cell_type": "markdown",
   "metadata": {
    "slideshow": {
     "slide_type": "slide"
    }
   },
   "source": [
    "### Вопросы под конец\n",
    "\n",
    "    1. Как можно в Python реализовать структуру \"стек\"?\n",
    "    2. Какой встроенной функцией можно сгенерировать убывающую/возрастающую последовательность чисел?\n",
    "    3. Что такое \"динамическая типизация\"?\n",
    "    4. Как сразу перескочить на следующую итерацию цикла, не выполняя текущую до конца?\n",
    "    5. Как получить сразу список пар ключ-значение из словаря?"
   ]
  },
  {
   "cell_type": "markdown",
   "metadata": {
    "slideshow": {
     "slide_type": "slide"
    }
   },
   "source": [
    "### Что бы почитать?\n",
    "\n",
    "http://checkio.org/"
   ]
  },
  {
   "cell_type": "markdown",
   "metadata": {},
   "source": [
    "![books](img/books.png \"Python Books\")"
   ]
  }
 ],
 "metadata": {
  "celltoolbar": "Slideshow",
  "kernelspec": {
   "display_name": "Python 3",
   "language": "python",
   "name": "python3"
  },
  "language_info": {
   "codemirror_mode": {
    "name": "ipython",
    "version": 3
   },
   "file_extension": ".py",
   "mimetype": "text/x-python",
   "name": "python",
   "nbconvert_exporter": "python",
   "pygments_lexer": "ipython3",
   "version": "3.6.0"
  }
 },
 "nbformat": 4,
 "nbformat_minor": 2
}
