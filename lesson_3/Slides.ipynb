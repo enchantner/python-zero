{
 "cells": [
  {
   "cell_type": "code",
   "execution_count": 1,
   "metadata": {
    "slideshow": {
     "slide_type": "skip"
    }
   },
   "outputs": [
    {
     "data": {
      "text/html": [
       "<style>\n",
       ".text_cell_render * {\n",
       "   font-family: OfficinaSansCTT;\n",
       "}\n",
       ".reveal code {\n",
       "    font-family: OfficinaSansCTT;\n",
       "}\n",
       ".text_cell_render h3 {\n",
       "   font-family: OfficinaSansCTT;\n",
       "}\n",
       ".reveal section img {\n",
       "    max-height: 500px;\n",
       "    margin-left: auto;\n",
       "    margin-right: auto;\n",
       "}\n",
       "</style>"
      ],
      "text/plain": [
       "<IPython.core.display.HTML object>"
      ]
     },
     "metadata": {},
     "output_type": "display_data"
    }
   ],
   "source": [
    "%%html\n",
    "<style>\n",
    ".text_cell_render * {\n",
    "   font-family: OfficinaSansCTT;\n",
    "}\n",
    ".reveal code {\n",
    "    font-family: OfficinaSansCTT;\n",
    "}\n",
    ".text_cell_render h3 {\n",
    "   font-family: OfficinaSansCTT;\n",
    "}\n",
    ".reveal section img {\n",
    "    max-height: 500px;\n",
    "    margin-left: auto;\n",
    "    margin-right: auto;\n",
    "}\n",
    "</style>"
   ]
  },
  {
   "cell_type": "markdown",
   "metadata": {
    "slideshow": {
     "slide_type": "slide"
    }
   },
   "source": [
    "### Повторим немного пройденное\n",
    "\n",
    "    * Зачем нужен virtualenv?\n",
    "    * Какой командой ставится пакет Python?\n",
    "    * Чем ipython отличается от python?\n",
    "    * Что такое PEP8?\n",
    "    * Как импортировать и вызвать функцию из стороннего модуля?\n",
    "    * Что делает конструкция ниже?"
   ]
  },
  {
   "cell_type": "code",
   "execution_count": 2,
   "metadata": {},
   "outputs": [],
   "source": [
    "b = [\n",
    "    a ** 3 for a in range(-10, 10)\n",
    "    if a % 3 == 0\n",
    "]"
   ]
  },
  {
   "cell_type": "code",
   "execution_count": 4,
   "metadata": {},
   "outputs": [
    {
     "data": {
      "text/plain": [
       "[-729, -216, -27, 0, 27, 216, 729]"
      ]
     },
     "execution_count": 4,
     "metadata": {},
     "output_type": "execute_result"
    }
   ],
   "source": [
    "b2 = []\n",
    "for a in range(-10, 10):\n",
    "    if a % 3 == 0:\n",
    "        b2.append(a ** 3)\n",
    "b2"
   ]
  },
  {
   "cell_type": "markdown",
   "metadata": {
    "slideshow": {
     "slide_type": "slide"
    }
   },
   "source": [
    "### Разбор задачи 1\n",
    "\n",
    "https://py.checkio.org/mission/even-last/"
   ]
  },
  {
   "cell_type": "code",
   "execution_count": 9,
   "metadata": {
    "slideshow": {
     "slide_type": "slide"
    }
   },
   "outputs": [],
   "source": [
    "def checkio(arr):\n",
    "    if not arr:\n",
    "        return 0\n",
    "    return sum(arr[::2]) * arr[-1]"
   ]
  },
  {
   "cell_type": "markdown",
   "metadata": {
    "slideshow": {
     "slide_type": "slide"
    }
   },
   "source": [
    "### Разбор задачи 2\n",
    "\n",
    "https://py.checkio.org/mission/secret-message/\n",
    "\n",
    "    1. Нам не надо разбивать строку на слова, достаточно пройти по всем символам.\n",
    "    2. Как определить, что символ (строка) в верхнем регистре?"
   ]
  },
  {
   "cell_type": "code",
   "execution_count": null,
   "metadata": {
    "slideshow": {
     "slide_type": "slide"
    }
   },
   "outputs": [],
   "source": [
    "def find_message(s):\n",
    "    return \"\".join([\n",
    "        ch for ch in s if ch.isupper()\n",
    "    ])"
   ]
  },
  {
   "cell_type": "code",
   "execution_count": 10,
   "metadata": {},
   "outputs": [],
   "source": [
    "def find_message(s):\n",
    "    msg = \"\"\n",
    "    for ch in s:\n",
    "        if ch.isupper():\n",
    "            msg += ch\n",
    "    return msg"
   ]
  },
  {
   "cell_type": "code",
   "execution_count": 12,
   "metadata": {},
   "outputs": [
    {
     "data": {
      "text/plain": [
       "''"
      ]
     },
     "execution_count": 12,
     "metadata": {},
     "output_type": "execute_result"
    }
   ],
   "source": [
    "find_message(\"hello world!\")"
   ]
  },
  {
   "cell_type": "markdown",
   "metadata": {
    "slideshow": {
     "slide_type": "slide"
    }
   },
   "source": [
    "### Разбор задачи 3\n",
    "\n",
    "https://py.checkio.org/mission/digits-multiplication/"
   ]
  },
  {
   "cell_type": "code",
   "execution_count": null,
   "metadata": {
    "slideshow": {
     "slide_type": "slide"
    }
   },
   "outputs": [],
   "source": [
    "def checkio(num):\n",
    "    res = 1\n",
    "    for digit in str(num):\n",
    "        if digit != \"0\":\n",
    "            res *= int(digit)\n",
    "    return res"
   ]
  },
  {
   "cell_type": "markdown",
   "metadata": {
    "slideshow": {
     "slide_type": "slide"
    }
   },
   "source": [
    "### Разбор задачи 4\n",
    "\n",
    "https://py.checkio.org/mission/the-most-frequent/"
   ]
  },
  {
   "cell_type": "code",
   "execution_count": null,
   "metadata": {
    "slideshow": {
     "slide_type": "slide"
    }
   },
   "outputs": [],
   "source": [
    "def most_frequent(strings):\n",
    "    d = {}\n",
    "    for s in strings:\n",
    "        if s in d:\n",
    "            d[s] += 1\n",
    "        else:\n",
    "            d[s] = 1\n",
    "    mx = 1\n",
    "    res = strings[0]\n",
    "    for k, v in d.items():\n",
    "        if v > mx:\n",
    "            mx = v\n",
    "            res = k\n",
    "    return res"
   ]
  },
  {
   "cell_type": "code",
   "execution_count": 15,
   "metadata": {
    "slideshow": {
     "slide_type": "slide"
    }
   },
   "outputs": [],
   "source": [
    "from collections import Counter\n",
    "\n",
    "def most_frequent(strings):\n",
    "    return Counter(strings).most_common(1)[0][0]"
   ]
  },
  {
   "cell_type": "code",
   "execution_count": 16,
   "metadata": {},
   "outputs": [
    {
     "data": {
      "text/plain": [
       "'foo'"
      ]
     },
     "execution_count": 16,
     "metadata": {},
     "output_type": "execute_result"
    }
   ],
   "source": [
    "most_frequent([\"foo\", \"bar\", \"lol\", \"foo\", \"lol\", \"foo\"])"
   ]
  },
  {
   "cell_type": "markdown",
   "metadata": {
    "slideshow": {
     "slide_type": "slide"
    }
   },
   "source": [
    "### Работа с файлами"
   ]
  },
  {
   "cell_type": "code",
   "execution_count": null,
   "metadata": {},
   "outputs": [],
   "source": [
    "with open(\"test.txt\", \"w\") as testfile:  # открываем на запись\n",
    "    testfile.write(\"Немного текста\\n\")\n",
    "    \n",
    "with open(\"test.txt\", \"r\") as testfile2:  # открываем на чтение\n",
    "    a = testfile2.read()\n",
    "    print(a)\n",
    "    \n",
    "with open(\"test.txt\", \"r\") as testfile3: # еще бывают \"rw\", \"rb\", \"wb\", \"a+\" и т.д.\n",
    "    for line in testfile3:\n",
    "        print(line.split(\" \")[0])"
   ]
  },
  {
   "cell_type": "code",
   "execution_count": 19,
   "metadata": {
    "slideshow": {
     "slide_type": "-"
    }
   },
   "outputs": [
    {
     "name": "stdout",
     "output_type": "stream",
     "text": [
      "Немного\n"
     ]
    }
   ],
   "source": []
  },
  {
   "cell_type": "markdown",
   "metadata": {
    "slideshow": {
     "slide_type": "slide"
    }
   },
   "source": [
    "### Система контроля версий Git\n",
    "\n",
    "https://github.com/enchantner/python-zero\n",
    "\n",
    "* Скачать Git для Windows: https://git-scm.com/downloads\n",
    "* Скачать репозиторий с кодом:\n",
    "    - ***git clone git@github.com:enchantner/python-zero.git***\n",
    "* Скачать свежие обновления:\n",
    "    - ***git pull***\n",
    "* Откатить изменения, если команда выше не работает:\n",
    "    - ***git reset --hard HEAD***\n",
    "* Добавить файлы для отслеживания\n",
    "    - ***git add /path/to/file.txt***\n",
    "* Зафиксировать изменения:\n",
    "    - ***git commit -m \"what's changed\"***\n",
    "* Залить изменения:\n",
    "    - ***git push***"
   ]
  },
  {
   "cell_type": "markdown",
   "metadata": {
    "slideshow": {
     "slide_type": "slide"
    }
   },
   "source": [
    "### Больше встроенных модулей!\n",
    "\n",
    "    * os - https://docs.python.org/3/library/os.html\n",
    "    * shutil - https://docs.python.org/3/library/shutil.html\n",
    "    * sys - https://docs.python.org/3/library/sys.html\n",
    "    * subprocess - https://docs.python.org/3/library/subprocess.html\n",
    "    "
   ]
  },
  {
   "cell_type": "code",
   "execution_count": null,
   "metadata": {
    "slideshow": {
     "slide_type": "slide"
    }
   },
   "outputs": [],
   "source": [
    "import os"
   ]
  },
  {
   "cell_type": "code",
   "execution_count": null,
   "metadata": {},
   "outputs": [],
   "source": [
    "# os.listdir(\"/path/to/dir\")\n",
    "os.getcwd()  # текущий каталог\n",
    "os.mkdir(\"testdir\")   # создать каталог\n",
    "os.rmdir(\"testdir\")   # удалить пустой каталог \n",
    "os.makedirs(\"testdir/some_dir/some_other_dir\")  # создаем сразу дерево каталогов\n",
    "os.remove(\"test.txt\")  # удалить файл"
   ]
  },
  {
   "cell_type": "code",
   "execution_count": null,
   "metadata": {},
   "outputs": [],
   "source": []
  },
  {
   "cell_type": "code",
   "execution_count": null,
   "metadata": {
    "slideshow": {
     "slide_type": "slide"
    }
   },
   "outputs": [],
   "source": [
    "import shutil"
   ]
  },
  {
   "cell_type": "code",
   "execution_count": null,
   "metadata": {},
   "outputs": [],
   "source": [
    "shutil.copytree(\"testdir\", \"otherdir\")  # скопировать дерево целиком\n",
    "shutil.rmtree(\"otherdir\")   # удалить непустой каталог со всеми данными\n",
    "shutil.copyfile(\"test.txt\", \"test2.txt\") # скопировать файл\n",
    "shutil.move(\"test2.txt\", \"test3.txt\")  # переместить файл или каталог"
   ]
  },
  {
   "cell_type": "code",
   "execution_count": null,
   "metadata": {},
   "outputs": [],
   "source": []
  },
  {
   "cell_type": "code",
   "execution_count": null,
   "metadata": {
    "slideshow": {
     "slide_type": "slide"
    }
   },
   "outputs": [],
   "source": [
    "import sys"
   ]
  },
  {
   "cell_type": "code",
   "execution_count": null,
   "metadata": {},
   "outputs": [],
   "source": [
    "sys.argv  # список аргументов, с которыми вызвана команда. Первый - сама команда.\n",
    "sys.stdin  # поток ввода\n",
    "sys.stdout  # поток вывода\n",
    "sys.stderr  # поток ошибок"
   ]
  },
  {
   "cell_type": "code",
   "execution_count": null,
   "metadata": {},
   "outputs": [],
   "source": [
    "for line in sys.stdin:\n",
    "    ..."
   ]
  },
  {
   "cell_type": "code",
   "execution_count": null,
   "metadata": {
    "slideshow": {
     "slide_type": "slide"
    }
   },
   "outputs": [],
   "source": [
    "import subprocess"
   ]
  },
  {
   "cell_type": "code",
   "execution_count": null,
   "metadata": {},
   "outputs": [],
   "source": [
    "proc = subprocess.Popen(\"ls\", stdout=subprocess.PIPE, stdin=subprocess.PIPE)\n",
    "outs, errs = proc.communicate()\n",
    "print(outs)\n",
    "print(errs)"
   ]
  },
  {
   "cell_type": "code",
   "execution_count": null,
   "metadata": {},
   "outputs": [],
   "source": []
  },
  {
   "cell_type": "markdown",
   "metadata": {
    "slideshow": {
     "slide_type": "slide"
    }
   },
   "source": [
    "### Форматы данных - JSON"
   ]
  },
  {
   "cell_type": "markdown",
   "metadata": {},
   "source": [
    "```json\n",
    "{\n",
    "  \"glossary\": {\n",
    "    \"title\": \"example glossary\",\n",
    "    \"GlossDiv\": {\n",
    "      \"title\": \"S\",\n",
    "      \"GlossList\": {\n",
    "        \"GlossEntry\": {\n",
    "          \"ID\": \"SGML\",\n",
    "          \"SortAs\": \"SGML\",\n",
    "          \"GlossTerm\": \"Standard Generalized Markup Language\",\n",
    "          \"Acronym\": \"SGML\",\n",
    "          \"Abbrev\": \"ISO 8879:1986\",\n",
    "          \"GlossDef\": {\n",
    "            \"para\": \"A meta-markup language, used to create markup languages such as DocBook.\",\n",
    "            \"GlossSeeAlso\": [\n",
    "              \"GML\",\n",
    "              \"XML\"\n",
    "            ]\n",
    "          },\n",
    "          \"GlossSee\": \"markup\"\n",
    "        }\n",
    "      }\n",
    "    }\n",
    "  }\n",
    "}\n",
    "```"
   ]
  },
  {
   "cell_type": "code",
   "execution_count": null,
   "metadata": {
    "slideshow": {
     "slide_type": "slide"
    }
   },
   "outputs": [],
   "source": [
    "import json\n",
    "\n",
    "d = json.loads(a)    # превратить строку в словарь\n",
    "s = json.dumps(d, indent=4)   # превратить словарь обратно в строку\n",
    "print(s)"
   ]
  },
  {
   "cell_type": "markdown",
   "metadata": {
    "slideshow": {
     "slide_type": "slide"
    }
   },
   "source": [
    "### Форматы данных - YAML\n",
    "\n",
    "***pip install pyyaml***"
   ]
  },
  {
   "cell_type": "markdown",
   "metadata": {
    "slideshow": {
     "slide_type": "-"
    }
   },
   "source": [
    "```yaml\n",
    "-  nikolay:\n",
    "    name: Nikolay Markov\n",
    "    job: Senior Data Engineer\n",
    "    skills:\n",
    "      - python\n",
    "      - go\n",
    "      - scala\n",
    "-  vasily:\n",
    "    name: Vasily Poupkine\n",
    "    job: Product Manager\n",
    "    skills:\n",
    "      - talk\n",
    "      - eat\n",
    "      - sleep\n",
    "```"
   ]
  },
  {
   "cell_type": "code",
   "execution_count": null,
   "metadata": {
    "slideshow": {
     "slide_type": "slide"
    }
   },
   "outputs": [],
   "source": [
    "import yaml\n",
    "a = ...\n",
    "yaml.load(a)"
   ]
  },
  {
   "cell_type": "markdown",
   "metadata": {
    "slideshow": {
     "slide_type": "slide"
    }
   },
   "source": [
    "### Форматы данных - HTML\n",
    "\n",
    "***pip install bs4 lxml***"
   ]
  },
  {
   "cell_type": "markdown",
   "metadata": {},
   "source": [
    "```html\n",
    "<html>\n",
    "    <body>\n",
    "        <div class=\"container\">\n",
    "            <h2 align='center'>header</h2>\n",
    "            <section>Some text here</section>\n",
    "        </div>\n",
    "        <ul>\n",
    "            <li class=\"first\">First choice</li>\n",
    "            <li>Second choice</li>\n",
    "        </ul>\n",
    "    </body>\n",
    "</html>\n",
    "```"
   ]
  },
  {
   "cell_type": "code",
   "execution_count": null,
   "metadata": {
    "slideshow": {
     "slide_type": "slide"
    }
   },
   "outputs": [],
   "source": [
    "from bs4 import BeautifulSoup\n",
    "\n",
    "text = ...\n",
    "soup = BeautifulSoup(text, \"lxml\")"
   ]
  },
  {
   "cell_type": "code",
   "execution_count": null,
   "metadata": {},
   "outputs": [],
   "source": [
    "soup.find_all(\"li\")[0].text\n",
    "soup.find(\"h2\", {\"align\": \"center\"}).text"
   ]
  },
  {
   "cell_type": "markdown",
   "metadata": {
    "slideshow": {
     "slide_type": "slide"
    }
   },
   "source": [
    "### Достаем содержимое сайта\n",
    "\n",
    "***pip install requests***"
   ]
  },
  {
   "cell_type": "code",
   "execution_count": null,
   "metadata": {},
   "outputs": [],
   "source": [
    "import requests\n",
    "\n",
    "resp = requests.get(\"http://python.org\")"
   ]
  },
  {
   "cell_type": "code",
   "execution_count": null,
   "metadata": {},
   "outputs": [],
   "source": [
    "soup = BeautifulSoup(resp.text, \"lxml\")"
   ]
  },
  {
   "cell_type": "markdown",
   "metadata": {
    "slideshow": {
     "slide_type": "slide"
    }
   },
   "source": [
    "### Задача на парсинг\n",
    "\n",
    "Давайте достанем текст превью к первой новости на сайте http://python.org"
   ]
  },
  {
   "cell_type": "code",
   "execution_count": null,
   "metadata": {},
   "outputs": [],
   "source": []
  },
  {
   "cell_type": "markdown",
   "metadata": {
    "slideshow": {
     "slide_type": "slide"
    }
   },
   "source": [
    "### На дом\n",
    "\n",
    "    * Настроить Git, скачать репозиторий\n",
    "    * Почитать про регулярные выражения, подробно обсудим на следующем занятии\n",
    "    * https://py.checkio.org/mission/non-unique-elements/\n",
    "    * https://py.checkio.org/mission/house-password/\n",
    "    * https://py.checkio.org/mission/x-o-referee/"
   ]
  },
  {
   "cell_type": "code",
   "execution_count": null,
   "metadata": {},
   "outputs": [],
   "source": []
  }
 ],
 "metadata": {
  "celltoolbar": "Slideshow",
  "kernelspec": {
   "display_name": "Python 3",
   "language": "python",
   "name": "python3"
  },
  "language_info": {
   "codemirror_mode": {
    "name": "ipython",
    "version": 3
   },
   "file_extension": ".py",
   "mimetype": "text/x-python",
   "name": "python",
   "nbconvert_exporter": "python",
   "pygments_lexer": "ipython3",
   "version": "3.6.0"
  }
 },
 "nbformat": 4,
 "nbformat_minor": 2
}
