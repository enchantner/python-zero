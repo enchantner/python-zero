{
 "cells": [
  {
   "cell_type": "code",
   "execution_count": 1,
   "metadata": {
    "slideshow": {
     "slide_type": "skip"
    }
   },
   "outputs": [
    {
     "data": {
      "text/html": [
       "<style>\n",
       ".text_cell_render * {\n",
       "   font-family: OfficinaSansCTT;\n",
       "}\n",
       ".reveal code {\n",
       "    font-family: OfficinaSansCTT;\n",
       "}\n",
       ".text_cell_render h3 {\n",
       "   font-family: OfficinaSansCTT;\n",
       "}\n",
       ".reveal section img {\n",
       "    max-height: 500px;\n",
       "    margin-left: auto;\n",
       "    margin-right: auto;\n",
       "}\n",
       "</style>"
      ],
      "text/plain": [
       "<IPython.core.display.HTML object>"
      ]
     },
     "metadata": {},
     "output_type": "display_data"
    }
   ],
   "source": [
    "%%html\n",
    "<style>\n",
    ".text_cell_render * {\n",
    "   font-family: OfficinaSansCTT;\n",
    "}\n",
    ".reveal code {\n",
    "    font-family: OfficinaSansCTT;\n",
    "}\n",
    ".text_cell_render h3 {\n",
    "   font-family: OfficinaSansCTT;\n",
    "}\n",
    ".reveal section img {\n",
    "    max-height: 500px;\n",
    "    margin-left: auto;\n",
    "    margin-right: auto;\n",
    "}\n",
    "</style>"
   ]
  },
  {
   "cell_type": "markdown",
   "metadata": {
    "slideshow": {
     "slide_type": "slide"
    }
   },
   "source": [
    "### Повторим немного пройденное\n",
    "\n",
    "    * Зачем нужен virtualenv?\n",
    "    * Какой командой ставится пакет Python?\n",
    "    * Чем ipython отличается от python?\n",
    "    * Что такое PEP8?\n",
    "    * Как импортировать и вызвать функцию из стороннего модуля?\n",
    "    * Что делает конструкция ниже?"
   ]
  },
  {
   "cell_type": "code",
   "execution_count": 2,
   "metadata": {},
   "outputs": [],
   "source": [
    "b = [\n",
    "    a ** 3 for a in range(-10, 10)\n",
    "    if a % 3 == 0\n",
    "]"
   ]
  },
  {
   "cell_type": "code",
   "execution_count": 4,
   "metadata": {},
   "outputs": [
    {
     "data": {
      "text/plain": [
       "[-729, -216, -27, 0, 27, 216, 729]"
      ]
     },
     "execution_count": 4,
     "metadata": {},
     "output_type": "execute_result"
    }
   ],
   "source": [
    "b2 = []\n",
    "for a in range(-10, 10):\n",
    "    if a % 3 == 0:\n",
    "        b2.append(a ** 3)\n",
    "b2"
   ]
  },
  {
   "cell_type": "markdown",
   "metadata": {
    "slideshow": {
     "slide_type": "slide"
    }
   },
   "source": [
    "### Разбор задачи 1\n",
    "\n",
    "https://py.checkio.org/mission/even-last/"
   ]
  },
  {
   "cell_type": "code",
   "execution_count": 9,
   "metadata": {
    "slideshow": {
     "slide_type": "slide"
    }
   },
   "outputs": [],
   "source": [
    "def checkio(arr):\n",
    "    if not arr:\n",
    "        return 0\n",
    "    return sum(arr[::2]) * arr[-1]"
   ]
  },
  {
   "cell_type": "markdown",
   "metadata": {
    "slideshow": {
     "slide_type": "slide"
    }
   },
   "source": [
    "### Разбор задачи 2\n",
    "\n",
    "https://py.checkio.org/mission/secret-message/\n",
    "\n",
    "    1. Нам не надо разбивать строку на слова, достаточно пройти по всем символам.\n",
    "    2. Как определить, что символ (строка) в верхнем регистре?"
   ]
  },
  {
   "cell_type": "code",
   "execution_count": null,
   "metadata": {
    "slideshow": {
     "slide_type": "slide"
    }
   },
   "outputs": [],
   "source": [
    "def find_message(s):\n",
    "    return \"\".join([\n",
    "        ch for ch in s if ch.isupper()\n",
    "    ])"
   ]
  },
  {
   "cell_type": "code",
   "execution_count": 10,
   "metadata": {},
   "outputs": [],
   "source": [
    "def find_message(s):\n",
    "    msg = \"\"\n",
    "    for ch in s:\n",
    "        if ch.isupper():\n",
    "            msg += ch\n",
    "    return msg"
   ]
  },
  {
   "cell_type": "code",
   "execution_count": 12,
   "metadata": {},
   "outputs": [
    {
     "data": {
      "text/plain": [
       "''"
      ]
     },
     "execution_count": 12,
     "metadata": {},
     "output_type": "execute_result"
    }
   ],
   "source": [
    "find_message(\"hello world!\")"
   ]
  },
  {
   "cell_type": "markdown",
   "metadata": {
    "slideshow": {
     "slide_type": "slide"
    }
   },
   "source": [
    "### Разбор задачи 3\n",
    "\n",
    "https://py.checkio.org/mission/digits-multiplication/"
   ]
  },
  {
   "cell_type": "code",
   "execution_count": null,
   "metadata": {
    "slideshow": {
     "slide_type": "slide"
    }
   },
   "outputs": [],
   "source": [
    "def checkio(num):\n",
    "    res = 1\n",
    "    for digit in str(num):\n",
    "        if digit != \"0\":\n",
    "            res *= int(digit)\n",
    "    return res"
   ]
  },
  {
   "cell_type": "markdown",
   "metadata": {
    "slideshow": {
     "slide_type": "slide"
    }
   },
   "source": [
    "### Разбор задачи 4\n",
    "\n",
    "https://py.checkio.org/mission/the-most-frequent/"
   ]
  },
  {
   "cell_type": "code",
   "execution_count": null,
   "metadata": {
    "slideshow": {
     "slide_type": "slide"
    }
   },
   "outputs": [],
   "source": [
    "def most_frequent(strings):\n",
    "    d = {}\n",
    "    for s in strings:\n",
    "        if s in d:\n",
    "            d[s] += 1\n",
    "        else:\n",
    "            d[s] = 1\n",
    "    mx = 1\n",
    "    res = strings[0]\n",
    "    for k, v in d.items():\n",
    "        if v > mx:\n",
    "            mx = v\n",
    "            res = k\n",
    "    return res"
   ]
  },
  {
   "cell_type": "code",
   "execution_count": 15,
   "metadata": {
    "slideshow": {
     "slide_type": "slide"
    }
   },
   "outputs": [],
   "source": [
    "from collections import Counter\n",
    "\n",
    "def most_frequent(strings):\n",
    "    return Counter(strings).most_common(1)[0][0]"
   ]
  },
  {
   "cell_type": "code",
   "execution_count": 16,
   "metadata": {},
   "outputs": [
    {
     "data": {
      "text/plain": [
       "'foo'"
      ]
     },
     "execution_count": 16,
     "metadata": {},
     "output_type": "execute_result"
    }
   ],
   "source": [
    "most_frequent([\"foo\", \"bar\", \"lol\", \"foo\", \"lol\", \"foo\"])"
   ]
  },
  {
   "cell_type": "markdown",
   "metadata": {
    "slideshow": {
     "slide_type": "slide"
    }
   },
   "source": [
    "### Работа с файлами"
   ]
  },
  {
   "cell_type": "code",
   "execution_count": null,
   "metadata": {},
   "outputs": [],
   "source": [
    "with open(\"test.txt\", \"w\") as testfile:  # открываем на запись\n",
    "    testfile.write(\"Немного текста\\n\")\n",
    "    \n",
    "with open(\"test.txt\", \"r\") as testfile2:  # открываем на чтение\n",
    "    a = testfile2.read()\n",
    "    print(a)\n",
    "    \n",
    "with open(\"test.txt\", \"r\") as testfile3: # еще бывают \"rw\", \"rb\", \"wb\", \"a+\" и т.д.\n",
    "    for line in testfile3:\n",
    "        print(line.split(\" \")[0])"
   ]
  },
  {
   "cell_type": "code",
   "execution_count": 38,
   "metadata": {
    "slideshow": {
     "slide_type": "-"
    }
   },
   "outputs": [],
   "source": [
    "with open(\"test.txt\", \"w\") as testfile:  # открываем на запись\n",
    "    testfile.write(\"Немного текста\\n\")"
   ]
  },
  {
   "cell_type": "markdown",
   "metadata": {
    "slideshow": {
     "slide_type": "slide"
    }
   },
   "source": [
    "### Система контроля версий Git\n",
    "\n",
    "https://github.com/enchantner/python-zero\n",
    "\n",
    "* Скачать Git для Windows: https://git-scm.com/downloads\n",
    "* Скачать репозиторий с кодом:\n",
    "    - ***git clone git@github.com:enchantner/python-zero.git***\n",
    "* Скачать свежие обновления:\n",
    "    - ***cd python-zero***\n",
    "    - ***git pull***\n",
    "* Откатить изменения, если команда выше не работает:\n",
    "    - ***git reset --hard HEAD***\n",
    "* Добавить файлы для отслеживания\n",
    "    - ***git add /path/to/file.txt***\n",
    "* Зафиксировать изменения:\n",
    "    - ***git commit -m \"what's changed\"***\n",
    "* Залить изменения:\n",
    "    - ***git push***"
   ]
  },
  {
   "cell_type": "markdown",
   "metadata": {
    "slideshow": {
     "slide_type": "slide"
    }
   },
   "source": [
    "### Больше встроенных модулей!\n",
    "\n",
    "    * os - https://docs.python.org/3/library/os.html\n",
    "    * shutil - https://docs.python.org/3/library/shutil.html\n",
    "    * sys - https://docs.python.org/3/library/sys.html\n",
    "    * subprocess - https://docs.python.org/3/library/subprocess.html\n",
    "    "
   ]
  },
  {
   "cell_type": "code",
   "execution_count": 20,
   "metadata": {
    "slideshow": {
     "slide_type": "slide"
    }
   },
   "outputs": [],
   "source": [
    "import os"
   ]
  },
  {
   "cell_type": "code",
   "execution_count": null,
   "metadata": {},
   "outputs": [],
   "source": [
    "# os.listdir(\"/path/to/dir\")\n",
    "os.getcwd()  # текущий каталог\n",
    "os.mkdir(\"testdir\")   # создать каталог\n",
    "os.rmdir(\"testdir\")   # удалить пустой каталог \n",
    "os.makedirs(\"testdir/some_dir/some_other_dir\")  # создаем сразу дерево каталогов\n",
    "os.remove(\"test.txt\")  # удалить файл, аналог os.unlink(\"test.txt\")"
   ]
  },
  {
   "cell_type": "code",
   "execution_count": 32,
   "metadata": {},
   "outputs": [
    {
     "name": "stdout",
     "output_type": "stream",
     "text": [
      "['.DS_Store', '.ipynb_checkpoints', 'Slides.ipynb', 'testdir']\n"
     ]
    }
   ],
   "source": [
    "os.remove(\"test.txt\")  \n",
    "print(os.listdir(\".\"))"
   ]
  },
  {
   "cell_type": "code",
   "execution_count": 33,
   "metadata": {
    "slideshow": {
     "slide_type": "slide"
    }
   },
   "outputs": [],
   "source": [
    "import shutil"
   ]
  },
  {
   "cell_type": "code",
   "execution_count": null,
   "metadata": {},
   "outputs": [],
   "source": [
    "shutil.copytree(\"testdir\", \"otherdir\")  # скопировать дерево целиком\n",
    "shutil.rmtree(\"otherdir\")   # удалить непустой каталог со всеми данными\n",
    "shutil.copyfile(\"test.txt\", \"test2.txt\") # скопировать файл\n",
    "shutil.move(\"test2.txt\", \"test3.txt\")  # переместить файл или каталог"
   ]
  },
  {
   "cell_type": "code",
   "execution_count": null,
   "metadata": {},
   "outputs": [],
   "source": []
  },
  {
   "cell_type": "code",
   "execution_count": 42,
   "metadata": {
    "slideshow": {
     "slide_type": "slide"
    }
   },
   "outputs": [],
   "source": [
    "import sys"
   ]
  },
  {
   "cell_type": "code",
   "execution_count": null,
   "metadata": {},
   "outputs": [],
   "source": [
    "sys.argv  # список аргументов, с которыми вызвана команда. Первый - сама команда.\n",
    "sys.stdin  # поток ввода\n",
    "sys.stdout  # поток вывода\n",
    "sys.stderr  # поток ошибок"
   ]
  },
  {
   "cell_type": "code",
   "execution_count": 43,
   "metadata": {},
   "outputs": [
    {
     "data": {
      "text/plain": [
       "['/Users/enchantner/.virtualenvs/da/lib/python3.6/site-packages/ipykernel_launcher.py',\n",
       " '-f',\n",
       " '/Users/enchantner/Library/Jupyter/runtime/kernel-2fb0f591-2b9c-482d-820f-b5485fbd4119.json']"
      ]
     },
     "execution_count": 43,
     "metadata": {},
     "output_type": "execute_result"
    }
   ],
   "source": []
  },
  {
   "cell_type": "code",
   "execution_count": 44,
   "metadata": {
    "slideshow": {
     "slide_type": "slide"
    }
   },
   "outputs": [],
   "source": [
    "import subprocess"
   ]
  },
  {
   "cell_type": "code",
   "execution_count": 52,
   "metadata": {},
   "outputs": [
    {
     "name": "stdout",
     "output_type": "stream",
     "text": [
      "b'Slides.ipynb\\nscript.py\\ntest.txt\\ntest3.txt\\n'\n",
      "b''\n"
     ]
    }
   ],
   "source": [
    "proc = subprocess.Popen(\"ls\", stdout=subprocess.PIPE, stdin=subprocess.PIPE, stderr=subprocess.PIPE)\n",
    "outs, errs = proc.communicate()\n",
    "print(outs)\n",
    "print(errs)"
   ]
  },
  {
   "cell_type": "code",
   "execution_count": 46,
   "metadata": {},
   "outputs": [
    {
     "data": {
      "text/plain": [
       "<subprocess.Popen at 0x1054707f0>"
      ]
     },
     "execution_count": 46,
     "metadata": {},
     "output_type": "execute_result"
    }
   ],
   "source": []
  },
  {
   "cell_type": "markdown",
   "metadata": {
    "slideshow": {
     "slide_type": "slide"
    }
   },
   "source": [
    "### Форматы данных - JSON"
   ]
  },
  {
   "cell_type": "markdown",
   "metadata": {},
   "source": [
    "```json\n",
    "{\n",
    "  \"glossary\": {\n",
    "    \"title\": \"example glossary\",\n",
    "    \"GlossDiv\": {\n",
    "      \"title\": \"S\",\n",
    "      \"GlossList\": {\n",
    "        \"GlossEntry\": {\n",
    "          \"ID\": 572,\n",
    "          \"SortAs\": \"SGML\",\n",
    "          \"GlossTerm\": \"Standard Generalized Markup Language\",\n",
    "          \"Acronym\": \"SGML\",\n",
    "          \"Abbrev\": \"ISO 8879:1986\",\n",
    "          \"GlossDef\": {\n",
    "            \"para\": \"A meta-markup language, used to create markup languages such as DocBook.\",\n",
    "            \"GlossSeeAlso\": [\n",
    "              \"GML\",\n",
    "              \"XML\"\n",
    "            ]\n",
    "          },\n",
    "          \"GlossSee\": \"markup\"\n",
    "        }\n",
    "      }\n",
    "    }\n",
    "  }\n",
    "}\n",
    "```"
   ]
  },
  {
   "cell_type": "code",
   "execution_count": 53,
   "metadata": {
    "slideshow": {
     "slide_type": "slide"
    }
   },
   "outputs": [],
   "source": []
  },
  {
   "cell_type": "code",
   "execution_count": 64,
   "metadata": {
    "slideshow": {
     "slide_type": "-"
    }
   },
   "outputs": [],
   "source": [
    "import json\n",
    "\n",
    "d = json.loads(a)    # превратить строку в словарь\n",
    "# print(d['glossary']['GlossDiv'])\n",
    "s = json.dumps(d)   # превратить словарь обратно в строку"
   ]
  },
  {
   "cell_type": "markdown",
   "metadata": {
    "slideshow": {
     "slide_type": "slide"
    }
   },
   "source": [
    "### Форматы данных - YAML\n",
    "\n",
    "***pip install pyyaml***"
   ]
  },
  {
   "cell_type": "markdown",
   "metadata": {
    "slideshow": {
     "slide_type": "-"
    }
   },
   "source": [
    "```yaml\n",
    "-  nikolay:\n",
    "    name: Nikolay Markov\n",
    "    job: Senior Data Engineer\n",
    "    skills:\n",
    "      - python\n",
    "      - go\n",
    "      - scala\n",
    "-  vasily:\n",
    "    name: Vasily Poupkine\n",
    "    job: Product Manager\n",
    "    skills:\n",
    "      - talk\n",
    "      - eat\n",
    "      - sleep\n",
    "```"
   ]
  },
  {
   "cell_type": "code",
   "execution_count": 66,
   "metadata": {
    "slideshow": {
     "slide_type": "slide"
    }
   },
   "outputs": [
    {
     "data": {
      "text/plain": [
       "{'glossary': {'GlossDiv': {'GlossList': {'GlossEntry': {'Abbrev': 'ISO 8879:1986',\n",
       "     'Acronym': 'SGML',\n",
       "     'GlossDef': {'GlossSeeAlso': ['GML', 'XML'],\n",
       "      'para': 'A meta-markup language, used to create markup languages such as DocBook.'},\n",
       "     'GlossSee': 'markup',\n",
       "     'GlossTerm': 'Standard Generalized Markup Language',\n",
       "     'ID': 572,\n",
       "     'SortAs': 'SGML'}},\n",
       "   'title': 'S'},\n",
       "  'title': 'example glossary'}}"
      ]
     },
     "execution_count": 66,
     "metadata": {},
     "output_type": "execute_result"
    }
   ],
   "source": [
    "import yaml\n",
    "a = ...\n",
    "yaml.load(a)"
   ]
  },
  {
   "cell_type": "markdown",
   "metadata": {
    "slideshow": {
     "slide_type": "slide"
    }
   },
   "source": [
    "### Форматы данных - HTML\n",
    "\n",
    "***pip install bs4 lxml***"
   ]
  },
  {
   "cell_type": "markdown",
   "metadata": {},
   "source": [
    "```html\n",
    "<html>\n",
    "    <body>\n",
    "        <div class=\"container\">\n",
    "            <h2 align='center'>header</h2>\n",
    "            <section>Some text here</section>\n",
    "        </div>\n",
    "        <ul>\n",
    "            <li class=\"first\">First choice</li>\n",
    "            <li>Second choice</li>\n",
    "        </ul>\n",
    "    </body>\n",
    "</html>\n",
    "```"
   ]
  },
  {
   "cell_type": "code",
   "execution_count": 87,
   "metadata": {
    "slideshow": {
     "slide_type": "slide"
    }
   },
   "outputs": [],
   "source": [
    "from bs4 import BeautifulSoup as BS\n",
    "\n",
    "text = \"\"\"<html>\n",
    "    <body>\n",
    "        <div class=\"container\">\n",
    "            <h2 align='center'>Some cool text</h2>\n",
    "            <section>Some text here</section>\n",
    "        </div>\n",
    "        <ul>\n",
    "            <li class=\"first\">First choice</li>\n",
    "            <li>Second choice</li>\n",
    "        </ul>\n",
    "    </body>\n",
    "</html>\"\"\"\n",
    "soup = BS(text, \"lxml\")"
   ]
  },
  {
   "cell_type": "code",
   "execution_count": 89,
   "metadata": {},
   "outputs": [
    {
     "data": {
      "text/plain": [
       "'Some cool text'"
      ]
     },
     "execution_count": 89,
     "metadata": {},
     "output_type": "execute_result"
    }
   ],
   "source": [
    "# soup.find_all(\"li\")[0].text\n",
    "soup.find(\"div\", {\"class\": \"container\"}).find(\"h2\", {\"align\": \"center\"}).text"
   ]
  },
  {
   "cell_type": "markdown",
   "metadata": {
    "slideshow": {
     "slide_type": "slide"
    }
   },
   "source": [
    "### Достаем содержимое сайта\n",
    "\n",
    "***pip install requests***"
   ]
  },
  {
   "cell_type": "code",
   "execution_count": 99,
   "metadata": {},
   "outputs": [],
   "source": [
    "import requests\n",
    "\n",
    "resp = requests.get(\"http://python.org\")"
   ]
  },
  {
   "cell_type": "code",
   "execution_count": 100,
   "metadata": {},
   "outputs": [
    {
     "data": {
      "text/plain": [
       "'<!DOCTYPE html>\\n<html class=\\'v2\\' dir=\\'ltr\\' xmlns=\\'http://www.w3.org/1999/xhtml\\' xmlns:b=\\'http://www.google.com/2005/gml/b\\' xmlns:data=\\'http://www.google.com/2005/gml/data\\' xmlns:expr=\\'http://www.google.com/2005/gml/expr\\'>\\n<head>\\n<link href=\\'https://www.blogger.com/static/v1/widgets/3213516723-css_bundle_v2.css\\' rel=\\'stylesheet\\' type=\\'text/css\\'/>\\n<meta content=\\'text/html; charset=UTF-8\\' http-equiv=\\'Content-Type\\'/>\\n<meta content=\\'blogger\\' name=\\'generator\\'/>\\n<link href=\\'http://blog.python.org/favicon.ico\\' rel=\\'icon\\' type=\\'image/x-icon\\'/>\\n<link href=\\'http://blog.python.org/2017/10/python-370a2-now-available-for-testing.html\\' rel=\\'canonical\\'/>\\n<link rel=\"alternate\" type=\"application/atom+xml\" title=\"Python Insider - Atom\" href=\"http://blog.python.org/feeds/posts/default\" />\\n<link rel=\"alternate\" type=\"application/rss+xml\" title=\"Python Insider - RSS\" href=\"http://blog.python.org/feeds/posts/default?alt=rss\" />\\n<link rel=\"service.post\" type=\"application/atom+xml\" title=\"Python Insider - Atom\" href=\"https://www.blogger.com/feeds/3941553907430899163/posts/default\" />\\n\\n<link rel=\"alternate\" type=\"application/atom+xml\" title=\"Python Insider - Atom\" href=\"http://blog.python.org/feeds/2780261418574198189/comments/default\" />\\n<!--[if IE]><script type=\"text/javascript\" src=\"https://www.blogger.com/static/v1/jsbin/3858758734-ieretrofit.js\"></script>\\n<![endif]-->\\n<meta content=\\'http://blog.python.org/2017/10/python-370a2-now-available-for-testing.html\\' property=\\'og:url\\'/>\\n<meta content=\\'Python 3.7.0a2 now available for testing\\' property=\\'og:title\\'/>\\n<meta content=\\'Python\\xa0 3.7.0a2 \\xa0is the second of four planned alpha releases of Python 3.7,  the next feature release of Python. \\xa0During the alpha phase, P...\\' property=\\'og:description\\'/>\\n<!--[if IE]> <script> (function() { var html5 = (\"abbr,article,aside,audio,canvas,datalist,details,\" + \"figure,footer,header,hgroup,mark,menu,meter,nav,output,\" + \"progress,section,time,video\").split(\\',\\'); for (var i = 0; i < html5.length; i++) { document.createElement(html5[i]); } try { document.execCommand(\\'BackgroundImageCache\\', false, true); } catch(e) {} })(); </script> <![endif]-->\\n<title>Python Insider: Python 3.7.0a2 now available for testing</title>\\n<meta name=\\'author\\' value=\\'Marcin Wojtczuk\\'/>\\n<style id=\\'page-skin-1\\' type=\\'text/css\\'><!--\\n\\n--></style>\\n<style id=\\'template-skin-1\\' type=\\'text/css\\'><!--\\n\\n--></style>\\n<!--[if lt IE 9]> <script src=\"http://html5shiv.googlecode.com/svn/trunk/html5.js\"></script> <![endif]-->\\n<style type=\\'text/css\\'>\\nbody {\\n  font-family: Arial,Tahoma,Helvetica,FreeSans,sans-serif;\\n  font-size: 12px;\\n  color: #111;\\n  background:#3272ac;\\n\\n  background-image: -webkit-gradient(\\n    linear,\\n    left bottom,\\n    left top,\\n    color-stop(0.21, rgb(50,114,172)),\\n    color-stop(0.84, rgb(250,229,164))\\n);\\nbackground-image: -moz-linear-gradient(\\n    center bottom,\\n    #3272ac 21%,\\n    #fae5a4 84%\\n);\\n\\nbackground-repeat:no-repeat;\\n}\\n\\nh2 {font-size: 1em; }\\nh3 { font-size: 1.2em}\\n\\n#wholeC {\\n  background-color:#fff;\\n  width: 90%;\\n  margin: 0 auto 2em auto;\\n}\\n\\n#cmain {\\n  float:left;\\n  width: 68%;\\n  padding:0;\\n  margin: 2em 0 2em 2%;\\n}\\n#cside {\\n  float:right;\\n  width: 23%;\\n  margin-right: 2%;\\n  margin-top: 2em;\\n  margin-bottom: 3em;\\n  padding-bottom: 3em;\\n  font-size: 0.95em;\\n}\\n#cside a {\\nfont-size: 0.95em\\n}\\n#cside h2 {\\ntext-transform:uppercase;\\ncolor: #715707\\n}\\n\\na { color: #142f46 }\\na:hover { color: #557 }\\na:visited { color: #334 }\\n\\nh2.date-header { font-size: 13px; }\\nh3.post-title { font-size: 16px; margin-bottom: 1em; }\\n\\ndiv.date-outer {\\n/* blog post container */\\nmargin: 0 0 2em 0;\\npadding: 0;\\nfont-size:13px;\\nline-height:133%;\\n}\\n\\nheader#chead {\\ndisplay: block;\\nmargin: 0 auto 1em auto;\\npadding: 0;\\nwidth: 70%;\\nheight:145px;\\noverflow: hidden;\\ncolor: #222;\\nbackground: #fff;\\nborder-bottom: 1px solid #ddd; \\n\\n}\\n#Header1 {\\nfont-size:16px;\\n}\\n#Header1 .description {\\nposition:relative;\\ntop: -35px;\\nleft: 116px;\\n}\\n\\n.wshad {\\n    padding: 2em 8px;\\n    border: 1px solid #99A;\\n    -moz-box-shadow: 0 5px 10px #222;\\n    -webkit-box-shadow: 0 5px 10px #222;\\n    box-shadow: 0 5px 10px #222;\\n}\\n\\n.post-footer {\\nborder-top:1px outset #ddd;border-right:1px inset #ddd;\\nbackground-color: #f5f5f5;\\npadding: 10px 5px;\\nposition:relative;\\nleft:-1.2em;\\nopacity: 0.75;\\nfont-size:0.9em;\\n}\\n\\n</style>\\n<link href=\\'https://www.blogger.com/dyn-css/authorization.css?targetBlogID=3941553907430899163&amp;zx=f32c6e81-a6c4-4fc4-87eb-5e3c70cff210\\' media=\\'none\\' onload=\\'if(media!=&#39;all&#39;)media=&#39;all&#39;\\' rel=\\'stylesheet\\'/><noscript><link href=\\'https://www.blogger.com/dyn-css/authorization.css?targetBlogID=3941553907430899163&amp;zx=f32c6e81-a6c4-4fc4-87eb-5e3c70cff210\\' rel=\\'stylesheet\\'/></noscript>\\n</head>\\n<body>\\n<div class=\\'navbar section\\' id=\\'navbar\\'><div class=\\'widget Navbar\\' data-version=\\'1\\' id=\\'Navbar1\\'><script type=\"text/javascript\">\\n    function setAttributeOnload(object, attribute, val) {\\n      if(window.addEventListener) {\\n        window.addEventListener(\\'load\\',\\n          function(){ object[attribute] = val; }, false);\\n      } else {\\n        window.attachEvent(\\'onload\\', function(){ object[attribute] = val; });\\n      }\\n    }\\n  </script>\\n<div id=\"navbar-iframe-container\"></div>\\n<script type=\"text/javascript\" src=\"https://apis.google.com/js/plusone.js\"></script>\\n<script type=\"text/javascript\">\\n      gapi.load(\"gapi.iframes:gapi.iframes.style.bubble\", function() {\\n        if (gapi.iframes && gapi.iframes.getContext) {\\n          gapi.iframes.getContext().openChild({\\n              url: \\'https://www.blogger.com/navbar.g?targetBlogID\\\\x3d3941553907430899163\\\\x26blogName\\\\x3dPython+Insider\\\\x26publishMode\\\\x3dPUBLISH_MODE_HOSTED\\\\x26navbarType\\\\x3dBLUE\\\\x26layoutType\\\\x3dLAYOUTS\\\\x26searchRoot\\\\x3dhttp://blog.python.org/search\\\\x26blogLocale\\\\x3den\\\\x26v\\\\x3d2\\\\x26homepageUrl\\\\x3dhttp://blog.python.org/\\\\x26targetPostID\\\\x3d2780261418574198189\\\\x26blogPostOrPageUrl\\\\x3dhttp://blog.python.org/2017/10/python-370a2-now-available-for-testing.html\\\\x26vt\\\\x3d1098820753087329169\\',\\n              where: document.getElementById(\"navbar-iframe-container\"),\\n              id: \"navbar-iframe\"\\n          });\\n        }\\n      });\\n    </script><script type=\"text/javascript\">\\n(function() {\\nvar script = document.createElement(\\'script\\');\\nscript.type = \\'text/javascript\\';\\nscript.src = \\'//pagead2.googlesyndication.com/pagead/js/google_top_exp.js\\';\\nvar head = document.getElementsByTagName(\\'head\\')[0];\\nif (head) {\\nhead.appendChild(script);\\n}})();\\n</script>\\n</div></div>\\n<div id=\\'wholeC\\'>\\n<header id=\\'chead\\'>\\n<div class=\\'header section\\' id=\\'header\\'><div class=\\'widget Header\\' data-version=\\'1\\' id=\\'Header1\\'>\\n<div id=\\'header-inner\\'>\\n<a href=\\'http://blog.python.org/\\' style=\\'display: block\\'>\\n<img alt=\\'Python Insider\\' height=\\'139px; \\' id=\\'Header1_headerimg\\' src=\\'http://2.bp.blogspot.com/-Bhao0h7cGF0/TY-us8aVYCI/AAAAAAAAAYw/IhOLTFSw34E/s1600/python-insider-header.png\\' style=\\'display: block\\' width=\\'600px; \\'/>\\n</a>\\n<div class=\\'descriptionwrapper\\'>\\n<p class=\\'description\\'><span>Python core development news and information.</span></p>\\n</div>\\n</div>\\n</div></div>\\n</header>\\n<div id=\\'cmain\\'>\\n<section id=\\'ccontent\\'>\\n<div class=\\'main section\\' id=\\'main\\'><div class=\\'widget Blog\\' data-version=\\'1\\' id=\\'Blog1\\'>\\n<div class=\\'blog-posts hfeed\\'>\\n\\n          <div class=\"date-outer\">\\n        \\n<h2 class=\\'date-header\\'><span>Tuesday, October 17, 2017</span></h2>\\n\\n          <div class=\"date-posts\">\\n        \\n<div class=\\'post-outer\\'>\\n<div class=\\'post hentry\\'>\\n<a name=\\'2780261418574198189\\'></a>\\n<h3 class=\\'post-title entry-title\\'>\\nPython 3.7.0a2 now available for testing\\n</h3>\\n<div class=\\'post-header\\'>\\n<div class=\\'post-header-line-1\\'></div>\\n</div>\\n<div class=\\'post-body entry-content\\'>\\nPython&nbsp;<b><a href=\"https://www.python.org/downloads/release/python-370a2/\" target=\"_blank\">3.7.0a2</a></b>&nbsp;is the second of four planned alpha releases of Python 3.7,<br />\\nthe next feature release of Python. &nbsp;During the alpha phase, Python 3.7<br />\\nremains under heavy development: additional features will be added<br />\\nand existing features may be modified or deleted. &nbsp;Please keep in mind<br />\\nthat this is a preview release and its use is not recommended for<br />\\nproduction environments. &nbsp;The next preview release, 3.7.0a3, is planned<br />\\nfor 2017-11-27. You can find Python 3.7.0a2 and more information here:<br />\\n&nbsp; &nbsp;&nbsp;<a href=\"https://www.python.org/downloads/release/python-370a2/\" target=\"_blank\">https://www.python.org/downloads/release/python-370a2/</a>\\n<div style=\\'clear: both;\\'></div>\\n</div>\\n<div class=\\'post-footer\\'>\\n<div class=\\'post-footer-line post-footer-line-1\\'><span class=\\'post-author vcard\\'>\\nPosted by\\n<span class=\\'fn\\'>Ned Deily</span>\\n</span>\\n<span class=\\'post-timestamp\\'>\\nat\\n<a class=\\'timestamp-link\\' href=\\'http://blog.python.org/2017/10/python-370a2-now-available-for-testing.html\\' rel=\\'bookmark\\' title=\\'permanent link\\'><abbr class=\\'published\\' title=\\'2017-10-17T15:34:00-04:00\\'>3:34 PM</abbr></a>\\n</span>\\n<span class=\\'post-comment-link\\'>\\n</span>\\n<span class=\\'post-icons\\'>\\n</span>\\n<div class=\\'post-share-buttons\\'>\\n<a class=\\'goog-inline-block share-button sb-email\\' href=\\'https://www.blogger.com/share-post.g?blogID=3941553907430899163&postID=2780261418574198189&target=email\\' target=\\'_blank\\' title=\\'Email This\\'><span class=\\'share-button-link-text\\'>Email This</span></a><a class=\\'goog-inline-block share-button sb-blog\\' href=\\'https://www.blogger.com/share-post.g?blogID=3941553907430899163&postID=2780261418574198189&target=blog\\' onclick=\\'window.open(this.href, \"_blank\", \"height=270,width=475\"); return false;\\' target=\\'_blank\\' title=\\'BlogThis!\\'><span class=\\'share-button-link-text\\'>BlogThis!</span></a><a class=\\'goog-inline-block share-button sb-twitter\\' href=\\'https://www.blogger.com/share-post.g?blogID=3941553907430899163&postID=2780261418574198189&target=twitter\\' target=\\'_blank\\' title=\\'Share to Twitter\\'><span class=\\'share-button-link-text\\'>Share to Twitter</span></a><a class=\\'goog-inline-block share-button sb-facebook\\' href=\\'https://www.blogger.com/share-post.g?blogID=3941553907430899163&postID=2780261418574198189&target=facebook\\' onclick=\\'window.open(this.href, \"_blank\", \"height=430,width=640\"); return false;\\' target=\\'_blank\\' title=\\'Share to Facebook\\'><span class=\\'share-button-link-text\\'>Share to Facebook</span></a><a class=\\'goog-inline-block share-button sb-pinterest\\' href=\\'https://www.blogger.com/share-post.g?blogID=3941553907430899163&postID=2780261418574198189&target=pinterest\\' target=\\'_blank\\' title=\\'Share to Pinterest\\'><span class=\\'share-button-link-text\\'>Share to Pinterest</span></a><div class=\\'goog-inline-block google-plus-share-container\\'><g:plusone source=\\'blogger:blog:plusone\\' href=\\'http://blog.python.org/2017/10/python-370a2-now-available-for-testing.html\\' size=\\'medium\\' width=\\'300\\' annotation=\\'inline\\'/></div>\\n</div>\\n</div>\\n<div class=\\'post-footer-line post-footer-line-2\\'><span class=\\'post-labels\\'>\\nLabels:\\n<a href=\\'http://blog.python.org/search/label/releases\\' rel=\\'tag\\'>releases</a>\\n</span>\\n</div>\\n<div class=\\'post-footer-line post-footer-line-3\\'><span class=\\'post-location\\'>\\n</span>\\n</div>\\n</div>\\n</div>\\n<div class=\\'comments\\' id=\\'comments\\'>\\n<a name=\\'comments\\'></a>\\n<div id=\\'backlinks-container\\'>\\n<div id=\\'Blog1_backlinks-container\\'>\\n</div>\\n</div>\\n</div>\\n</div>\\n\\n        </div></div>\\n      \\n</div>\\n<div class=\\'blog-pager\\' id=\\'blog-pager\\'>\\n<span id=\\'blog-pager-older-link\\'>\\n<a class=\\'blog-pager-older-link\\' href=\\'http://blog.python.org/2017/10/python-363-is-now-available.html\\' id=\\'Blog1_blog-pager-older-link\\' title=\\'Older Post\\'>Older Post</a>\\n</span>\\n<a class=\\'home-link\\' href=\\'http://blog.python.org/\\'>Home</a>\\n</div>\\n<div class=\\'clear\\'></div>\\n<div class=\\'post-feeds\\'>\\n</div>\\n<script type=\\'text/javascript\\'>\\n    window.___gcfg = { \\'lang\\': \\'en\\' };\\n  </script>\\n</div><div class=\\'widget HTML\\' data-version=\\'1\\' id=\\'HTML2\\'>\\n<script type=\\'text/javascript\\'>\\n                var disqus_shortname = \\'pythoninsider\\';\\n                var disqus_blogger_current_url = \"http://blog.python.org/2017/10/python-370a2-now-available-for-testing.html\";\\n                if (!disqus_blogger_current_url.length) {\\n                    disqus_blogger_current_url = \"http://blog.python.org/2017/10/python-370a2-now-available-for-testing.html\";\\n                }\\n                var disqus_blogger_homepage_url = \"http://blog.python.org/\";\\n                var disqus_blogger_canonical_homepage_url = \"http://blog.python.org/\";\\n            </script>\\n<style type=\\'text/css\\'>\\n                    #comments {display:none;}\\n                </style>\\n<script type=\\'text/javascript\\'>\\n                    (function() {\\n                        var bloggerjs = document.createElement(\\'script\\');\\n                        bloggerjs.type = \\'text/javascript\\';\\n                        bloggerjs.async = true;\\n                        bloggerjs.src = \\'http://\\'+disqus_shortname+\\'.disqus.com/blogger_item.js\\';\\n                        (document.getElementsByTagName(\\'head\\')[0] || document.getElementsByTagName(\\'body\\')[0]).appendChild(bloggerjs);\\n                    })();\\n                </script>\\n<style type=\\'text/css\\'>\\n                    .post-comment-link { visibility: hidden; }\\n                </style>\\n<script type=\\'text/javascript\\'>\\n                (function() {\\n                    var bloggerjs = document.createElement(\\'script\\');\\n                    bloggerjs.type = \\'text/javascript\\';\\n                    bloggerjs.async = true;\\n                    bloggerjs.src = \\'http://\\'+disqus_shortname+\\'.disqus.com/blogger_index.js\\';\\n                    (document.getElementsByTagName(\\'head\\')[0] || document.getElementsByTagName(\\'body\\')[0]).appendChild(bloggerjs);\\n                })();\\n                </script>\\n</div></div>\\n</section>\\n</div>\\n<aside id=\\'cside\\'>\\n<div class=\\'wshad\\' id=\\'sidebar1\\'>\\n<div class=\\'section\\' id=\\'sidebar-right-1\\'><div class=\\'widget HTML\\' data-version=\\'1\\' id=\\'HTML1\\'>\\n<h2 class=\\'title\\'>Subscribe</h2>\\n<div class=\\'widget-content\\'>\\nSubscribe to Python Insider via <a href=\"http://feeds.feedburner.com/PythonInsider\">RSS</a>, <a href=\"http://feedburner.google.com/fb/a/mailverify?uri=PythonInsider&amp;loc=en_US\">Email</a>, or <a href=\"http://twitter.com/PythonInsider\">Twitter</a>\\n</div>\\n<div class=\\'clear\\'></div>\\n<span class=\\'widget-item-control\\'>\\n<span class=\\'item-control blog-admin\\'>\\n<a class=\\'quickedit\\' href=\\'//www.blogger.com/rearrange?blogID=3941553907430899163&widgetType=HTML&widgetId=HTML1&action=editWidget&sectionId=sidebar-right-1\\' onclick=\\'return _WidgetManager._PopupConfig(document.getElementById(\"HTML1\"));\\' target=\\'configHTML1\\' title=\\'Edit\\'>\\n<img alt=\\'\\' height=\\'18\\' src=\\'https://resources.blogblog.com/img/icon18_wrench_allbkg.png\\' width=\\'18\\'/>\\n</a>\\n</span>\\n</span>\\n<div class=\\'clear\\'></div>\\n</div><div class=\\'widget LinkList\\' data-version=\\'1\\' id=\\'LinkList1\\'>\\n<h2>Related Links</h2>\\n<div class=\\'widget-content\\'>\\n<ul>\\n<li><a href=\\'http://www.python.org/\\'>python.org</a></li>\\n<li><a href=\\'http://mail.python.org/mailman/listinfo/python-dev\\'>Python-Dev mailing list</a></li>\\n<li><a href=\\'http://docs.python.org/devguide/\\'>Python Developer\\'s Guide</a></li>\\n</ul>\\n<div class=\\'clear\\'></div>\\n<span class=\\'widget-item-control\\'>\\n<span class=\\'item-control blog-admin\\'>\\n<a class=\\'quickedit\\' href=\\'//www.blogger.com/rearrange?blogID=3941553907430899163&widgetType=LinkList&widgetId=LinkList1&action=editWidget&sectionId=sidebar-right-1\\' onclick=\\'return _WidgetManager._PopupConfig(document.getElementById(\"LinkList1\"));\\' target=\\'configLinkList1\\' title=\\'Edit\\'>\\n<img alt=\\'\\' height=\\'18\\' src=\\'https://resources.blogblog.com/img/icon18_wrench_allbkg.png\\' width=\\'18\\'/>\\n</a>\\n</span>\\n</span>\\n<div class=\\'clear\\'></div>\\n</div>\\n</div><div class=\\'widget LinkList\\' data-version=\\'1\\' id=\\'LinkList2\\'>\\n<h2>Translations</h2>\\n<div class=\\'widget-content\\'>\\n<ul>\\n<li><a href=\\'http://blog-cn.python.org/\\'>Chinese (Simplified)</a></li>\\n<li><a href=\\'http://blog-tw.python.org/\\'>Chinese (Traditional)</a></li>\\n<li><a href=\\'http://blog-fr.python.org/\\'>French</a></li>\\n<li><a href=\\'http://blog-de.python.org/\\'>German</a></li>\\n<li><a href=\\'http://blog-ja.python.org/\\'>Japanese</a></li>\\n<li><a href=\\'http://blog-ko.python.org/\\'>Korean</a></li>\\n<li><a href=\\'http://blog-pt.python.org/\\'>Portuguese</a></li>\\n<li><a href=\\'http://blog-ro.python.org/\\'>Romanian</a></li>\\n<li><a href=\\'http://blog-ru.python.org/\\'>Russian</a></li>\\n<li><a href=\\'http://blog-es.python.org/\\'>Spanish</a></li>\\n</ul>\\n<div class=\\'clear\\'></div>\\n<span class=\\'widget-item-control\\'>\\n<span class=\\'item-control blog-admin\\'>\\n<a class=\\'quickedit\\' href=\\'//www.blogger.com/rearrange?blogID=3941553907430899163&widgetType=LinkList&widgetId=LinkList2&action=editWidget&sectionId=sidebar-right-1\\' onclick=\\'return _WidgetManager._PopupConfig(document.getElementById(\"LinkList2\"));\\' target=\\'configLinkList2\\' title=\\'Edit\\'>\\n<img alt=\\'\\' height=\\'18\\' src=\\'https://resources.blogblog.com/img/icon18_wrench_allbkg.png\\' width=\\'18\\'/>\\n</a>\\n</span>\\n</span>\\n<div class=\\'clear\\'></div>\\n</div>\\n</div><div class=\\'widget BlogList\\' data-version=\\'1\\' id=\\'BlogList1\\'>\\n<h2 class=\\'title\\'>Python-Dev Blogs</h2>\\n<div class=\\'widget-content\\'>\\n<div class=\\'blog-list-container\\' id=\\'BlogList1_container\\'>\\n<ul id=\\'BlogList1_blogs\\'>\\n<li style=\\'display: block;\\'>\\n<div class=\\'blog-icon\\'>\\n</div>\\n<div class=\\'blog-content\\'>\\n<div class=\\'blog-title\\'>\\n<a href=\\'http://morepypy.blogspot.com/\\' target=\\'_blank\\'>\\nPyPy Status Blog</a>\\n</div>\\n<div class=\\'item-content\\'>\\n<span class=\\'item-title\\'>\\n<a href=\\'http://feedproxy.google.com/~r/PyPyStatusBlog/~3/QD4P1Z312G4/cape-of-good-hope-for-pypy-hello-from.html\\' target=\\'_blank\\'>\\n</a>\\n</span>\\n<div class=\\'item-time\\'>\\n1 week ago\\n</div>\\n</div>\\n</div>\\n<div style=\\'clear: both;\\'></div>\\n</li>\\n<li style=\\'display: block;\\'>\\n<div class=\\'blog-icon\\'>\\n</div>\\n<div class=\\'blog-content\\'>\\n<div class=\\'blog-title\\'>\\n<a href=\\'https://eli.thegreenplace.net/\\' target=\\'_blank\\'>\\nEli Bendersky</a>\\n</div>\\n<div class=\\'item-content\\'>\\n<span class=\\'item-title\\'>\\n<a href=\\'https://eli.thegreenplace.net/2017/concurrent-servers-part-3-event-driven/\\' target=\\'_blank\\'>\\nConcurrent Servers: Part 3 - Event-driven\\n</a>\\n</span>\\n<div class=\\'item-time\\'>\\n3 weeks ago\\n</div>\\n</div>\\n</div>\\n<div style=\\'clear: both;\\'></div>\\n</li>\\n<li style=\\'display: block;\\'>\\n<div class=\\'blog-icon\\'>\\n</div>\\n<div class=\\'blog-content\\'>\\n<div class=\\'blog-title\\'>\\n<a href=\\'http://blog.ziade.org\\' target=\\'_blank\\'>\\nTarek Ziadé</a>\\n</div>\\n<div class=\\'item-content\\'>\\n<span class=\\'item-title\\'>\\n<a href=\\'http://blog.ziade.org/2016/05/16/consistent-load-balancing/\\' target=\\'_blank\\'>\\nConsistent Load Balancing\\n</a>\\n</span>\\n<div class=\\'item-time\\'>\\n1 year ago\\n</div>\\n</div>\\n</div>\\n<div style=\\'clear: both;\\'></div>\\n</li>\\n<li style=\\'display: block;\\'>\\n<div class=\\'blog-icon\\'>\\n</div>\\n<div class=\\'blog-content\\'>\\n<div class=\\'blog-title\\'>\\n<a href=\\'http://www.wefearchange.org/\\' target=\\'_blank\\'>\\nPumpichank</a>\\n</div>\\n<div class=\\'item-content\\'>\\n<span class=\\'item-title\\'>\\n<a href=\\'http://www.wefearchange.org/2015/04/creating-python-snaps.html\\' target=\\'_blank\\'>\\nCreating Python Snaps\\n</a>\\n</span>\\n<div class=\\'item-time\\'>\\n2 years ago\\n</div>\\n</div>\\n</div>\\n<div style=\\'clear: both;\\'></div>\\n</li>\\n<li style=\\'display: block;\\'>\\n<div class=\\'blog-icon\\'>\\n</div>\\n<div class=\\'blog-content\\'>\\n<div class=\\'blog-title\\'>\\n<a href=\\'http://ramblings.timgolden.me.uk\\' target=\\'_blank\\'>\\nTim Golden</a>\\n</div>\\n<div class=\\'item-content\\'>\\n<span class=\\'item-title\\'>\\n<a href=\\'http://ramblings.timgolden.me.uk/2014/12/05/london-python-dojo-december-2014/\\' target=\\'_blank\\'>\\nLondon Python Dojo December 2014\\n</a>\\n</span>\\n<div class=\\'item-time\\'>\\n2 years ago\\n</div>\\n</div>\\n</div>\\n<div style=\\'clear: both;\\'></div>\\n</li>\\n<li style=\\'display: block;\\'>\\n<div class=\\'blog-icon\\'>\\n</div>\\n<div class=\\'blog-content\\'>\\n<div class=\\'blog-title\\'>\\n<a href=\\'http://www.bitdance.com/blog\\' target=\\'_blank\\'>\\nR. David Murray</a>\\n</div>\\n<div class=\\'item-content\\'>\\n<span class=\\'item-title\\'>\\n<a href=\\'http://www.bitdance.com/blog/2014/09/30_01_asycio_overview\\' target=\\'_blank\\'>\\nAsyncio Implementation Overview\\n</a>\\n</span>\\n<div class=\\'item-time\\'>\\n3 years ago\\n</div>\\n</div>\\n</div>\\n<div style=\\'clear: both;\\'></div>\\n</li>\\n<li style=\\'display: block;\\'>\\n<div class=\\'blog-icon\\'>\\n</div>\\n<div class=\\'blog-content\\'>\\n<div class=\\'blog-title\\'>\\n<a href=\\'http://www.voidspace.org.uk/python/weblog/index.shtml\\' target=\\'_blank\\'>\\nThe Voidspace Techie Blog</a>\\n</div>\\n<div class=\\'item-content\\'>\\n<span class=\\'item-title\\'>\\n<a href=\\'http://feedproxy.google.com/~r/voidspace/~3/-liSpOmgsVc/arch_d7_2012_03_24.shtml\\' target=\\'_blank\\'>\\nunittest.mock and mock 1.0 alpha 1\\n</a>\\n</span>\\n<div class=\\'item-time\\'>\\n5 years ago\\n</div>\\n</div>\\n</div>\\n<div style=\\'clear: both;\\'></div>\\n</li>\\n<li style=\\'display: block;\\'>\\n<div class=\\'blog-icon\\'>\\n</div>\\n<div class=\\'blog-content\\'>\\n<div class=\\'blog-title\\'>\\n<a href=\\'https://rhettinger.wordpress.com\\' target=\\'_blank\\'>\\nDeep Thoughts by Raymond Hettinger</a>\\n</div>\\n<div class=\\'item-content\\'>\\n<span class=\\'item-title\\'>\\n<a href=\\'https://rhettinger.wordpress.com/2011/05/26/super-considered-super/\\' target=\\'_blank\\'>\\nPython&#8217;s super() considered super!\\n</a>\\n</span>\\n<div class=\\'item-time\\'>\\n6 years ago\\n</div>\\n</div>\\n</div>\\n<div style=\\'clear: both;\\'></div>\\n</li>\\n<li style=\\'display: block;\\'>\\n<div class=\\'blog-icon\\'>\\n</div>\\n<div class=\\'blog-content\\'>\\n<div class=\\'blog-title\\'>\\n<a href=\\'http://feeds.feedburner.com/CoderWhoSaysPy\\' target=\\'_blank\\'>\\nBrett Cannon</a>\\n</div>\\n<div class=\\'item-content\\'>\\n<span class=\\'item-title\\'>\\n<!--Can\\'t find substitution for tag [item.itemTitle]-->\\n</span>\\n<div class=\\'item-time\\'>\\n<!--Can\\'t find substitution for tag [item.timePeriodSinceLastUpdate]-->\\n</div>\\n</div>\\n</div>\\n<div style=\\'clear: both;\\'></div>\\n</li>\\n<li style=\\'display: block;\\'>\\n<div class=\\'blog-icon\\'>\\n</div>\\n<div class=\\'blog-content\\'>\\n<div class=\\'blog-title\\'>\\n<a href=\\'http://jessenoller.com/feed/\\' target=\\'_blank\\'>\\nJesse Noller</a>\\n</div>\\n<div class=\\'item-content\\'>\\n<span class=\\'item-title\\'>\\n<!--Can\\'t find substitution for tag [item.itemTitle]-->\\n</span>\\n<div class=\\'item-time\\'>\\n<!--Can\\'t find substitution for tag [item.timePeriodSinceLastUpdate]-->\\n</div>\\n</div>\\n</div>\\n<div style=\\'clear: both;\\'></div>\\n</li>\\n<li style=\\'display: block;\\'>\\n<div class=\\'blog-icon\\'>\\n</div>\\n<div class=\\'blog-content\\'>\\n<div class=\\'blog-title\\'>\\n<a href=\\'http://www.boredomandlaziness.org/feeds/posts/default\\' target=\\'_blank\\'>\\nBoredom & Laziness</a>\\n</div>\\n<div class=\\'item-content\\'>\\n<span class=\\'item-title\\'>\\n<!--Can\\'t find substitution for tag [item.itemTitle]-->\\n</span>\\n<div class=\\'item-time\\'>\\n<!--Can\\'t find substitution for tag [item.timePeriodSinceLastUpdate]-->\\n</div>\\n</div>\\n</div>\\n<div style=\\'clear: both;\\'></div>\\n</li>\\n<li style=\\'display: block;\\'>\\n<div class=\\'blog-icon\\'>\\n</div>\\n<div class=\\'blog-content\\'>\\n<div class=\\'blog-title\\'>\\n<a href=\\'http://blog.briancurtin.com/feed/\\' target=\\'_blank\\'>\\nBrian Curtin</a>\\n</div>\\n<div class=\\'item-content\\'>\\n<span class=\\'item-title\\'>\\n<!--Can\\'t find substitution for tag [item.itemTitle]-->\\n</span>\\n<div class=\\'item-time\\'>\\n<!--Can\\'t find substitution for tag [item.timePeriodSinceLastUpdate]-->\\n</div>\\n</div>\\n</div>\\n<div style=\\'clear: both;\\'></div>\\n</li>\\n<li style=\\'display: block;\\'>\\n<div class=\\'blog-icon\\'>\\n</div>\\n<div class=\\'blog-content\\'>\\n<div class=\\'blog-title\\'>\\n<a href=\\'http://www.uthcode.com/blog/feeds/atom.xml\\' target=\\'_blank\\'>\\nSenthil Kumaran</a>\\n</div>\\n<div class=\\'item-content\\'>\\n<span class=\\'item-title\\'>\\n<!--Can\\'t find substitution for tag [item.itemTitle]-->\\n</span>\\n<div class=\\'item-time\\'>\\n<!--Can\\'t find substitution for tag [item.timePeriodSinceLastUpdate]-->\\n</div>\\n</div>\\n</div>\\n<div style=\\'clear: both;\\'></div>\\n</li>\\n</ul>\\n<div class=\\'clear\\'></div>\\n<span class=\\'widget-item-control\\'>\\n<span class=\\'item-control blog-admin\\'>\\n<a class=\\'quickedit\\' href=\\'//www.blogger.com/rearrange?blogID=3941553907430899163&widgetType=BlogList&widgetId=BlogList1&action=editWidget&sectionId=sidebar-right-1\\' onclick=\\'return _WidgetManager._PopupConfig(document.getElementById(\"BlogList1\"));\\' target=\\'configBlogList1\\' title=\\'Edit\\'>\\n<img alt=\\'\\' height=\\'18\\' src=\\'https://resources.blogblog.com/img/icon18_wrench_allbkg.png\\' width=\\'18\\'/>\\n</a>\\n</span>\\n</span>\\n<div class=\\'clear\\'></div>\\n</div>\\n</div>\\n</div><div class=\\'widget BlogArchive\\' data-version=\\'1\\' id=\\'BlogArchive1\\'>\\n<h2>Blog Archive</h2>\\n<div class=\\'widget-content\\'>\\n<div id=\\'ArchiveList\\'>\\n<div id=\\'BlogArchive1_ArchiveList\\'>\\n<ul class=\\'hierarchy\\'>\\n<li class=\\'archivedate expanded\\'>\\n<a class=\\'toggle\\' href=\\'javascript:void(0)\\'>\\n<span class=\\'zippy toggle-open\\'>\\n\\n        &#9660;&#160;\\n      \\n</span>\\n</a>\\n<a class=\\'post-count-link\\' href=\\'http://blog.python.org/2017/\\'>\\n2017\\n</a>\\n<span class=\\'post-count\\' dir=\\'ltr\\'>(15)</span>\\n<ul class=\\'hierarchy\\'>\\n<li class=\\'archivedate expanded\\'>\\n<a class=\\'toggle\\' href=\\'javascript:void(0)\\'>\\n<span class=\\'zippy toggle-open\\'>\\n\\n        &#9660;&#160;\\n      \\n</span>\\n</a>\\n<a class=\\'post-count-link\\' href=\\'http://blog.python.org/2017/10/\\'>\\nOctober\\n</a>\\n<span class=\\'post-count\\' dir=\\'ltr\\'>(2)</span>\\n<ul class=\\'posts\\'>\\n<li><a href=\\'http://blog.python.org/2017/10/python-370a2-now-available-for-testing.html\\'>Python 3.7.0a2 now available for testing</a></li>\\n<li><a href=\\'http://blog.python.org/2017/10/python-363-is-now-available.html\\'>Python 3.6.3 is now available</a></li>\\n</ul>\\n</li>\\n</ul>\\n<ul class=\\'hierarchy\\'>\\n<li class=\\'archivedate collapsed\\'>\\n<a class=\\'toggle\\' href=\\'javascript:void(0)\\'>\\n<span class=\\'zippy\\'>\\n\\n        &#9658;&#160;\\n      \\n</span>\\n</a>\\n<a class=\\'post-count-link\\' href=\\'http://blog.python.org/2017/09/\\'>\\nSeptember\\n</a>\\n<span class=\\'post-count\\' dir=\\'ltr\\'>(3)</span>\\n</li>\\n</ul>\\n<ul class=\\'hierarchy\\'>\\n<li class=\\'archivedate collapsed\\'>\\n<a class=\\'toggle\\' href=\\'javascript:void(0)\\'>\\n<span class=\\'zippy\\'>\\n\\n        &#9658;&#160;\\n      \\n</span>\\n</a>\\n<a class=\\'post-count-link\\' href=\\'http://blog.python.org/2017/08/\\'>\\nAugust\\n</a>\\n<span class=\\'post-count\\' dir=\\'ltr\\'>(2)</span>\\n</li>\\n</ul>\\n<ul class=\\'hierarchy\\'>\\n<li class=\\'archivedate collapsed\\'>\\n<a class=\\'toggle\\' href=\\'javascript:void(0)\\'>\\n<span class=\\'zippy\\'>\\n\\n        &#9658;&#160;\\n      \\n</span>\\n</a>\\n<a class=\\'post-count-link\\' href=\\'http://blog.python.org/2017/07/\\'>\\nJuly\\n</a>\\n<span class=\\'post-count\\' dir=\\'ltr\\'>(3)</span>\\n</li>\\n</ul>\\n<ul class=\\'hierarchy\\'>\\n<li class=\\'archivedate collapsed\\'>\\n<a class=\\'toggle\\' href=\\'javascript:void(0)\\'>\\n<span class=\\'zippy\\'>\\n\\n        &#9658;&#160;\\n      \\n</span>\\n</a>\\n<a class=\\'post-count-link\\' href=\\'http://blog.python.org/2017/06/\\'>\\nJune\\n</a>\\n<span class=\\'post-count\\' dir=\\'ltr\\'>(1)</span>\\n</li>\\n</ul>\\n<ul class=\\'hierarchy\\'>\\n<li class=\\'archivedate collapsed\\'>\\n<a class=\\'toggle\\' href=\\'javascript:void(0)\\'>\\n<span class=\\'zippy\\'>\\n\\n        &#9658;&#160;\\n      \\n</span>\\n</a>\\n<a class=\\'post-count-link\\' href=\\'http://blog.python.org/2017/03/\\'>\\nMarch\\n</a>\\n<span class=\\'post-count\\' dir=\\'ltr\\'>(2)</span>\\n</li>\\n</ul>\\n<ul class=\\'hierarchy\\'>\\n<li class=\\'archivedate collapsed\\'>\\n<a class=\\'toggle\\' href=\\'javascript:void(0)\\'>\\n<span class=\\'zippy\\'>\\n\\n        &#9658;&#160;\\n      \\n</span>\\n</a>\\n<a class=\\'post-count-link\\' href=\\'http://blog.python.org/2017/01/\\'>\\nJanuary\\n</a>\\n<span class=\\'post-count\\' dir=\\'ltr\\'>(2)</span>\\n</li>\\n</ul>\\n</li>\\n</ul>\\n<ul class=\\'hierarchy\\'>\\n<li class=\\'archivedate collapsed\\'>\\n<a class=\\'toggle\\' href=\\'javascript:void(0)\\'>\\n<span class=\\'zippy\\'>\\n\\n        &#9658;&#160;\\n      \\n</span>\\n</a>\\n<a class=\\'post-count-link\\' href=\\'http://blog.python.org/2016/\\'>\\n2016\\n</a>\\n<span class=\\'post-count\\' dir=\\'ltr\\'>(18)</span>\\n<ul class=\\'hierarchy\\'>\\n<li class=\\'archivedate collapsed\\'>\\n<a class=\\'toggle\\' href=\\'javascript:void(0)\\'>\\n<span class=\\'zippy\\'>\\n\\n        &#9658;&#160;\\n      \\n</span>\\n</a>\\n<a class=\\'post-count-link\\' href=\\'http://blog.python.org/2016/12/\\'>\\nDecember\\n</a>\\n<span class=\\'post-count\\' dir=\\'ltr\\'>(5)</span>\\n</li>\\n</ul>\\n<ul class=\\'hierarchy\\'>\\n<li class=\\'archivedate collapsed\\'>\\n<a class=\\'toggle\\' href=\\'javascript:void(0)\\'>\\n<span class=\\'zippy\\'>\\n\\n        &#9658;&#160;\\n      \\n</span>\\n</a>\\n<a class=\\'post-count-link\\' href=\\'http://blog.python.org/2016/11/\\'>\\nNovember\\n</a>\\n<span class=\\'post-count\\' dir=\\'ltr\\'>(1)</span>\\n</li>\\n</ul>\\n<ul class=\\'hierarchy\\'>\\n<li class=\\'archivedate collapsed\\'>\\n<a class=\\'toggle\\' href=\\'javascript:void(0)\\'>\\n<span class=\\'zippy\\'>\\n\\n        &#9658;&#160;\\n      \\n</span>\\n</a>\\n<a class=\\'post-count-link\\' href=\\'http://blog.python.org/2016/10/\\'>\\nOctober\\n</a>\\n<span class=\\'post-count\\' dir=\\'ltr\\'>(2)</span>\\n</li>\\n</ul>\\n<ul class=\\'hierarchy\\'>\\n<li class=\\'archivedate collapsed\\'>\\n<a class=\\'toggle\\' href=\\'javascript:void(0)\\'>\\n<span class=\\'zippy\\'>\\n\\n        &#9658;&#160;\\n      \\n</span>\\n</a>\\n<a class=\\'post-count-link\\' href=\\'http://blog.python.org/2016/09/\\'>\\nSeptember\\n</a>\\n<span class=\\'post-count\\' dir=\\'ltr\\'>(2)</span>\\n</li>\\n</ul>\\n<ul class=\\'hierarchy\\'>\\n<li class=\\'archivedate collapsed\\'>\\n<a class=\\'toggle\\' href=\\'javascript:void(0)\\'>\\n<span class=\\'zippy\\'>\\n\\n        &#9658;&#160;\\n      \\n</span>\\n</a>\\n<a class=\\'post-count-link\\' href=\\'http://blog.python.org/2016/08/\\'>\\nAugust\\n</a>\\n<span class=\\'post-count\\' dir=\\'ltr\\'>(1)</span>\\n</li>\\n</ul>\\n<ul class=\\'hierarchy\\'>\\n<li class=\\'archivedate collapsed\\'>\\n<a class=\\'toggle\\' href=\\'javascript:void(0)\\'>\\n<span class=\\'zippy\\'>\\n\\n        &#9658;&#160;\\n      \\n</span>\\n</a>\\n<a class=\\'post-count-link\\' href=\\'http://blog.python.org/2016/07/\\'>\\nJuly\\n</a>\\n<span class=\\'post-count\\' dir=\\'ltr\\'>(1)</span>\\n</li>\\n</ul>\\n<ul class=\\'hierarchy\\'>\\n<li class=\\'archivedate collapsed\\'>\\n<a class=\\'toggle\\' href=\\'javascript:void(0)\\'>\\n<span class=\\'zippy\\'>\\n\\n        &#9658;&#160;\\n      \\n</span>\\n</a>\\n<a class=\\'post-count-link\\' href=\\'http://blog.python.org/2016/06/\\'>\\nJune\\n</a>\\n<span class=\\'post-count\\' dir=\\'ltr\\'>(5)</span>\\n</li>\\n</ul>\\n<ul class=\\'hierarchy\\'>\\n<li class=\\'archivedate collapsed\\'>\\n<a class=\\'toggle\\' href=\\'javascript:void(0)\\'>\\n<span class=\\'zippy\\'>\\n\\n        &#9658;&#160;\\n      \\n</span>\\n</a>\\n<a class=\\'post-count-link\\' href=\\'http://blog.python.org/2016/05/\\'>\\nMay\\n</a>\\n<span class=\\'post-count\\' dir=\\'ltr\\'>(1)</span>\\n</li>\\n</ul>\\n</li>\\n</ul>\\n<ul class=\\'hierarchy\\'>\\n<li class=\\'archivedate collapsed\\'>\\n<a class=\\'toggle\\' href=\\'javascript:void(0)\\'>\\n<span class=\\'zippy\\'>\\n\\n        &#9658;&#160;\\n      \\n</span>\\n</a>\\n<a class=\\'post-count-link\\' href=\\'http://blog.python.org/2015/\\'>\\n2015\\n</a>\\n<span class=\\'post-count\\' dir=\\'ltr\\'>(14)</span>\\n<ul class=\\'hierarchy\\'>\\n<li class=\\'archivedate collapsed\\'>\\n<a class=\\'toggle\\' href=\\'javascript:void(0)\\'>\\n<span class=\\'zippy\\'>\\n\\n        &#9658;&#160;\\n      \\n</span>\\n</a>\\n<a class=\\'post-count-link\\' href=\\'http://blog.python.org/2015/12/\\'>\\nDecember\\n</a>\\n<span class=\\'post-count\\' dir=\\'ltr\\'>(2)</span>\\n</li>\\n</ul>\\n<ul class=\\'hierarchy\\'>\\n<li class=\\'archivedate collapsed\\'>\\n<a class=\\'toggle\\' href=\\'javascript:void(0)\\'>\\n<span class=\\'zippy\\'>\\n\\n        &#9658;&#160;\\n      \\n</span>\\n</a>\\n<a class=\\'post-count-link\\' href=\\'http://blog.python.org/2015/11/\\'>\\nNovember\\n</a>\\n<span class=\\'post-count\\' dir=\\'ltr\\'>(1)</span>\\n</li>\\n</ul>\\n<ul class=\\'hierarchy\\'>\\n<li class=\\'archivedate collapsed\\'>\\n<a class=\\'toggle\\' href=\\'javascript:void(0)\\'>\\n<span class=\\'zippy\\'>\\n\\n        &#9658;&#160;\\n      \\n</span>\\n</a>\\n<a class=\\'post-count-link\\' href=\\'http://blog.python.org/2015/09/\\'>\\nSeptember\\n</a>\\n<span class=\\'post-count\\' dir=\\'ltr\\'>(3)</span>\\n</li>\\n</ul>\\n<ul class=\\'hierarchy\\'>\\n<li class=\\'archivedate collapsed\\'>\\n<a class=\\'toggle\\' href=\\'javascript:void(0)\\'>\\n<span class=\\'zippy\\'>\\n\\n        &#9658;&#160;\\n      \\n</span>\\n</a>\\n<a class=\\'post-count-link\\' href=\\'http://blog.python.org/2015/08/\\'>\\nAugust\\n</a>\\n<span class=\\'post-count\\' dir=\\'ltr\\'>(1)</span>\\n</li>\\n</ul>\\n<ul class=\\'hierarchy\\'>\\n<li class=\\'archivedate collapsed\\'>\\n<a class=\\'toggle\\' href=\\'javascript:void(0)\\'>\\n<span class=\\'zippy\\'>\\n\\n        &#9658;&#160;\\n      \\n</span>\\n</a>\\n<a class=\\'post-count-link\\' href=\\'http://blog.python.org/2015/07/\\'>\\nJuly\\n</a>\\n<span class=\\'post-count\\' dir=\\'ltr\\'>(1)</span>\\n</li>\\n</ul>\\n<ul class=\\'hierarchy\\'>\\n<li class=\\'archivedate collapsed\\'>\\n<a class=\\'toggle\\' href=\\'javascript:void(0)\\'>\\n<span class=\\'zippy\\'>\\n\\n        &#9658;&#160;\\n      \\n</span>\\n</a>\\n<a class=\\'post-count-link\\' href=\\'http://blog.python.org/2015/06/\\'>\\nJune\\n</a>\\n<span class=\\'post-count\\' dir=\\'ltr\\'>(1)</span>\\n</li>\\n</ul>\\n<ul class=\\'hierarchy\\'>\\n<li class=\\'archivedate collapsed\\'>\\n<a class=\\'toggle\\' href=\\'javascript:void(0)\\'>\\n<span class=\\'zippy\\'>\\n\\n        &#9658;&#160;\\n      \\n</span>\\n</a>\\n<a class=\\'post-count-link\\' href=\\'http://blog.python.org/2015/05/\\'>\\nMay\\n</a>\\n<span class=\\'post-count\\' dir=\\'ltr\\'>(2)</span>\\n</li>\\n</ul>\\n<ul class=\\'hierarchy\\'>\\n<li class=\\'archivedate collapsed\\'>\\n<a class=\\'toggle\\' href=\\'javascript:void(0)\\'>\\n<span class=\\'zippy\\'>\\n\\n        &#9658;&#160;\\n      \\n</span>\\n</a>\\n<a class=\\'post-count-link\\' href=\\'http://blog.python.org/2015/03/\\'>\\nMarch\\n</a>\\n<span class=\\'post-count\\' dir=\\'ltr\\'>(2)</span>\\n</li>\\n</ul>\\n<ul class=\\'hierarchy\\'>\\n<li class=\\'archivedate collapsed\\'>\\n<a class=\\'toggle\\' href=\\'javascript:void(0)\\'>\\n<span class=\\'zippy\\'>\\n\\n        &#9658;&#160;\\n      \\n</span>\\n</a>\\n<a class=\\'post-count-link\\' href=\\'http://blog.python.org/2015/01/\\'>\\nJanuary\\n</a>\\n<span class=\\'post-count\\' dir=\\'ltr\\'>(1)</span>\\n</li>\\n</ul>\\n</li>\\n</ul>\\n<ul class=\\'hierarchy\\'>\\n<li class=\\'archivedate collapsed\\'>\\n<a class=\\'toggle\\' href=\\'javascript:void(0)\\'>\\n<span class=\\'zippy\\'>\\n\\n        &#9658;&#160;\\n      \\n</span>\\n</a>\\n<a class=\\'post-count-link\\' href=\\'http://blog.python.org/2014/\\'>\\n2014\\n</a>\\n<span class=\\'post-count\\' dir=\\'ltr\\'>(8)</span>\\n<ul class=\\'hierarchy\\'>\\n<li class=\\'archivedate collapsed\\'>\\n<a class=\\'toggle\\' href=\\'javascript:void(0)\\'>\\n<span class=\\'zippy\\'>\\n\\n        &#9658;&#160;\\n      \\n</span>\\n</a>\\n<a class=\\'post-count-link\\' href=\\'http://blog.python.org/2014/12/\\'>\\nDecember\\n</a>\\n<span class=\\'post-count\\' dir=\\'ltr\\'>(1)</span>\\n</li>\\n</ul>\\n<ul class=\\'hierarchy\\'>\\n<li class=\\'archivedate collapsed\\'>\\n<a class=\\'toggle\\' href=\\'javascript:void(0)\\'>\\n<span class=\\'zippy\\'>\\n\\n        &#9658;&#160;\\n      \\n</span>\\n</a>\\n<a class=\\'post-count-link\\' href=\\'http://blog.python.org/2014/11/\\'>\\nNovember\\n</a>\\n<span class=\\'post-count\\' dir=\\'ltr\\'>(1)</span>\\n</li>\\n</ul>\\n<ul class=\\'hierarchy\\'>\\n<li class=\\'archivedate collapsed\\'>\\n<a class=\\'toggle\\' href=\\'javascript:void(0)\\'>\\n<span class=\\'zippy\\'>\\n\\n        &#9658;&#160;\\n      \\n</span>\\n</a>\\n<a class=\\'post-count-link\\' href=\\'http://blog.python.org/2014/05/\\'>\\nMay\\n</a>\\n<span class=\\'post-count\\' dir=\\'ltr\\'>(1)</span>\\n</li>\\n</ul>\\n<ul class=\\'hierarchy\\'>\\n<li class=\\'archivedate collapsed\\'>\\n<a class=\\'toggle\\' href=\\'javascript:void(0)\\'>\\n<span class=\\'zippy\\'>\\n\\n        &#9658;&#160;\\n      \\n</span>\\n</a>\\n<a class=\\'post-count-link\\' href=\\'http://blog.python.org/2014/03/\\'>\\nMarch\\n</a>\\n<span class=\\'post-count\\' dir=\\'ltr\\'>(3)</span>\\n</li>\\n</ul>\\n<ul class=\\'hierarchy\\'>\\n<li class=\\'archivedate collapsed\\'>\\n<a class=\\'toggle\\' href=\\'javascript:void(0)\\'>\\n<span class=\\'zippy\\'>\\n\\n        &#9658;&#160;\\n      \\n</span>\\n</a>\\n<a class=\\'post-count-link\\' href=\\'http://blog.python.org/2014/02/\\'>\\nFebruary\\n</a>\\n<span class=\\'post-count\\' dir=\\'ltr\\'>(2)</span>\\n</li>\\n</ul>\\n</li>\\n</ul>\\n<ul class=\\'hierarchy\\'>\\n<li class=\\'archivedate collapsed\\'>\\n<a class=\\'toggle\\' href=\\'javascript:void(0)\\'>\\n<span class=\\'zippy\\'>\\n\\n        &#9658;&#160;\\n      \\n</span>\\n</a>\\n<a class=\\'post-count-link\\' href=\\'http://blog.python.org/2013/\\'>\\n2013\\n</a>\\n<span class=\\'post-count\\' dir=\\'ltr\\'>(5)</span>\\n<ul class=\\'hierarchy\\'>\\n<li class=\\'archivedate collapsed\\'>\\n<a class=\\'toggle\\' href=\\'javascript:void(0)\\'>\\n<span class=\\'zippy\\'>\\n\\n        &#9658;&#160;\\n      \\n</span>\\n</a>\\n<a class=\\'post-count-link\\' href=\\'http://blog.python.org/2013/11/\\'>\\nNovember\\n</a>\\n<span class=\\'post-count\\' dir=\\'ltr\\'>(2)</span>\\n</li>\\n</ul>\\n<ul class=\\'hierarchy\\'>\\n<li class=\\'archivedate collapsed\\'>\\n<a class=\\'toggle\\' href=\\'javascript:void(0)\\'>\\n<span class=\\'zippy\\'>\\n\\n        &#9658;&#160;\\n      \\n</span>\\n</a>\\n<a class=\\'post-count-link\\' href=\\'http://blog.python.org/2013/10/\\'>\\nOctober\\n</a>\\n<span class=\\'post-count\\' dir=\\'ltr\\'>(1)</span>\\n</li>\\n</ul>\\n<ul class=\\'hierarchy\\'>\\n<li class=\\'archivedate collapsed\\'>\\n<a class=\\'toggle\\' href=\\'javascript:void(0)\\'>\\n<span class=\\'zippy\\'>\\n\\n        &#9658;&#160;\\n      \\n</span>\\n</a>\\n<a class=\\'post-count-link\\' href=\\'http://blog.python.org/2013/03/\\'>\\nMarch\\n</a>\\n<span class=\\'post-count\\' dir=\\'ltr\\'>(1)</span>\\n</li>\\n</ul>\\n<ul class=\\'hierarchy\\'>\\n<li class=\\'archivedate collapsed\\'>\\n<a class=\\'toggle\\' href=\\'javascript:void(0)\\'>\\n<span class=\\'zippy\\'>\\n\\n        &#9658;&#160;\\n      \\n</span>\\n</a>\\n<a class=\\'post-count-link\\' href=\\'http://blog.python.org/2013/02/\\'>\\nFebruary\\n</a>\\n<span class=\\'post-count\\' dir=\\'ltr\\'>(1)</span>\\n</li>\\n</ul>\\n</li>\\n</ul>\\n<ul class=\\'hierarchy\\'>\\n<li class=\\'archivedate collapsed\\'>\\n<a class=\\'toggle\\' href=\\'javascript:void(0)\\'>\\n<span class=\\'zippy\\'>\\n\\n        &#9658;&#160;\\n      \\n</span>\\n</a>\\n<a class=\\'post-count-link\\' href=\\'http://blog.python.org/2012/\\'>\\n2012\\n</a>\\n<span class=\\'post-count\\' dir=\\'ltr\\'>(9)</span>\\n<ul class=\\'hierarchy\\'>\\n<li class=\\'archivedate collapsed\\'>\\n<a class=\\'toggle\\' href=\\'javascript:void(0)\\'>\\n<span class=\\'zippy\\'>\\n\\n        &#9658;&#160;\\n      \\n</span>\\n</a>\\n<a class=\\'post-count-link\\' href=\\'http://blog.python.org/2012/12/\\'>\\nDecember\\n</a>\\n<span class=\\'post-count\\' dir=\\'ltr\\'>(1)</span>\\n</li>\\n</ul>\\n<ul class=\\'hierarchy\\'>\\n<li class=\\'archivedate collapsed\\'>\\n<a class=\\'toggle\\' href=\\'javascript:void(0)\\'>\\n<span class=\\'zippy\\'>\\n\\n        &#9658;&#160;\\n      \\n</span>\\n</a>\\n<a class=\\'post-count-link\\' href=\\'http://blog.python.org/2012/11/\\'>\\nNovember\\n</a>\\n<span class=\\'post-count\\' dir=\\'ltr\\'>(1)</span>\\n</li>\\n</ul>\\n<ul class=\\'hierarchy\\'>\\n<li class=\\'archivedate collapsed\\'>\\n<a class=\\'toggle\\' href=\\'javascript:void(0)\\'>\\n<span class=\\'zippy\\'>\\n\\n        &#9658;&#160;\\n      \\n</span>\\n</a>\\n<a class=\\'post-count-link\\' href=\\'http://blog.python.org/2012/10/\\'>\\nOctober\\n</a>\\n<span class=\\'post-count\\' dir=\\'ltr\\'>(2)</span>\\n</li>\\n</ul>\\n<ul class=\\'hierarchy\\'>\\n<li class=\\'archivedate collapsed\\'>\\n<a class=\\'toggle\\' href=\\'javascript:void(0)\\'>\\n<span class=\\'zippy\\'>\\n\\n        &#9658;&#160;\\n      \\n</span>\\n</a>\\n<a class=\\'post-count-link\\' href=\\'http://blog.python.org/2012/08/\\'>\\nAugust\\n</a>\\n<span class=\\'post-count\\' dir=\\'ltr\\'>(1)</span>\\n</li>\\n</ul>\\n<ul class=\\'hierarchy\\'>\\n<li class=\\'archivedate collapsed\\'>\\n<a class=\\'toggle\\' href=\\'javascript:void(0)\\'>\\n<span class=\\'zippy\\'>\\n\\n        &#9658;&#160;\\n      \\n</span>\\n</a>\\n<a class=\\'post-count-link\\' href=\\'http://blog.python.org/2012/06/\\'>\\nJune\\n</a>\\n<span class=\\'post-count\\' dir=\\'ltr\\'>(2)</span>\\n</li>\\n</ul>\\n<ul class=\\'hierarchy\\'>\\n<li class=\\'archivedate collapsed\\'>\\n<a class=\\'toggle\\' href=\\'javascript:void(0)\\'>\\n<span class=\\'zippy\\'>\\n\\n        &#9658;&#160;\\n      \\n</span>\\n</a>\\n<a class=\\'post-count-link\\' href=\\'http://blog.python.org/2012/05/\\'>\\nMay\\n</a>\\n<span class=\\'post-count\\' dir=\\'ltr\\'>(1)</span>\\n</li>\\n</ul>\\n<ul class=\\'hierarchy\\'>\\n<li class=\\'archivedate collapsed\\'>\\n<a class=\\'toggle\\' href=\\'javascript:void(0)\\'>\\n<span class=\\'zippy\\'>\\n\\n        &#9658;&#160;\\n      \\n</span>\\n</a>\\n<a class=\\'post-count-link\\' href=\\'http://blog.python.org/2012/03/\\'>\\nMarch\\n</a>\\n<span class=\\'post-count\\' dir=\\'ltr\\'>(1)</span>\\n</li>\\n</ul>\\n</li>\\n</ul>\\n<ul class=\\'hierarchy\\'>\\n<li class=\\'archivedate collapsed\\'>\\n<a class=\\'toggle\\' href=\\'javascript:void(0)\\'>\\n<span class=\\'zippy\\'>\\n\\n        &#9658;&#160;\\n      \\n</span>\\n</a>\\n<a class=\\'post-count-link\\' href=\\'http://blog.python.org/2011/\\'>\\n2011\\n</a>\\n<span class=\\'post-count\\' dir=\\'ltr\\'>(25)</span>\\n<ul class=\\'hierarchy\\'>\\n<li class=\\'archivedate collapsed\\'>\\n<a class=\\'toggle\\' href=\\'javascript:void(0)\\'>\\n<span class=\\'zippy\\'>\\n\\n        &#9658;&#160;\\n      \\n</span>\\n</a>\\n<a class=\\'post-count-link\\' href=\\'http://blog.python.org/2011/08/\\'>\\nAugust\\n</a>\\n<span class=\\'post-count\\' dir=\\'ltr\\'>(2)</span>\\n</li>\\n</ul>\\n<ul class=\\'hierarchy\\'>\\n<li class=\\'archivedate collapsed\\'>\\n<a class=\\'toggle\\' href=\\'javascript:void(0)\\'>\\n<span class=\\'zippy\\'>\\n\\n        &#9658;&#160;\\n      \\n</span>\\n</a>\\n<a class=\\'post-count-link\\' href=\\'http://blog.python.org/2011/07/\\'>\\nJuly\\n</a>\\n<span class=\\'post-count\\' dir=\\'ltr\\'>(3)</span>\\n</li>\\n</ul>\\n<ul class=\\'hierarchy\\'>\\n<li class=\\'archivedate collapsed\\'>\\n<a class=\\'toggle\\' href=\\'javascript:void(0)\\'>\\n<span class=\\'zippy\\'>\\n\\n        &#9658;&#160;\\n      \\n</span>\\n</a>\\n<a class=\\'post-count-link\\' href=\\'http://blog.python.org/2011/06/\\'>\\nJune\\n</a>\\n<span class=\\'post-count\\' dir=\\'ltr\\'>(1)</span>\\n</li>\\n</ul>\\n<ul class=\\'hierarchy\\'>\\n<li class=\\'archivedate collapsed\\'>\\n<a class=\\'toggle\\' href=\\'javascript:void(0)\\'>\\n<span class=\\'zippy\\'>\\n\\n        &#9658;&#160;\\n      \\n</span>\\n</a>\\n<a class=\\'post-count-link\\' href=\\'http://blog.python.org/2011/05/\\'>\\nMay\\n</a>\\n<span class=\\'post-count\\' dir=\\'ltr\\'>(7)</span>\\n</li>\\n</ul>\\n<ul class=\\'hierarchy\\'>\\n<li class=\\'archivedate collapsed\\'>\\n<a class=\\'toggle\\' href=\\'javascript:void(0)\\'>\\n<span class=\\'zippy\\'>\\n\\n        &#9658;&#160;\\n      \\n</span>\\n</a>\\n<a class=\\'post-count-link\\' href=\\'http://blog.python.org/2011/04/\\'>\\nApril\\n</a>\\n<span class=\\'post-count\\' dir=\\'ltr\\'>(7)</span>\\n</li>\\n</ul>\\n<ul class=\\'hierarchy\\'>\\n<li class=\\'archivedate collapsed\\'>\\n<a class=\\'toggle\\' href=\\'javascript:void(0)\\'>\\n<span class=\\'zippy\\'>\\n\\n        &#9658;&#160;\\n      \\n</span>\\n</a>\\n<a class=\\'post-count-link\\' href=\\'http://blog.python.org/2011/03/\\'>\\nMarch\\n</a>\\n<span class=\\'post-count\\' dir=\\'ltr\\'>(5)</span>\\n</li>\\n</ul>\\n</li>\\n</ul>\\n</div>\\n</div>\\n<div class=\\'clear\\'></div>\\n<span class=\\'widget-item-control\\'>\\n<span class=\\'item-control blog-admin\\'>\\n<a class=\\'quickedit\\' href=\\'//www.blogger.com/rearrange?blogID=3941553907430899163&widgetType=BlogArchive&widgetId=BlogArchive1&action=editWidget&sectionId=sidebar-right-1\\' onclick=\\'return _WidgetManager._PopupConfig(document.getElementById(\"BlogArchive1\"));\\' target=\\'configBlogArchive1\\' title=\\'Edit\\'>\\n<img alt=\\'\\' height=\\'18\\' src=\\'https://resources.blogblog.com/img/icon18_wrench_allbkg.png\\' width=\\'18\\'/>\\n</a>\\n</span>\\n</span>\\n<div class=\\'clear\\'></div>\\n</div>\\n</div><div class=\\'widget Profile\\' data-version=\\'1\\' id=\\'Profile1\\'>\\n<h2>Contributors</h2>\\n<div class=\\'widget-content\\'>\\n<ul>\\n<li><a class=\\'profile-name-link g-profile\\' href=\\'https://www.blogger.com/profile/14971120963699387108\\' style=\\'background-image: url(//www.blogger.com/img/logo-16.png);\\'>A.M. Kuchling</a></li>\\n<li><a class=\\'profile-name-link g-profile\\' href=\\'https://plus.google.com/105172091805567849283\\' style=\\'background-image: url(//www.google.com/images/icons/ui/gprofile_button-16.png);\\'>Alfonso de la Guarda Reyes</a></li>\\n<li><a class=\\'profile-name-link g-profile\\' href=\\'https://www.blogger.com/profile/03855116138400732464\\' style=\\'background-image: url(//www.blogger.com/img/logo-16.png);\\'>Anthony Scopatz</a></li>\\n<li><a class=\\'profile-name-link g-profile\\' href=\\'https://www.blogger.com/profile/08838587997498042260\\' style=\\'background-image: url(//www.blogger.com/img/logo-16.png);\\'>Antoine P.</a></li>\\n<li><a class=\\'profile-name-link g-profile\\' href=\\'https://www.blogger.com/profile/06955536323236904839\\' style=\\'background-image: url(//www.blogger.com/img/logo-16.png);\\'>Benjamin</a></li>\\n<li><a class=\\'profile-name-link g-profile\\' href=\\'https://www.blogger.com/profile/14604644394514192040\\' style=\\'background-image: url(//www.blogger.com/img/logo-16.png);\\'>Brian Curtin</a></li>\\n<li><a class=\\'profile-name-link g-profile\\' href=\\'https://www.blogger.com/profile/14913018830568213369\\' style=\\'background-image: url(//www.blogger.com/img/logo-16.png);\\'>Davidmh</a></li>\\n<li><a class=\\'profile-name-link g-profile\\' href=\\'https://www.blogger.com/profile/03794667532189865209\\' style=\\'background-image: url(//www.blogger.com/img/logo-16.png);\\'>Donald Stufft</a></li>\\n<li><a class=\\'profile-name-link g-profile\\' href=\\'https://www.blogger.com/profile/01892352754222143463\\' style=\\'background-image: url(//www.blogger.com/img/logo-16.png);\\'>Doug Hellmann</a></li>\\n<li><a class=\\'profile-name-link g-profile\\' href=\\'https://www.blogger.com/profile/06795605825443412201\\' style=\\'background-image: url(//www.blogger.com/img/logo-16.png);\\'>Ezio Melotti</a></li>\\n<li><a class=\\'profile-name-link g-profile\\' href=\\'https://www.blogger.com/profile/14973145408214215809\\' style=\\'background-image: url(//www.blogger.com/img/logo-16.png);\\'>Georg Brandl</a></li>\\n<li><a class=\\'profile-name-link g-profile\\' href=\\'https://www.blogger.com/profile/07543015027323408421\\' style=\\'background-image: url(//www.blogger.com/img/logo-16.png);\\'>Jesse</a></li>\\n<li><a class=\\'profile-name-link g-profile\\' href=\\'https://www.blogger.com/profile/17574962105063127018\\' style=\\'background-image: url(//www.blogger.com/img/logo-16.png);\\'>Kelsey Hightower</a></li>\\n<li><a class=\\'profile-name-link g-profile\\' href=\\'https://www.blogger.com/profile/13232068831778121461\\' style=\\'background-image: url(//www.blogger.com/img/logo-16.png);\\'>Larry Hastings</a></li>\\n<li><a class=\\'profile-name-link g-profile\\' href=\\'https://www.blogger.com/profile/07757697862303956313\\' style=\\'background-image: url(//www.blogger.com/img/logo-16.png);\\'>Mathieu Leduc-Hamel</a></li>\\n<li><a class=\\'profile-name-link g-profile\\' href=\\'https://www.blogger.com/profile/08761481986934375758\\' style=\\'background-image: url(//www.blogger.com/img/logo-16.png);\\'>Michael Markert</a></li>\\n<li><a class=\\'profile-name-link g-profile\\' href=\\'https://www.blogger.com/profile/06351908417200979114\\' style=\\'background-image: url(//www.blogger.com/img/logo-16.png);\\'>Mike Driscoll</a></li>\\n<li><a class=\\'profile-name-link g-profile\\' href=\\'https://www.blogger.com/profile/17112379650586333719\\' style=\\'background-image: url(//www.blogger.com/img/logo-16.png);\\'>Ned Deily</a></li>\\n<li><a class=\\'profile-name-link g-profile\\' href=\\'https://plus.google.com/105644937960330777422\\' style=\\'background-image: url(//www.google.com/images/icons/ui/gprofile_button-16.png);\\'>Nick Coghlan</a></li>\\n<li><a class=\\'profile-name-link g-profile\\' href=\\'https://www.blogger.com/profile/17557923197983461835\\' style=\\'background-image: url(//www.blogger.com/img/logo-16.png);\\'>Paul Moore</a></li>\\n<li><a class=\\'profile-name-link g-profile\\' href=\\'https://plus.google.com/116670685619813088895\\' style=\\'background-image: url(//www.google.com/images/icons/ui/gprofile_button-16.png);\\'>Paulo Nuin</a></li>\\n<li><a class=\\'profile-name-link g-profile\\' href=\\'https://www.blogger.com/profile/17437958274873977298\\' style=\\'background-image: url(//www.blogger.com/img/logo-16.png);\\'>Philip Jenvey</a></li>\\n<li><a class=\\'profile-name-link g-profile\\' href=\\'https://plus.google.com/103916922127569633396\\' style=\\'background-image: url(//www.google.com/images/icons/ui/gprofile_button-16.png);\\'>engelbert gruber</a></li>\\n<li><a class=\\'profile-name-link g-profile\\' href=\\'https://www.blogger.com/profile/14658404449913582628\\' style=\\'background-image: url(//www.blogger.com/img/logo-16.png);\\'>haypo</a></li>\\n<li><a class=\\'profile-name-link g-profile\\' href=\\'https://www.blogger.com/profile/07627402554307001461\\' style=\\'background-image: url(//www.blogger.com/img/logo-16.png);\\'>tp</a></li>\\n<li><a class=\\'profile-name-link g-profile\\' href=\\'https://www.blogger.com/profile/10522887977715879728\\' style=\\'background-image: url(//www.blogger.com/img/logo-16.png);\\'>Éric Araujo</a></li>\\n</ul>\\n<div class=\\'clear\\'></div>\\n<span class=\\'widget-item-control\\'>\\n<span class=\\'item-control blog-admin\\'>\\n<a class=\\'quickedit\\' href=\\'//www.blogger.com/rearrange?blogID=3941553907430899163&widgetType=Profile&widgetId=Profile1&action=editWidget&sectionId=sidebar-right-1\\' onclick=\\'return _WidgetManager._PopupConfig(document.getElementById(\"Profile1\"));\\' target=\\'configProfile1\\' title=\\'Edit\\'>\\n<img alt=\\'\\' height=\\'18\\' src=\\'https://resources.blogblog.com/img/icon18_wrench_allbkg.png\\' width=\\'18\\'/>\\n</a>\\n</span>\\n</span>\\n<div class=\\'clear\\'></div>\\n</div>\\n</div><div class=\\'widget HTML\\' data-version=\\'1\\' id=\\'HTML3\\'>\\n<h2 class=\\'title\\'>Copyright</h2>\\n<div class=\\'widget-content\\'>\\n<a rel=\"license\" href=\"http://creativecommons.org/licenses/by-nc-sa/3.0/\"><img alt=\"Creative Commons License\" style=\"border-width:0\" src=\"http://i.creativecommons.org/l/by-nc-sa/3.0/88x31.png\" /></a><br /><span xmlns:dct=\"http://purl.org/dc/terms/\" href=\"http://purl.org/dc/dcmitype/Text\" property=\"dct:title\" rel=\"dct:type\">Python Insider</span> by <a xmlns:cc=\"http://creativecommons.org/ns#\" href=\"http://www.python.org/\" property=\"cc:attributionName\" rel=\"cc:attributionURL\">the Python Core Developers</a> is licensed under a <a rel=\"license\" href=\"http://creativecommons.org/licenses/by-nc-sa/3.0/\">Creative Commons Attribution-NonCommercial-ShareAlike 3.0 Unported License</a>.<br />Based on a work at <a xmlns:dct=\"http://purl.org/dc/terms/\" href=\"http://blog.python.org/\" rel=\"dct:source\">blog.python.org</a>.\\n</div>\\n<div class=\\'clear\\'></div>\\n<span class=\\'widget-item-control\\'>\\n<span class=\\'item-control blog-admin\\'>\\n<a class=\\'quickedit\\' href=\\'//www.blogger.com/rearrange?blogID=3941553907430899163&widgetType=HTML&widgetId=HTML3&action=editWidget&sectionId=sidebar-right-1\\' onclick=\\'return _WidgetManager._PopupConfig(document.getElementById(\"HTML3\"));\\' target=\\'configHTML3\\' title=\\'Edit\\'>\\n<img alt=\\'\\' height=\\'18\\' src=\\'https://resources.blogblog.com/img/icon18_wrench_allbkg.png\\' width=\\'18\\'/>\\n</a>\\n</span>\\n</span>\\n<div class=\\'clear\\'></div>\\n</div></div>\\n<div id=\\'attribution1\\'>\\n<div class=\\'section\\' id=\\'attribution\\'><div class=\\'widget Attribution\\' data-version=\\'1\\' id=\\'Attribution1\\'>\\n<div class=\\'widget-content\\' style=\\'text-align: center;\\'>\\nPowered by <a href=\\'https://www.blogger.com\\' target=\\'_blank\\'>Blogger</a>.\\n</div>\\n<div class=\\'clear\\'></div>\\n<span class=\\'widget-item-control\\'>\\n<span class=\\'item-control blog-admin\\'>\\n<a class=\\'quickedit\\' href=\\'//www.blogger.com/rearrange?blogID=3941553907430899163&widgetType=Attribution&widgetId=Attribution1&action=editWidget&sectionId=attribution\\' onclick=\\'return _WidgetManager._PopupConfig(document.getElementById(\"Attribution1\"));\\' target=\\'configAttribution1\\' title=\\'Edit\\'>\\n<img alt=\\'\\' height=\\'18\\' src=\\'https://resources.blogblog.com/img/icon18_wrench_allbkg.png\\' width=\\'18\\'/>\\n</a>\\n</span>\\n</span>\\n<div class=\\'clear\\'></div>\\n</div></div>\\n</div>\\n</div>\\n</aside>\\n<div style=\\'clear:both\\'>&nbsp;</div>\\n</div>\\n<script src=\\'https://apis.google.com/js/plusone.js\\' type=\\'text/javascript\\'></script>\\n\\n<script type=\"text/javascript\" src=\"https://www.blogger.com/static/v1/widgets/1929302928-widgets.js\"></script>\\n<script type=\\'text/javascript\\'>\\nwindow[\\'__wavt\\'] = \\'AOuZoY59bEL0WWWryG8W6i5Osi9AqFpDsQ:1509130197184\\';_WidgetManager._Init(\\'//www.blogger.com/rearrange?blogID\\\\x3d3941553907430899163\\',\\'//blog.python.org/2017/10/python-370a2-now-available-for-testing.html\\',\\'3941553907430899163\\');\\n_WidgetManager._SetDataContext([{\\'name\\': \\'blog\\', \\'data\\': {\\'blogId\\': \\'3941553907430899163\\', \\'title\\': \\'Python Insider\\', \\'url\\': \\'http://blog.python.org/2017/10/python-370a2-now-available-for-testing.html\\', \\'canonicalUrl\\': \\'http://blog.python.org/2017/10/python-370a2-now-available-for-testing.html\\', \\'homepageUrl\\': \\'http://blog.python.org/\\', \\'searchUrl\\': \\'http://blog.python.org/search\\', \\'canonicalHomepageUrl\\': \\'http://blog.python.org/\\', \\'blogspotFaviconUrl\\': \\'http://blog.python.org/favicon.ico\\', \\'bloggerUrl\\': \\'https://www.blogger.com\\', \\'hasCustomDomain\\': true, \\'httpsEnabled\\': false, \\'enabledCommentProfileImages\\': true, \\'gPlusViewType\\': \\'FILTERED_POSTMOD\\', \\'adultContent\\': false, \\'analyticsAccountNumber\\': \\'\\', \\'encoding\\': \\'UTF-8\\', \\'locale\\': \\'en\\', \\'localeUnderscoreDelimited\\': \\'en\\', \\'languageDirection\\': \\'ltr\\', \\'isPrivate\\': false, \\'isMobile\\': false, \\'isMobileRequest\\': false, \\'mobileClass\\': \\'\\', \\'isPrivateBlog\\': false, \\'feedLinks\\': \\'\\\\x3clink rel\\\\x3d\\\\x22alternate\\\\x22 type\\\\x3d\\\\x22application/atom+xml\\\\x22 title\\\\x3d\\\\x22Python Insider - Atom\\\\x22 href\\\\x3d\\\\x22http://blog.python.org/feeds/posts/default\\\\x22 /\\\\x3e\\\\n\\\\x3clink rel\\\\x3d\\\\x22alternate\\\\x22 type\\\\x3d\\\\x22application/rss+xml\\\\x22 title\\\\x3d\\\\x22Python Insider - RSS\\\\x22 href\\\\x3d\\\\x22http://blog.python.org/feeds/posts/default?alt\\\\x3drss\\\\x22 /\\\\x3e\\\\n\\\\x3clink rel\\\\x3d\\\\x22service.post\\\\x22 type\\\\x3d\\\\x22application/atom+xml\\\\x22 title\\\\x3d\\\\x22Python Insider - Atom\\\\x22 href\\\\x3d\\\\x22https://www.blogger.com/feeds/3941553907430899163/posts/default\\\\x22 /\\\\x3e\\\\n\\\\n\\\\x3clink rel\\\\x3d\\\\x22alternate\\\\x22 type\\\\x3d\\\\x22application/atom+xml\\\\x22 title\\\\x3d\\\\x22Python Insider - Atom\\\\x22 href\\\\x3d\\\\x22http://blog.python.org/feeds/2780261418574198189/comments/default\\\\x22 /\\\\x3e\\\\n\\', \\'meTag\\': \\'\\', \\'openIdOpTag\\': \\'\\', \\'adsenseHostId\\': \\'ca-host-pub-1556223355139109\\', \\'adsenseHasAds\\': false, \\'ieCssRetrofitLinks\\': \\'\\\\x3c!--[if IE]\\\\x3e\\\\x3cscript type\\\\x3d\\\\x22text/javascript\\\\x22 src\\\\x3d\\\\x22https://www.blogger.com/static/v1/jsbin/3858758734-ieretrofit.js\\\\x22\\\\x3e\\\\x3c/script\\\\x3e\\\\n\\\\x3c![endif]--\\\\x3e\\', \\'view\\': \\'\\', \\'dynamicViewsCommentsSrc\\': \\'//www.blogblog.com/dynamicviews/4224c15c4e7c9321/js/comments.js\\', \\'dynamicViewsScriptSrc\\': \\'//www.blogblog.com/dynamicviews/a0ff9c4e26f0f32f\\', \\'plusOneApiSrc\\': \\'https://apis.google.com/js/plusone.js\\', \\'sharing\\': {\\'platforms\\': [{\\'name\\': \\'Get link\\', \\'key\\': \\'link\\', \\'shareMessage\\': \\'Get link\\', \\'target\\': \\'\\'}, {\\'name\\': \\'Facebook\\', \\'key\\': \\'facebook\\', \\'shareMessage\\': \\'Share to Facebook\\', \\'target\\': \\'facebook\\'}, {\\'name\\': \\'BlogThis!\\', \\'key\\': \\'blogThis\\', \\'shareMessage\\': \\'BlogThis!\\', \\'target\\': \\'blog\\'}, {\\'name\\': \\'Twitter\\', \\'key\\': \\'twitter\\', \\'shareMessage\\': \\'Share to Twitter\\', \\'target\\': \\'twitter\\'}, {\\'name\\': \\'Pinterest\\', \\'key\\': \\'pinterest\\', \\'shareMessage\\': \\'Share to Pinterest\\', \\'target\\': \\'pinterest\\'}, {\\'name\\': \\'Google+\\', \\'key\\': \\'googlePlus\\', \\'shareMessage\\': \\'Share to Google+\\', \\'target\\': \\'googleplus\\'}, {\\'name\\': \\'Email\\', \\'key\\': \\'email\\', \\'shareMessage\\': \\'Email\\', \\'target\\': \\'email\\'}], \\'googlePlusShareButtonWidth\\': 300, \\'googlePlusBootstrap\\': \\'\\\\x3cscript type\\\\x3d\\\\x22text/javascript\\\\x22\\\\x3ewindow.___gcfg \\\\x3d {\\\\x27lang\\\\x27: \\\\x27en\\\\x27};\\\\x3c/script\\\\x3e\\'}, \\'hasCustomJumpLinkMessage\\': false, \\'jumpLinkMessage\\': \\'Read more\\', \\'pageType\\': \\'item\\', \\'postId\\': \\'2780261418574198189\\', \\'pageName\\': \\'Python 3.7.0a2 now available for testing\\', \\'pageTitle\\': \\'Python Insider: Python 3.7.0a2 now available for testing\\'}}, {\\'name\\': \\'features\\', \\'data\\': {\\'lazy_images\\': \\'false\\', \\'unsupported_browser_message\\': \\'false\\', \\'lightbox_img_parsing\\': \\'true\\', \\'video_theatre_support\\': \\'true\\', \\'sharing_get_link_dialog\\': \\'false\\', \\'sharing_native\\': \\'false\\'}}, {\\'name\\': \\'messages\\', \\'data\\': {\\'edit\\': \\'Edit\\', \\'linkCopiedToClipboard\\': \\'Link copied to clipboard!\\', \\'ok\\': \\'Ok\\', \\'postLink\\': \\'Post Link\\'}}, {\\'name\\': \\'template\\', \\'data\\': {\\'name\\': \\'custom\\', \\'localizedName\\': \\'Custom\\', \\'isResponsive\\': false, \\'isAlternateRendering\\': false, \\'isCustom\\': true}}, {\\'name\\': \\'view\\', \\'data\\': {\\'classic\\': {\\'name\\': \\'classic\\', \\'url\\': \\'?view\\\\x3dclassic\\'}, \\'flipcard\\': {\\'name\\': \\'flipcard\\', \\'url\\': \\'?view\\\\x3dflipcard\\'}, \\'magazine\\': {\\'name\\': \\'magazine\\', \\'url\\': \\'?view\\\\x3dmagazine\\'}, \\'mosaic\\': {\\'name\\': \\'mosaic\\', \\'url\\': \\'?view\\\\x3dmosaic\\'}, \\'sidebar\\': {\\'name\\': \\'sidebar\\', \\'url\\': \\'?view\\\\x3dsidebar\\'}, \\'snapshot\\': {\\'name\\': \\'snapshot\\', \\'url\\': \\'?view\\\\x3dsnapshot\\'}, \\'timeslide\\': {\\'name\\': \\'timeslide\\', \\'url\\': \\'?view\\\\x3dtimeslide\\'}, \\'isMobile\\': false, \\'title\\': \\'Python 3.7.0a2 now available for testing\\', \\'description\\': \\'Python&#160; 3.7.0a2 &#160;is the second of four planned alpha releases of Python 3.7,  the next feature release of Python. &#160;During the alpha phase, P...\\', \\'url\\': \\'http://blog.python.org/2017/10/python-370a2-now-available-for-testing.html\\', \\'type\\': \\'item\\', \\'isSingleItem\\': true, \\'isMultipleItems\\': false, \\'isError\\': false, \\'isPage\\': false, \\'isPost\\': true, \\'isHomepage\\': false, \\'isArchive\\': false, \\'isLabelSearch\\': false, \\'postId\\': 2780261418574198189}}]);\\n_WidgetManager._RegisterWidget(\\'_NavbarView\\', new _WidgetInfo(\\'Navbar1\\', \\'navbar\\', null, document.getElementById(\\'Navbar1\\'), {}, \\'displayModeFull\\'));\\n_WidgetManager._RegisterWidget(\\'_HeaderView\\', new _WidgetInfo(\\'Header1\\', \\'header\\', null, document.getElementById(\\'Header1\\'), {}, \\'displayModeFull\\'));\\n_WidgetManager._RegisterWidget(\\'_BlogView\\', new _WidgetInfo(\\'Blog1\\', \\'main\\', null, document.getElementById(\\'Blog1\\'), {\\'cmtInteractionsEnabled\\': false, \\'useNgc\\': false, \\'lightboxEnabled\\': true, \\'lightboxModuleUrl\\': \\'https://www.blogger.com/static/v1/jsbin/3160141751-lbx.js\\', \\'lightboxCssUrl\\': \\'https://www.blogger.com/static/v1/v-css/368954415-lightbox_bundle.css\\'}, \\'displayModeFull\\'));\\n_WidgetManager._RegisterWidget(\\'_HTMLView\\', new _WidgetInfo(\\'HTML2\\', \\'main\\', null, document.getElementById(\\'HTML2\\'), {}, \\'displayModeFull\\'));\\n_WidgetManager._RegisterWidget(\\'_HTMLView\\', new _WidgetInfo(\\'HTML1\\', \\'sidebar-right-1\\', null, document.getElementById(\\'HTML1\\'), {}, \\'displayModeFull\\'));\\n_WidgetManager._RegisterWidget(\\'_LinkListView\\', new _WidgetInfo(\\'LinkList1\\', \\'sidebar-right-1\\', null, document.getElementById(\\'LinkList1\\'), {}, \\'displayModeFull\\'));\\n_WidgetManager._RegisterWidget(\\'_LinkListView\\', new _WidgetInfo(\\'LinkList2\\', \\'sidebar-right-1\\', null, document.getElementById(\\'LinkList2\\'), {}, \\'displayModeFull\\'));\\n_WidgetManager._RegisterWidget(\\'_BlogListView\\', new _WidgetInfo(\\'BlogList1\\', \\'sidebar-right-1\\', null, document.getElementById(\\'BlogList1\\'), {\\'numItemsToShow\\': 0, \\'totalItems\\': 13}, \\'displayModeFull\\'));\\n_WidgetManager._RegisterWidget(\\'_BlogArchiveView\\', new _WidgetInfo(\\'BlogArchive1\\', \\'sidebar-right-1\\', null, document.getElementById(\\'BlogArchive1\\'), {\\'languageDirection\\': \\'ltr\\', \\'loadingMessage\\': \\'Loading\\\\x26hellip;\\'}, \\'displayModeFull\\'));\\n_WidgetManager._RegisterWidget(\\'_ProfileView\\', new _WidgetInfo(\\'Profile1\\', \\'sidebar-right-1\\', null, document.getElementById(\\'Profile1\\'), {}, \\'displayModeFull\\'));\\n_WidgetManager._RegisterWidget(\\'_HTMLView\\', new _WidgetInfo(\\'HTML3\\', \\'sidebar-right-1\\', null, document.getElementById(\\'HTML3\\'), {}, \\'displayModeFull\\'));\\n_WidgetManager._RegisterWidget(\\'_AttributionView\\', new _WidgetInfo(\\'Attribution1\\', \\'attribution\\', null, document.getElementById(\\'Attribution1\\'), {}, \\'displayModeFull\\'));\\n</script>\\n</body>\\n</html>'"
      ]
     },
     "execution_count": 100,
     "metadata": {},
     "output_type": "execute_result"
    }
   ],
   "source": []
  },
  {
   "cell_type": "markdown",
   "metadata": {
    "slideshow": {
     "slide_type": "slide"
    }
   },
   "source": [
    "### Задача на парсинг\n",
    "\n",
    "Давайте достанем текст превью к первой новости на сайте http://python.org"
   ]
  },
  {
   "cell_type": "code",
   "execution_count": null,
   "metadata": {},
   "outputs": [],
   "source": []
  },
  {
   "cell_type": "markdown",
   "metadata": {
    "slideshow": {
     "slide_type": "slide"
    }
   },
   "source": [
    "### На дом\n",
    "\n",
    "    * Настроить Git, скачать репозиторий\n",
    "    * Почитать про регулярные выражения, подробно обсудим на следующем занятии\n",
    "    * https://py.checkio.org/mission/non-unique-elements/\n",
    "    * https://py.checkio.org/mission/absolute-sorting/\n",
    "    * https://py.checkio.org/mission/x-o-referee/"
   ]
  },
  {
   "cell_type": "code",
   "execution_count": null,
   "metadata": {},
   "outputs": [],
   "source": []
  }
 ],
 "metadata": {
  "celltoolbar": "Slideshow",
  "kernelspec": {
   "display_name": "Python 3",
   "language": "python",
   "name": "python3"
  },
  "language_info": {
   "codemirror_mode": {
    "name": "ipython",
    "version": 3
   },
   "file_extension": ".py",
   "mimetype": "text/x-python",
   "name": "python",
   "nbconvert_exporter": "python",
   "pygments_lexer": "ipython3",
   "version": "3.6.0"
  }
 },
 "nbformat": 4,
 "nbformat_minor": 2
}
