{
 "cells": [
  {
   "cell_type": "code",
   "execution_count": null,
   "metadata": {
    "slideshow": {
     "slide_type": "skip"
    }
   },
   "outputs": [],
   "source": [
    "%%html\n",
    "<style>\n",
    ".text_cell_render * {\n",
    "   font-family: OfficinaSansCTT;\n",
    "}\n",
    ".reveal code {\n",
    "    font-family: OfficinaSansCTT;\n",
    "}\n",
    ".text_cell_render h3 {\n",
    "   font-family: OfficinaSansCTT;\n",
    "}\n",
    ".reveal section img {\n",
    "    max-height: 500px;\n",
    "    margin-left: auto;\n",
    "    margin-right: auto;\n",
    "}\n",
    "</style>"
   ]
  },
  {
   "cell_type": "markdown",
   "metadata": {
    "slideshow": {
     "slide_type": "slide"
    }
   },
   "source": [
    "### Вопросы по прошлому занятию\n",
    "\n",
    "    * Почему файлы лучше всего открывать через with?\n",
    "    * Зачем нужен Git?\n",
    "    * Как переместить файл из папки \"/some/folder\" в папку \"/another/dir\"?\n",
    "    * Зачем нужен subprocess.PIPE?\n",
    "    * Как вывести JSON-строку \"красиво\" c отступом в два пробела?\n",
    "    * Как сделать POST-запрос через requests?"
   ]
  },
  {
   "cell_type": "code",
   "execution_count": null,
   "metadata": {},
   "outputs": [],
   "source": []
  },
  {
   "cell_type": "markdown",
   "metadata": {
    "slideshow": {
     "slide_type": "slide"
    }
   },
   "source": [
    "### Разбор задачи 1\n",
    "\n",
    "https://py.checkio.org/mission/non-unique-elements/\n",
    "\n",
    "* Как посчитать, сколько раз элемент встречается в списке?\n",
    "* Как отфильтровать список?"
   ]
  },
  {
   "cell_type": "code",
   "execution_count": null,
   "metadata": {
    "slideshow": {
     "slide_type": "slide"
    }
   },
   "outputs": [],
   "source": [
    "from collections import Counter\n",
    "\n",
    "def checkio(arr):\n",
    "    counts = Counter(arr)\n",
    "    return [\n",
    "        w for w in arr if counts[w] > 1\n",
    "    ]"
   ]
  },
  {
   "cell_type": "code",
   "execution_count": null,
   "metadata": {},
   "outputs": [],
   "source": []
  },
  {
   "cell_type": "markdown",
   "metadata": {
    "slideshow": {
     "slide_type": "slide"
    }
   },
   "source": [
    "### Разбор задачи 2\n",
    "\n",
    "https://py.checkio.org/mission/absolute-sorting/\n",
    "\n",
    "* Как вообще отсортировать список?\n",
    "* Какой аргумент поможет брать при сортировке абсолютное значение?"
   ]
  },
  {
   "cell_type": "code",
   "execution_count": null,
   "metadata": {
    "slideshow": {
     "slide_type": "slide"
    }
   },
   "outputs": [],
   "source": [
    "def checkio(nums):\n",
    "    return sorted(nums, key=abs)"
   ]
  },
  {
   "cell_type": "code",
   "execution_count": null,
   "metadata": {},
   "outputs": [],
   "source": []
  },
  {
   "cell_type": "markdown",
   "metadata": {
    "slideshow": {
     "slide_type": "slide"
    }
   },
   "source": [
    "### Разбор задачи 3\n",
    "\n",
    "https://py.checkio.org/mission/x-o-referee/\n",
    "\n",
    "* Можно сравнивать более двух элементов за раз:\n",
    "    - ***if a == b == c != d***"
   ]
  },
  {
   "cell_type": "code",
   "execution_count": null,
   "metadata": {
    "slideshow": {
     "slide_type": "slide"
    }
   },
   "outputs": [],
   "source": [
    "def checkio(board):\n",
    "    for i in range(3):\n",
    "        if board[i][0] == board[i][1] == board[i][2] != \".\":\n",
    "            return board[i][0]\n",
    "        if board[0][i] == board[1][i] == board[2][i] != \".\":\n",
    "            return board[0][i]\n",
    "        \n",
    "    if board[0][0] == board[1][1] == board[2][2] != \".\":\n",
    "        return board[0][0]\n",
    "    if board[0][2] == board[1][1] == board[2][0] != \".\":\n",
    "        return board[0][2]\n",
    "    return \"D\""
   ]
  },
  {
   "cell_type": "markdown",
   "metadata": {
    "slideshow": {
     "slide_type": "slide"
    }
   },
   "source": [
    "### Регулярные выражения\n",
    "\n",
    "* Зачем они нужны?"
   ]
  },
  {
   "cell_type": "code",
   "execution_count": null,
   "metadata": {
    "slideshow": {
     "slide_type": "slide"
    }
   },
   "outputs": [],
   "source": [
    "import re\n",
    "\n",
    "re.match(r\"^\\+7\\d{10}$\", \"+78005553535\").group(0)  # проверить, соответствует ли строка целиком\n",
    "a = \"Пишите мне на адрес админ@суперхакер.рф или vasya@superhacker.me! Чмоки!\"\n",
    "re.search(r\"\\w+@\\w+\\.\\w{2,5}\", a).group(0)   # найти первое вхождение\n",
    "re.findall(r\"\\w+@\\w+\\.\\w{2,5}\", a)  # найти все вхождения\n",
    "\n",
    "my_re = re.compile(r\"ya_regulyarko\")  # позволит делать my_re.match(s), my_re.search(s), etc.\n",
    "\n",
    "# Можно задавать диапазон: r\"[A-Za-z]\""
   ]
  },
  {
   "cell_type": "code",
   "execution_count": null,
   "metadata": {},
   "outputs": [],
   "source": []
  },
  {
   "cell_type": "markdown",
   "metadata": {
    "slideshow": {
     "slide_type": "slide"
    }
   },
   "source": [
    "### Хороший сайт для практики\n",
    "\n",
    "https://regexr.com/"
   ]
  },
  {
   "cell_type": "markdown",
   "metadata": {
    "slideshow": {
     "slide_type": "slide"
    }
   },
   "source": [
    "### Опять парсинг\n",
    "\n",
    "Загрузите в переменную содержимое файла **test.html** и найдите в нем все *уникальные* имена, не используя bs4. Именем считаются любые два слова, оба начинающиеся с большой буквы и разделенные пробелом.\n",
    "\n",
    "Как в регулярном выражении обозначается пробел?"
   ]
  },
  {
   "cell_type": "code",
   "execution_count": null,
   "metadata": {
    "slideshow": {
     "slide_type": "-"
    }
   },
   "outputs": [],
   "source": []
  },
  {
   "cell_type": "markdown",
   "metadata": {
    "slideshow": {
     "slide_type": "slide"
    }
   },
   "source": [
    "### Итераторы и генераторы"
   ]
  },
  {
   "cell_type": "code",
   "execution_count": null,
   "metadata": {},
   "outputs": [],
   "source": [
    "b = [\n",
    "    a * 10 for a in range(10)\n",
    "    if a % 2 == 0\n",
    "]\n",
    "b"
   ]
  },
  {
   "cell_type": "code",
   "execution_count": null,
   "metadata": {},
   "outputs": [],
   "source": [
    "c = (\n",
    "    a * 10 for a in range(10)\n",
    "    if a % 2 == 0\n",
    ")\n",
    "c"
   ]
  },
  {
   "cell_type": "code",
   "execution_count": null,
   "metadata": {
    "slideshow": {
     "slide_type": "slide"
    }
   },
   "outputs": [],
   "source": [
    "for num in c:\n",
    "    print(num)"
   ]
  },
  {
   "cell_type": "markdown",
   "metadata": {
    "slideshow": {
     "slide_type": "-"
    }
   },
   "source": [
    "- **\"Итератор\" - это объект с интерфейсом перебора**\n",
    "- **\"Генератор\" - это итератор, в котором при переборе запускается дополнительный код**"
   ]
  },
  {
   "cell_type": "code",
   "execution_count": null,
   "metadata": {
    "slideshow": {
     "slide_type": "slide"
    }
   },
   "outputs": [],
   "source": [
    "a = [5, 6, 7, 8, 9, 10]\n",
    "b = [3, 2, 1, 0, -1, -2]\n",
    "\n",
    "def pow2(num):\n",
    "    return num ** 2\n",
    "\n",
    "def divisible_by_3(num):\n",
    "    return num % 3 == 0\n",
    "\n",
    "map(pow2, a) # “лениво” применить funс ко всем элементам списка\n",
    "zip(a, b) # брать попарно элементы из двух списков\n",
    "# а что вернет zip(a[::2], a[1::2])?\n",
    "filter(divisible_by_3, a) # брать только те элементы, для которых func вернет True"
   ]
  },
  {
   "cell_type": "code",
   "execution_count": null,
   "metadata": {},
   "outputs": [],
   "source": []
  },
  {
   "cell_type": "markdown",
   "metadata": {
    "slideshow": {
     "slide_type": "slide"
    }
   },
   "source": [
    "### Безымянные функции"
   ]
  },
  {
   "cell_type": "code",
   "execution_count": null,
   "metadata": {
    "slideshow": {
     "slide_type": "-"
    }
   },
   "outputs": [],
   "source": [
    "# короткие безымянные функции\n",
    "a = [5, 6, 7]\n",
    "map(lambda num: num ** 2, a)\n",
    "filter(lambda num: num % 3 == 0, a)"
   ]
  },
  {
   "cell_type": "code",
   "execution_count": null,
   "metadata": {},
   "outputs": [],
   "source": []
  },
  {
   "cell_type": "markdown",
   "metadata": {
    "slideshow": {
     "slide_type": "slide"
    }
   },
   "source": [
    "### Функция вызывается ТОЛЬКО на итерации цикла\n",
    "\n",
    "* Внутри Python на каждой итерации вызывает next(our_gen)"
   ]
  },
  {
   "cell_type": "code",
   "execution_count": null,
   "metadata": {},
   "outputs": [],
   "source": []
  },
  {
   "cell_type": "markdown",
   "metadata": {
    "slideshow": {
     "slide_type": "slide"
    }
   },
   "source": [
    "### Как такое написать?"
   ]
  },
  {
   "cell_type": "code",
   "execution_count": null,
   "metadata": {
    "slideshow": {
     "slide_type": "-"
    }
   },
   "outputs": [],
   "source": [
    "# то же самое, что \n",
    "# gen_squares = (i * i for i in range(n))\n",
    "\n",
    "def gen_squares(n):\n",
    "    for i in range(n):\n",
    "        yield i * i"
   ]
  },
  {
   "cell_type": "code",
   "execution_count": null,
   "metadata": {},
   "outputs": [],
   "source": [
    "mygen = gen_squares(5)"
   ]
  },
  {
   "cell_type": "code",
   "execution_count": null,
   "metadata": {},
   "outputs": [],
   "source": [
    "next(mygen)"
   ]
  },
  {
   "cell_type": "markdown",
   "metadata": {
    "slideshow": {
     "slide_type": "slide"
    }
   },
   "source": [
    "### Числа Фибоначчи!"
   ]
  },
  {
   "cell_type": "code",
   "execution_count": null,
   "metadata": {
    "slideshow": {
     "slide_type": "-"
    }
   },
   "outputs": [],
   "source": [
    "def gen(n):\n",
    "    if n <= 1:\n",
    "        return 0\n",
    "    elif n == 2:\n",
    "        return 1\n",
    "    \n",
    "    a = 0\n",
    "    b = 1\n",
    "    for _ in range(2, n):\n",
    "        a, b = b, a + b\n",
    "        \n",
    "    return b"
   ]
  },
  {
   "cell_type": "code",
   "execution_count": null,
   "metadata": {},
   "outputs": [],
   "source": []
  },
  {
   "cell_type": "code",
   "execution_count": null,
   "metadata": {
    "slideshow": {
     "slide_type": "slide"
    }
   },
   "outputs": [],
   "source": [
    "# Минутка \"вопросов на собеседовании\" - а если через рекурсию?\n",
    "# Ответ - красиво, но в этом случае так делать нельзя!\n",
    "\n",
    "def gen2(n):\n",
    "    if n <= 1:\n",
    "        return 0\n",
    "    elif n == 2:\n",
    "        return 1\n",
    "    return gen2(n - 2) + gen2(n - 1)"
   ]
  },
  {
   "cell_type": "code",
   "execution_count": null,
   "metadata": {},
   "outputs": [],
   "source": []
  },
  {
   "cell_type": "code",
   "execution_count": null,
   "metadata": {
    "slideshow": {
     "slide_type": "slide"
    }
   },
   "outputs": [],
   "source": [
    "def gen():    \n",
    "    a = 0\n",
    "    b = 1\n",
    "    yield a\n",
    "    yield b\n",
    "    while True:\n",
    "        a, b = b, a + b\n",
    "        yield b"
   ]
  },
  {
   "cell_type": "markdown",
   "metadata": {},
   "source": [
    "- **\"Генератор\" - это функция с запоминанием последнего результата и несколькими точками входа-выхода**"
   ]
  },
  {
   "cell_type": "code",
   "execution_count": null,
   "metadata": {
    "slideshow": {
     "slide_type": "slide"
    }
   },
   "outputs": [],
   "source": [
    "# единственный способ получить значение из генератора - это проитерироваться по нему!\n",
    "# \"[1]\" не поможет, но поможет next()\n",
    "# можно явно привести к листу, но так делать не стоит - все окажется в памяти\n",
    "\n",
    "a = gen()\n",
    "for i, num in enumerate(a):\n",
    "    if i == 5:\n",
    "        print(num)\n",
    "        break"
   ]
  },
  {
   "cell_type": "code",
   "execution_count": null,
   "metadata": {},
   "outputs": [],
   "source": []
  },
  {
   "cell_type": "markdown",
   "metadata": {
    "slideshow": {
     "slide_type": "slide"
    }
   },
   "source": [
    "### Пример пайплайна с генераторами"
   ]
  },
  {
   "cell_type": "code",
   "execution_count": null,
   "metadata": {},
   "outputs": [],
   "source": [
    "from collections import Counter\n",
    "\n",
    "with open(\"USlocalopendataportals.csv\", \"r\") as testfile:\n",
    "    recs = (l.split(\",\") for l in testfile)\n",
    "    next(recs)  # пропускаем заголовок\n",
    "    owners = (rec[3] for rec in recs)\n",
    "    print(Counter(owners)[\"Government\"])"
   ]
  },
  {
   "cell_type": "markdown",
   "metadata": {
    "slideshow": {
     "slide_type": "slide"
    }
   },
   "source": [
    "### Еще почитать про генераторы:\n",
    "    \n",
    "- http://dabeaz.com/generators-uk/index.html\n",
    "- http://dabeaz.com/coroutines/index.html"
   ]
  },
  {
   "cell_type": "markdown",
   "metadata": {
    "slideshow": {
     "slide_type": "slide"
    }
   },
   "source": [
    "### Еще об аргументах функций"
   ]
  },
  {
   "cell_type": "code",
   "execution_count": null,
   "metadata": {},
   "outputs": [],
   "source": [
    "def my_function(*args, **kwargs):\n",
    "    print(args)\n",
    "    print(kwargs)\n",
    "    \n",
    "my_function(1, \"foo\", nick=\"Mushtandoid\", arg=123)"
   ]
  },
  {
   "cell_type": "code",
   "execution_count": null,
   "metadata": {},
   "outputs": [],
   "source": []
  },
  {
   "cell_type": "markdown",
   "metadata": {
    "slideshow": {
     "slide_type": "slide"
    }
   },
   "source": [
    "### Передаем аргументы пачкой"
   ]
  },
  {
   "cell_type": "code",
   "execution_count": null,
   "metadata": {},
   "outputs": [],
   "source": [
    "def summator(a, b):\n",
    "    return a + b\n",
    "\n",
    "a = [45, 78]\n",
    "print(summator(*a))\n",
    "print(summator(**{\"a\": 11, \"b\": 34}))"
   ]
  },
  {
   "cell_type": "code",
   "execution_count": null,
   "metadata": {},
   "outputs": [],
   "source": []
  },
  {
   "cell_type": "markdown",
   "metadata": {
    "slideshow": {
     "slide_type": "slide"
    }
   },
   "source": [
    "### Декораторы\n",
    "\n",
    "- Декоратор - это функция, которая принимает функцию и возвращает функцию"
   ]
  },
  {
   "cell_type": "code",
   "execution_count": null,
   "metadata": {},
   "outputs": [],
   "source": [
    "import time\n",
    "\n",
    "def my_function(a, b):\n",
    "    time.sleep(2)\n",
    "    return a + b"
   ]
  },
  {
   "cell_type": "code",
   "execution_count": null,
   "metadata": {
    "slideshow": {
     "slide_type": "slide"
    }
   },
   "outputs": [],
   "source": [
    "def timer(func):\n",
    "    def decoy_func(*args, **kwargs): \n",
    "        t = time.time()\n",
    "        res = func(*args, **kwargs)\n",
    "        print(\"Execution time: {0}\".format(time.time() - t))\n",
    "        return res\n",
    "    return decoy_func"
   ]
  },
  {
   "cell_type": "code",
   "execution_count": null,
   "metadata": {
    "slideshow": {
     "slide_type": "slide"
    }
   },
   "outputs": [],
   "source": [
    "@timer\n",
    "def my_function(a, b):\n",
    "    time.sleep(2)\n",
    "    return a + b\n",
    "\n",
    "my_function(5, 6)"
   ]
  },
  {
   "cell_type": "markdown",
   "metadata": {
    "slideshow": {
     "slide_type": "slide"
    }
   },
   "source": [
    "### Упражнение на декораторы\n",
    "\n",
    "Напишите декоратор, который принимает функцию с одним аргументом и кэширует результат ее выполнения, то есть хранит словарь \"аргумент->результат\"."
   ]
  },
  {
   "cell_type": "code",
   "execution_count": null,
   "metadata": {},
   "outputs": [],
   "source": []
  },
  {
   "cell_type": "markdown",
   "metadata": {
    "slideshow": {
     "slide_type": "slide"
    }
   },
   "source": [
    "https://docs.python.org/3/library/functools.html#functools.lru_cache"
   ]
  },
  {
   "cell_type": "markdown",
   "metadata": {
    "slideshow": {
     "slide_type": "slide"
    }
   },
   "source": [
    "### Telegram!\n",
    "\n",
    "- Качаем, регистрируемся: https://telegram.org/\n",
    "- Главный бот для всех ботов: https://telegram.me/botfather\n",
    "- Любой бот требует токен для работы. Токен получается через главного бота.\n",
    "\n",
    "\n",
    "1. ***/start***    # начало диалога\n",
    "2. ***/newbot***   # создаем нового бота\n",
    "3. Набираем имя бота (латиницей)\n",
    "4. Набираем логин для бота (можно такой же, как имя, но должен заканчиваться на bot)\n",
    "5. Копируем себе токен"
   ]
  },
  {
   "cell_type": "markdown",
   "metadata": {
    "slideshow": {
     "slide_type": "slide"
    }
   },
   "source": [
    "***pip install telepot***"
   ]
  },
  {
   "cell_type": "code",
   "execution_count": null,
   "metadata": {},
   "outputs": [],
   "source": [
    "import telepot\n",
    "bot = telepot.Bot('422088359:AAHgC2o92CHWrMfP8pRnsFAFcqy6epY5wuk')\n",
    "bot.getMe()"
   ]
  },
  {
   "cell_type": "markdown",
   "metadata": {
    "slideshow": {
     "slide_type": "slide"
    }
   },
   "source": [
    "### Задача\n",
    "\n",
    "Сделать бота, который хранит конфигурационный файл в виде YAML, где лежит токен и словарь слов и ответов. Если бот встречает в сообщении от пользователя слово - то отвечает ему строкой из конфига."
   ]
  },
  {
   "cell_type": "code",
   "execution_count": null,
   "metadata": {
    "scrolled": true
   },
   "outputs": [],
   "source": []
  }
 ],
 "metadata": {
  "celltoolbar": "Slideshow",
  "kernelspec": {
   "display_name": "Python 3",
   "language": "python",
   "name": "python3"
  },
  "language_info": {
   "codemirror_mode": {
    "name": "ipython",
    "version": 3
   },
   "file_extension": ".py",
   "mimetype": "text/x-python",
   "name": "python",
   "nbconvert_exporter": "python",
   "pygments_lexer": "ipython3",
   "version": "3.6.1"
  }
 },
 "nbformat": 4,
 "nbformat_minor": 2
}
