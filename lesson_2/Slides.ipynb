{
 "cells": [
  {
   "cell_type": "code",
   "execution_count": 1,
   "metadata": {
    "slideshow": {
     "slide_type": "skip"
    }
   },
   "outputs": [
    {
     "data": {
      "text/html": [
       "<style>\n",
       ".text_cell_render * {\n",
       "   font-family: OfficinaSansCTT;\n",
       "}\n",
       ".reveal code {\n",
       "    font-family: OfficinaSansCTT;\n",
       "}\n",
       ".text_cell_render h3 {\n",
       "   font-family: OfficinaSansCTT;\n",
       "}\n",
       ".reveal section img {\n",
       "    max-height: 500px;\n",
       "    margin-left: auto;\n",
       "    margin-right: auto;\n",
       "}\n",
       "</style>"
      ],
      "text/plain": [
       "<IPython.core.display.HTML object>"
      ]
     },
     "metadata": {},
     "output_type": "display_data"
    }
   ],
   "source": [
    "%%html\n",
    "<style>\n",
    ".text_cell_render * {\n",
    "   font-family: OfficinaSansCTT;\n",
    "}\n",
    ".reveal code {\n",
    "    font-family: OfficinaSansCTT;\n",
    "}\n",
    ".text_cell_render h3 {\n",
    "   font-family: OfficinaSansCTT;\n",
    "}\n",
    ".reveal section img {\n",
    "    max-height: 500px;\n",
    "    margin-left: auto;\n",
    "    margin-right: auto;\n",
    "}\n",
    "</style>"
   ]
  },
  {
   "cell_type": "markdown",
   "metadata": {
    "slideshow": {
     "slide_type": "slide"
    }
   },
   "source": [
    "### Пакеты и окружение для Python\n",
    "\n",
    "* easy_install (setuptools) - старый менеджер пакетов (практически не используется)\n",
    "* pip - новый менеджер пакетов\n",
    "* virtualenv - установить конкретные версии пакетов локально\n",
    "* virtualenvwrapper - отличная обертка для virtualenv\n",
    "* Общий репозиторий пакетов https://pypi.python.org/pypi\n",
    "* Предсобранные пакеты для Windows: http://www.lfd.uci.edu/~gohlke/pythonlibs/\n",
    "\n",
    "http://docs.python-guide.org/en/latest/dev/virtualenvs/"
   ]
  },
  {
   "cell_type": "markdown",
   "metadata": {
    "slideshow": {
     "slide_type": "slide"
    }
   },
   "source": [
    "### Работа с virtualenv (если у вас Python с python.org)\n",
    "\n",
    "* Создаем окружение\n",
    "    - ***python3 -m venv my_venv***\n",
    "* Заходим в него:\n",
    "    - ***source my_venv/bin/activate (на Windows: my_venv\\scripts\\activate.bat)***\n",
    "* Выходим:\n",
    "    - ***deactivate***\n",
    "* Еще удобно через virtualenvwrapper:\n",
    "    - ***workon my_venv ; lsvirtualenv ; rmvirtualenv my_venv***\n",
    "* Лично я всегда первым делом обновляю установщики:\n",
    "    - ***pip install -U pip wheel setuptools***\n",
    "    \n",
    "**Лучше ВООБЩЕ НИКОГДА не делать \"sudo pip install\"**"
   ]
  },
  {
   "cell_type": "markdown",
   "metadata": {
    "slideshow": {
     "slide_type": "slide"
    }
   },
   "source": [
    "### Работа с virtualenv (если у вас Anaconda)\n",
    "\n",
    "* Создаем окружение\n",
    "    - ***conda create --name my_venv***\n",
    "* Заходим в него:\n",
    "    - ***source activate my_venv/activate myenv***\n",
    "* Выходим:\n",
    "    - ***deactivate/source deactivate***\n",
    "* Ставим пакеты с помощью ***conda install*** вместо ***pip install***:\n",
    "    - ***conda install requests***\n",
    "* Чтобы удалить окружение, используем\n",
    "    - ***conda remove --name my_venv --all***\n",
    "    \n",
    "**Лучше ВООБЩЕ НИКОГДА не делать \"sudo pip install\"**\n",
    "\n",
    "Подробнее: https://conda.io/docs/user-guide/tasks/manage-environments.html"
   ]
  },
  {
   "cell_type": "markdown",
   "metadata": {
    "slideshow": {
     "slide_type": "slide"
    }
   },
   "source": [
    "### IPython!\n",
    "\n",
    "- ***pip install ipython***\n",
    "\n",
    "* Подстановка по Tab\n",
    "* История команд (стрелка вверх)\n",
    "* Интеграция с системным shell\n",
    "* Встроенный механизм показа справки (\"?\")\n",
    "* %magic\n",
    "* Редактирование многострочных кусков кода"
   ]
  },
  {
   "cell_type": "code",
   "execution_count": 11,
   "metadata": {},
   "outputs": [
    {
     "name": "stdout",
     "output_type": "stream",
     "text": [
      "CPU times: user 2 µs, sys: 0 ns, total: 2 µs\n",
      "Wall time: 6.2 µs\n"
     ]
    },
    {
     "data": {
      "text/plain": [
       "\"list(range(1000000)); print('ololo')\""
      ]
     },
     "execution_count": 11,
     "metadata": {},
     "output_type": "execute_result"
    }
   ],
   "source": [
    "%time \"list(range(1000000)); print('ololo')\""
   ]
  },
  {
   "cell_type": "markdown",
   "metadata": {
    "slideshow": {
     "slide_type": "slide"
    }
   },
   "source": [
    "### Вопрос\n",
    "\n",
    "Какой \"магической\" командой можно померить время выполнения куска кода? "
   ]
  },
  {
   "cell_type": "markdown",
   "metadata": {
    "slideshow": {
     "slide_type": "slide"
    }
   },
   "source": [
    "### Jupyter (ex IPython Notebook)\n",
    "\n",
    "* Независимые ячейки с кодом\n",
    "* Текстовые данные, Markdown и LaTeX\n",
    "* Простой текстовый формат .ipynb\n",
    "* Inline-графика, в том числе трехмерная и интерактивная\n",
    "* Виджеты\n",
    "* Поддержка «ядер»\n",
    "\n",
    "@ellisonbg\n",
    "@fperez_org"
   ]
  },
  {
   "cell_type": "markdown",
   "metadata": {
    "slideshow": {
     "slide_type": "slide"
    }
   },
   "source": [
    "### Как сделана эта презентация\n",
    "\n",
    "https://github.com/damianavila/RISE\n",
    "\n",
    "Прежде чем продолжать, давайте настроим, чтобы она работала у всех"
   ]
  },
  {
   "cell_type": "markdown",
   "metadata": {
    "slideshow": {
     "slide_type": "slide"
    }
   },
   "source": [
    "### Где лучше всего писать код проекта\n",
    "\n",
    "* [Sublime Text 3](https://www.sublimetext.com/3)\n",
    "* [VSCode](https://code.visualstudio.com/)\n",
    "* [Atom](https://atom.io/)\n",
    "* [PyCharm](https://www.jetbrains.com/pycharm/)"
   ]
  },
  {
   "cell_type": "markdown",
   "metadata": {
    "slideshow": {
     "slide_type": "slide"
    }
   },
   "source": [
    "### Как выглядит проект на Python\n",
    "\n",
    "* Файлы (модули) Python имеют расширение \".py\"\n",
    "* \"Пакеты\" Python - это папки, в которых есть файл \\_\\_init__.py\n",
    "* Внутри модулей код разделен на функции и классы согласно логике приложения\n",
    "* Правилом хорошего тона считается оформлять код по PEP8"
   ]
  },
  {
   "cell_type": "markdown",
   "metadata": {
    "slideshow": {
     "slide_type": "slide"
    }
   },
   "source": [
    "### Функции\n",
    "\n",
    "https://www.tutorialspoint.com/python/python_functions.htm"
   ]
  },
  {
   "cell_type": "code",
   "execution_count": 16,
   "metadata": {
    "slideshow": {
     "slide_type": "-"
    }
   },
   "outputs": [],
   "source": [
    "def my_cool_function(a, b):\n",
    "    return a + b\n",
    "\n",
    "def my_cool_function2(a: int, b: int) -> int:\n",
    "    return a + b"
   ]
  },
  {
   "cell_type": "code",
   "execution_count": 17,
   "metadata": {},
   "outputs": [
    {
     "data": {
      "text/plain": [
       "'foobar'"
      ]
     },
     "execution_count": 17,
     "metadata": {},
     "output_type": "execute_result"
    }
   ],
   "source": [
    "def my_cool_function(a, b):\n",
    "    return a + b\n",
    "\n",
    "my_cool_function2(\"foo\", \"bar\")"
   ]
  },
  {
   "cell_type": "markdown",
   "metadata": {
    "slideshow": {
     "slide_type": "slide"
    }
   },
   "source": [
    "### Заготовка для типичного скрипта на Python"
   ]
  },
  {
   "cell_type": "code",
   "execution_count": null,
   "metadata": {},
   "outputs": [],
   "source": [
    "def main():\n",
    "    # here be dragons\n",
    "    return\n",
    "\n",
    "if __name__ == \"__main__\":\n",
    "    main()"
   ]
  },
  {
   "cell_type": "markdown",
   "metadata": {
    "slideshow": {
     "slide_type": "slide"
    }
   },
   "source": [
    "### Модули"
   ]
  },
  {
   "cell_type": "code",
   "execution_count": 19,
   "metadata": {},
   "outputs": [],
   "source": [
    "import random   # встроенный модуль\n",
    "import os.path as op  # импорт с псевдонимом"
   ]
  },
  {
   "cell_type": "code",
   "execution_count": 21,
   "metadata": {},
   "outputs": [
    {
     "data": {
      "text/plain": [
       "9"
      ]
     },
     "execution_count": 21,
     "metadata": {},
     "output_type": "execute_result"
    }
   ],
   "source": [
    "random.randint(1, 10)"
   ]
  },
  {
   "cell_type": "code",
   "execution_count": 18,
   "metadata": {},
   "outputs": [
    {
     "name": "stdout",
     "output_type": "stream",
     "text": [
      "\r\n",
      "\r\n",
      "def my_cool_function(a: int, b: int) -> int:\r\n",
      "    return a + b\r\n",
      "\r\n",
      "print(my_cool_function(5, 6))\r\n",
      "print(my_cool_function(\"foo\", \"bar\"))\r\n"
     ]
    }
   ],
   "source": [
    "from os.path import *"
   ]
  },
  {
   "cell_type": "code",
   "execution_count": null,
   "metadata": {
    "slideshow": {
     "slide_type": "-"
    }
   },
   "outputs": [],
   "source": [
    "from sample2 import fibonacci"
   ]
  },
  {
   "cell_type": "code",
   "execution_count": null,
   "metadata": {},
   "outputs": [],
   "source": [
    "sample2.fibonacci(5)"
   ]
  },
  {
   "cell_type": "markdown",
   "metadata": {
    "slideshow": {
     "slide_type": "slide"
    }
   },
   "source": [
    "### Обработка ошибок"
   ]
  },
  {
   "cell_type": "code",
   "execution_count": 28,
   "metadata": {},
   "outputs": [
    {
     "name": "stdout",
     "output_type": "stream",
     "text": [
      "bad luck\n"
     ]
    }
   ],
   "source": [
    "import traceback\n",
    "d = {}\n",
    "try:\n",
    "    1 / 0\n",
    "except KeyError as exc:\n",
    "    print(traceback.format_exc())\n",
    "except ZeroDivisionError as an_exc:\n",
    "    print(\"bad luck\")"
   ]
  },
  {
   "cell_type": "markdown",
   "metadata": {
    "slideshow": {
     "slide_type": "slide"
    }
   },
   "source": [
    "### Генерация списков (списковые включения)"
   ]
  },
  {
   "cell_type": "code",
   "execution_count": 29,
   "metadata": {},
   "outputs": [
    {
     "data": {
      "text/plain": [
       "[10, 8, 2, -9, -8, 2, 10, -1, -1, -10]"
      ]
     },
     "execution_count": 29,
     "metadata": {},
     "output_type": "execute_result"
    }
   ],
   "source": [
    "import random\n",
    "a = [\n",
    "    random.randint(-10, 10)\n",
    "    for _ in range(10)\n",
    "]\n",
    "a"
   ]
  },
  {
   "cell_type": "code",
   "execution_count": 30,
   "metadata": {},
   "outputs": [],
   "source": [
    "b = [item ** 2 for item in a if item > 0]"
   ]
  },
  {
   "cell_type": "code",
   "execution_count": 31,
   "metadata": {},
   "outputs": [
    {
     "data": {
      "text/plain": [
       "[100, 64, 4, 4, 100]"
      ]
     },
     "execution_count": 31,
     "metadata": {},
     "output_type": "execute_result"
    }
   ],
   "source": [
    "b"
   ]
  },
  {
   "cell_type": "markdown",
   "metadata": {
    "slideshow": {
     "slide_type": "slide"
    }
   },
   "source": [
    "### Еще немного встроенных функций\n",
    "\n",
    "    * Мы уже знаем max(), min(), sorted(), len(), sum(). Что они делают?\n",
    "    * А вот еще - any(), all(), abs(), dir()"
   ]
  },
  {
   "cell_type": "code",
   "execution_count": 32,
   "metadata": {},
   "outputs": [
    {
     "data": {
      "text/plain": [
       "['__add__',\n",
       " '__class__',\n",
       " '__contains__',\n",
       " '__delattr__',\n",
       " '__dir__',\n",
       " '__doc__',\n",
       " '__eq__',\n",
       " '__format__',\n",
       " '__ge__',\n",
       " '__getattribute__',\n",
       " '__getitem__',\n",
       " '__getnewargs__',\n",
       " '__gt__',\n",
       " '__hash__',\n",
       " '__init__',\n",
       " '__init_subclass__',\n",
       " '__iter__',\n",
       " '__le__',\n",
       " '__len__',\n",
       " '__lt__',\n",
       " '__mod__',\n",
       " '__mul__',\n",
       " '__ne__',\n",
       " '__new__',\n",
       " '__reduce__',\n",
       " '__reduce_ex__',\n",
       " '__repr__',\n",
       " '__rmod__',\n",
       " '__rmul__',\n",
       " '__setattr__',\n",
       " '__sizeof__',\n",
       " '__str__',\n",
       " '__subclasshook__',\n",
       " 'capitalize',\n",
       " 'casefold',\n",
       " 'center',\n",
       " 'count',\n",
       " 'encode',\n",
       " 'endswith',\n",
       " 'expandtabs',\n",
       " 'find',\n",
       " 'format',\n",
       " 'format_map',\n",
       " 'index',\n",
       " 'isalnum',\n",
       " 'isalpha',\n",
       " 'isdecimal',\n",
       " 'isdigit',\n",
       " 'isidentifier',\n",
       " 'islower',\n",
       " 'isnumeric',\n",
       " 'isprintable',\n",
       " 'isspace',\n",
       " 'istitle',\n",
       " 'isupper',\n",
       " 'join',\n",
       " 'ljust',\n",
       " 'lower',\n",
       " 'lstrip',\n",
       " 'maketrans',\n",
       " 'partition',\n",
       " 'replace',\n",
       " 'rfind',\n",
       " 'rindex',\n",
       " 'rjust',\n",
       " 'rpartition',\n",
       " 'rsplit',\n",
       " 'rstrip',\n",
       " 'split',\n",
       " 'splitlines',\n",
       " 'startswith',\n",
       " 'strip',\n",
       " 'swapcase',\n",
       " 'title',\n",
       " 'translate',\n",
       " 'upper',\n",
       " 'zfill']"
      ]
     },
     "execution_count": 32,
     "metadata": {},
     "output_type": "execute_result"
    }
   ],
   "source": [
    "a = \"asfdhasdfh\"\n",
    "dir(a)"
   ]
  },
  {
   "cell_type": "markdown",
   "metadata": {
    "slideshow": {
     "slide_type": "slide"
    }
   },
   "source": [
    "### А теперь дискотека\n",
    "\n",
    "    1. https://py.checkio.org/mission/even-last/\n",
    "    2. https://py.checkio.org/mission/secret-message/\n",
    "    3. https://py.checkio.org/mission/digits-multiplication/\n",
    "    4. https://py.checkio.org/mission/the-most-frequent/"
   ]
  },
  {
   "cell_type": "code",
   "execution_count": null,
   "metadata": {},
   "outputs": [],
   "source": []
  }
 ],
 "metadata": {
  "celltoolbar": "Slideshow",
  "kernelspec": {
   "display_name": "Python 3",
   "language": "python",
   "name": "python3"
  },
  "language_info": {
   "codemirror_mode": {
    "name": "ipython",
    "version": 3
   },
   "file_extension": ".py",
   "mimetype": "text/x-python",
   "name": "python",
   "nbconvert_exporter": "python",
   "pygments_lexer": "ipython3",
   "version": "3.6.1"
  }
 },
 "nbformat": 4,
 "nbformat_minor": 2
}
