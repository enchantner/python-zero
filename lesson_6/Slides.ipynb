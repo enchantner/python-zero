{
 "cells": [
  {
   "cell_type": "code",
   "execution_count": 1,
   "metadata": {
    "slideshow": {
     "slide_type": "skip"
    }
   },
   "outputs": [
    {
     "data": {
      "text/html": [
       "<style>\n",
       ".text_cell_render * {\n",
       "   font-family: OfficinaSansCTT;\n",
       "}\n",
       ".reveal code {\n",
       "    font-family: OfficinaSansCTT;\n",
       "}\n",
       ".text_cell_render h3 {\n",
       "   font-family: OfficinaSansCTT;\n",
       "}\n",
       ".reveal section img {\n",
       "    max-height: 500px;\n",
       "    margin-left: auto;\n",
       "    margin-right: auto;\n",
       "}\n",
       "</style>"
      ],
      "text/plain": [
       "<IPython.core.display.HTML object>"
      ]
     },
     "metadata": {},
     "output_type": "display_data"
    }
   ],
   "source": [
    "%%html\n",
    "<style>\n",
    ".text_cell_render * {\n",
    "   font-family: OfficinaSansCTT;\n",
    "}\n",
    ".reveal code {\n",
    "    font-family: OfficinaSansCTT;\n",
    "}\n",
    ".text_cell_render h3 {\n",
    "   font-family: OfficinaSansCTT;\n",
    "}\n",
    ".reveal section img {\n",
    "    max-height: 500px;\n",
    "    margin-left: auto;\n",
    "    margin-right: auto;\n",
    "}\n",
    "</style>"
   ]
  },
  {
   "cell_type": "markdown",
   "metadata": {
    "slideshow": {
     "slide_type": "slide"
    }
   },
   "source": [
    "### Вопросы по прошлому занятию\n",
    "\n",
    "* Какой магический метод объекта A дает возможность сделать операцию A * B?\n",
    "* Как задаются поля и методы объекта класса и поля и методы объекта экземпляра этого класса? В чем разница между этими понятиями?\n",
    "* Для чего нужен super()?\n",
    "* Что такое @property?\n",
    "* Какой модуль Python позволяет создавать контексты без использования классов?\n",
    "* В чем разница между CPU-bound задачами и I/O-bound задачами?\n",
    "* Какие основные недостатки использования процессов вместо потоков?"
   ]
  },
  {
   "cell_type": "markdown",
   "metadata": {
    "slideshow": {
     "slide_type": "slide"
    }
   },
   "source": [
    "### Ненадолго возвращаясь к боту"
   ]
  },
  {
   "cell_type": "code",
   "execution_count": 3,
   "metadata": {},
   "outputs": [],
   "source": [
    "import yaml\n",
    "import random\n",
    "\n",
    "with open(\"answers.yaml\", \"r\") as conf:\n",
    "    config = yaml.load(conf)\n",
    "    \n",
    "def get_answer(message):\n",
    "    lower_msg = message.lower()\n",
    "    for key in config['answers']:\n",
    "        if key in lower_msg:\n",
    "            return random.choice(config['answers'][key])"
   ]
  },
  {
   "cell_type": "code",
   "execution_count": null,
   "metadata": {},
   "outputs": [],
   "source": []
  },
  {
   "cell_type": "markdown",
   "metadata": {
    "slideshow": {
     "slide_type": "slide"
    }
   },
   "source": [
    "### Решение задачи на sleepsort"
   ]
  },
  {
   "cell_type": "code",
   "execution_count": 10,
   "metadata": {},
   "outputs": [
    {
     "name": "stdout",
     "output_type": "stream",
     "text": [
      "0\n",
      "1\n",
      "22\n",
      "\n",
      "5\n",
      "6\n",
      "7\n",
      "88\n",
      "\n",
      "10\n"
     ]
    }
   ],
   "source": [
    "import random\n",
    "import threading\n",
    "import time\n",
    "\n",
    "class SleepThread(threading.Thread):\n",
    "    def __init__(self, num):\n",
    "        super().__init__()\n",
    "        self.num = num\n",
    "    \n",
    "    def run(self):\n",
    "        time.sleep(self.num)\n",
    "        print(self.num)\n",
    "        \n",
    "a = [random.randint(0, 10) for _ in range(10)]\n",
    "threads = [SleepThread(i) for i in a]\n",
    "for t in threads:\n",
    "    t.start()"
   ]
  },
  {
   "cell_type": "code",
   "execution_count": 11,
   "metadata": {
    "slideshow": {
     "slide_type": "slide"
    }
   },
   "outputs": [
    {
     "name": "stdout",
     "output_type": "stream",
     "text": [
      "0\n",
      "2\n",
      "3\n",
      "3\n",
      "5\n",
      "6\n",
      "6\n",
      "7\n",
      "7\n",
      "9\n"
     ]
    }
   ],
   "source": [
    "def sleep_print(num):\n",
    "    time.sleep(num)\n",
    "    print(num)\n",
    "\n",
    "a = [random.randint(0, 10) for _ in range(10)]\n",
    "threads = [\n",
    "    threading.Thread(target=sleep_print, args=(i,))\n",
    "    for i in a\n",
    "]\n",
    "for t in threads:\n",
    "    t.start()"
   ]
  },
  {
   "cell_type": "code",
   "execution_count": 12,
   "metadata": {
    "slideshow": {
     "slide_type": "slide"
    }
   },
   "outputs": [
    {
     "name": "stdout",
     "output_type": "stream",
     "text": [
      "1\n",
      "1\n",
      "1\n",
      "1\n",
      "3\n",
      "4\n",
      "5\n",
      "6\n",
      "7\n",
      "7\n"
     ]
    }
   ],
   "source": [
    "import concurrent.futures as cf\n",
    "\n",
    "def hold_my_beer(num):\n",
    "    time.sleep(num)\n",
    "    return num\n",
    "\n",
    "a = [random.randint(0, 10) for _ in range(10)]\n",
    "with cf.ThreadPoolExecutor(max_workers=len(a)) as pool:\n",
    "    for future in cf.as_completed([\n",
    "        pool.submit(hold_my_beer, i) for i in a\n",
    "    ]):\n",
    "        print(future.result())"
   ]
  },
  {
   "cell_type": "markdown",
   "metadata": {
    "slideshow": {
     "slide_type": "slide"
    }
   },
   "source": [
    "### Асинхронность и параллельность\n",
    "\n",
    "- Параллельность - это выполнение двух фрагментов кода одновременно.\n",
    "- Асинхронность - это выполнение кода НЕ последовательно.\n",
    "- Асинхронность может быть реализована с помощью параллельности, а может - с помощью ручного переключения контекста в самом коде, с сохранением последнего состояния. Ничего не напоминает?\n",
    "- Когда куски кода сами решают, когда передавать управление друг другу, и не зависят от внешнего системного планировщика, то это называется \"кооперативной многозадачностью\", а эти куски кода - корутинами или сопрограммами.\n",
    "- Недостаток - долгоиграющая процедура НЕ под контролем event loop'а вешает вообще ВСЕ"
   ]
  },
  {
   "cell_type": "markdown",
   "metadata": {
    "slideshow": {
     "slide_type": "slide"
    }
   },
   "source": [
    "### Событийно-ориентированное программирование\n",
    "\n",
    "- Две основные составляющие асинхронного кода - это event loop (цикл отлова событий) и корутины\n",
    "- Пока корутина ждет внешнее событие - контекст переключается на другую\n",
    "- Помимо переключения контекста корутины могут отправлять друг другу сообщения\n",
    "- К сожалению, в современной реализации асинхронности в Python обычные и асинхронные функции не являются взаимозаменяемыми\n",
    "- Альтернативные реализации для старых версий - Gevent, Eventlet и Tornado. И еще несколько."
   ]
  },
  {
   "cell_type": "markdown",
   "metadata": {
    "slideshow": {
     "slide_type": "slide"
    }
   },
   "source": [
    "### Asyncio"
   ]
  },
  {
   "cell_type": "code",
   "execution_count": null,
   "metadata": {},
   "outputs": [],
   "source": [
    "import asyncio\n",
    "\n",
    "asyncio.Queue()  # асинхронная очередь\n",
    "asyncio.sleep(10)  # асинхронный \"сон\"\n",
    "asyncio.create_subprocess_exec()  # асинхронный subprocess\n",
    "asyncio.Lock()  # асинхронный мьютекс\n",
    "asyncio.ensure_future()  # ручное добавление корутины в event loop\n",
    "asyncio.gather()  # дождаться окончания работы списка корутин"
   ]
  },
  {
   "cell_type": "code",
   "execution_count": null,
   "metadata": {},
   "outputs": [],
   "source": []
  },
  {
   "cell_type": "markdown",
   "metadata": {
    "slideshow": {
     "slide_type": "slide"
    }
   },
   "source": [
    "### Ключевые слова async и await"
   ]
  },
  {
   "cell_type": "code",
   "execution_count": 13,
   "metadata": {
    "slideshow": {
     "slide_type": "-"
    }
   },
   "outputs": [],
   "source": [
    "import asyncio\n",
    "\n",
    "async def hello(name):\n",
    "    return \"Hello, {}!\".format(name)"
   ]
  },
  {
   "cell_type": "code",
   "execution_count": 14,
   "metadata": {},
   "outputs": [
    {
     "data": {
      "text/plain": [
       "<coroutine object hello at 0x111af7af0>"
      ]
     },
     "execution_count": 14,
     "metadata": {},
     "output_type": "execute_result"
    }
   ],
   "source": [
    "hello(\"Vasya\")"
   ]
  },
  {
   "cell_type": "code",
   "execution_count": 15,
   "metadata": {},
   "outputs": [
    {
     "ename": "SyntaxError",
     "evalue": "invalid syntax (<ipython-input-15-3afd25d872ca>, line 1)",
     "output_type": "error",
     "traceback": [
      "\u001b[0;36m  File \u001b[0;32m\"<ipython-input-15-3afd25d872ca>\"\u001b[0;36m, line \u001b[0;32m1\u001b[0m\n\u001b[0;31m    await hello(\"Vasya\")\u001b[0m\n\u001b[0m              ^\u001b[0m\n\u001b[0;31mSyntaxError\u001b[0m\u001b[0;31m:\u001b[0m invalid syntax\n"
     ]
    }
   ],
   "source": [
    "await hello(\"Vasya\")"
   ]
  },
  {
   "cell_type": "code",
   "execution_count": 16,
   "metadata": {
    "slideshow": {
     "slide_type": "slide"
    }
   },
   "outputs": [
    {
     "name": "stdout",
     "output_type": "stream",
     "text": [
      "Hello, Vasya!\n"
     ]
    }
   ],
   "source": [
    "import asyncio\n",
    "\n",
    "async def hello(name):\n",
    "    return \"Hello, {}!\".format(name)\n",
    "\n",
    "async def call_vasya():\n",
    "    greeting = await hello(\"Vasya\")\n",
    "    return greeting\n",
    "    \n",
    "loop = asyncio.get_event_loop()\n",
    "print(loop.run_until_complete(call_vasya()))"
   ]
  },
  {
   "cell_type": "code",
   "execution_count": null,
   "metadata": {},
   "outputs": [],
   "source": []
  },
  {
   "cell_type": "markdown",
   "metadata": {
    "slideshow": {
     "slide_type": "slide"
    }
   },
   "source": [
    "### Упражнение\n",
    "\n",
    "Напишите асинхронную реализацию sleepsort"
   ]
  },
  {
   "cell_type": "code",
   "execution_count": null,
   "metadata": {},
   "outputs": [],
   "source": [
    "import asyncio\n",
    "import random\n",
    "\n",
    "async def hold(num):\n",
    "    await asyncio.sleep(num)\n",
    "    return num\n",
    "\n",
    "a = [random.randint(0, 10) for _ in range(10)]\n"
   ]
  },
  {
   "cell_type": "markdown",
   "metadata": {
    "slideshow": {
     "slide_type": "slide"
    }
   },
   "source": [
    "### Django\n",
    "\n",
    "- http://www.djangoproject.com/\n",
    "- http://djbook.ru  # немного устарело!\n",
    "\n",
    "~$ ***pip install django***\n",
    "\n",
    "~$ ***django-admin startproject mysite***\n",
    "\n",
    "~$ ***python manage.py runserver***"
   ]
  },
  {
   "cell_type": "markdown",
   "metadata": {
    "slideshow": {
     "slide_type": "slide"
    }
   },
   "source": [
    "### Основные термины веб-разработчика на Python\n",
    "\n",
    "- **HTTP** (https://ru.wikipedia.org/wiki/HTTP), оно же HyperText Transfer Protocol\n",
    "- **сетевой порт** (http://bit.ly/1Mxp4Ks) и **сокет** (http://bit.ly/1Oxntiq)\n",
    "- **WSGI** (https://ru.wikipedia.org/wiki/WSGI), оно же Web Server Gateway Interface\n",
    "- **MVC** (https://ru.wikipedia.org/wiki/Model-View-Controller), оно же Model-View-Controller"
   ]
  },
  {
   "cell_type": "markdown",
   "metadata": {
    "slideshow": {
     "slide_type": "slide"
    }
   },
   "source": [
    "~$ ***python manage.py startapp hello***"
   ]
  },
  {
   "cell_type": "code",
   "execution_count": null,
   "metadata": {},
   "outputs": [],
   "source": [
    "# hello/views.py\n",
    "\n",
    "from django.http import HttpResponse\n",
    "\n",
    "def index(request):\n",
    "    return HttpResponse(\"Hello!\")"
   ]
  },
  {
   "cell_type": "code",
   "execution_count": null,
   "metadata": {
    "slideshow": {
     "slide_type": "slide"
    }
   },
   "outputs": [],
   "source": [
    "# hello/urls.py\n",
    "\n",
    "from django.conf.urls import url\n",
    "\n",
    "from . import views\n",
    "\n",
    "urlpatterns = [\n",
    "    url(r'^$', views.index, name='index'),\n",
    "]"
   ]
  },
  {
   "cell_type": "code",
   "execution_count": null,
   "metadata": {
    "slideshow": {
     "slide_type": "slide"
    }
   },
   "outputs": [],
   "source": [
    "# urls.py\n",
    "\n",
    "from django.conf.urls import include, url\n",
    "from django.contrib import admin\n",
    "\n",
    "urlpatterns = [\n",
    "    url(r'^hello/', include('hello.urls')),\n",
    "    url(r'^admin/', admin.site.urls),\n",
    "]"
   ]
  },
  {
   "cell_type": "markdown",
   "metadata": {
    "slideshow": {
     "slide_type": "slide"
    }
   },
   "source": [
    "### А где там html?\n",
    "\n",
    "- Создаем папки templates и static\n",
    "- Я взял шаблон http://html5up.net/photon , можете найти и скачать любой другой\n",
    "- Переносим папки assets и images внутрь папки static"
   ]
  },
  {
   "cell_type": "code",
   "execution_count": null,
   "metadata": {
    "slideshow": {
     "slide_type": "-"
    }
   },
   "outputs": [],
   "source": [
    "# Добавляем в settings.py строчки\n",
    "STATIC_URL = '/static/'\n",
    "STATICFILES_DIRS = [\n",
    "    os.path.join(BASE_DIR, \"static\")\n",
    "]\n",
    "# а также похожую строчку в TEMPLATES[\"DIRS\"]:\n",
    "os.path.join(BASE_DIR, \"templates\")"
   ]
  },
  {
   "cell_type": "code",
   "execution_count": null,
   "metadata": {
    "slideshow": {
     "slide_type": "slide"
    }
   },
   "outputs": [],
   "source": [
    "# а в urls.py делаем так:\n",
    "from django.conf import settings\n",
    "from django.conf.urls import include, url\n",
    "from django.conf.urls.static import static\n",
    "from django.contrib import admin\n",
    "\n",
    "urlpatterns = [\n",
    "    url(r'^hello/', include('hello.urls')),\n",
    "    url(r'^admin/', admin.site.urls),\n",
    "] + static(settings.STATIC_URL, document_root=settings.STATIC_ROOT)"
   ]
  },
  {
   "cell_type": "code",
   "execution_count": null,
   "metadata": {
    "slideshow": {
     "slide_type": "slide"
    }
   },
   "outputs": [],
   "source": [
    "# hello/views.py\n",
    "\n",
    "from django.http import HttpResponse\n",
    "from django.shortcuts import render\n",
    "\n",
    "def index(request):\n",
    "    return render(request, 'index.html', {})"
   ]
  },
  {
   "cell_type": "markdown",
   "metadata": {
    "slideshow": {
     "slide_type": "slide"
    }
   },
   "source": [
    "### Меняем пути в шаблоне\n",
    "\n",
    "- Ну и последнее - меняем шаблон\n",
    "- На верх index.html дописываем такое: {% load static %}\n",
    "- А пути к статике меняем на шаблонные теги:\n",
    "    \"assets/css/main.css\" -> {% static 'assets/css/main.css' %}\n",
    "- На боевом сервере такими вещами будет заниматься не сам Django, а сервер статики, например, Nginx. Это важно!\n",
    "- Рекомендую еще почитать про uWSGI - https://uwsgi-docs.readthedocs.io/en/latest/"
   ]
  },
  {
   "cell_type": "markdown",
   "metadata": {
    "slideshow": {
     "slide_type": "slide"
    }
   },
   "source": [
    "### Flask\n",
    "\n",
    "~$ ***pip install flask***"
   ]
  },
  {
   "cell_type": "code",
   "execution_count": null,
   "metadata": {},
   "outputs": [],
   "source": [
    "# my_application.py\n",
    "from flask import Flask\n",
    "app = Flask(__name__)\n",
    "\n",
    "@app.route(\"/\")\n",
    "def hello():\n",
    "    return \"Hello, World!\""
   ]
  },
  {
   "cell_type": "markdown",
   "metadata": {
    "slideshow": {
     "slide_type": "slide"
    }
   },
   "source": [
    "### Запускаем"
   ]
  },
  {
   "cell_type": "markdown",
   "metadata": {},
   "source": [
    "~$ ***FLASK_APP=my_application.py flask run***"
   ]
  },
  {
   "cell_type": "markdown",
   "metadata": {
    "slideshow": {
     "slide_type": "slide"
    }
   },
   "source": [
    "### Домашнее задание\n",
    "\n",
    "- Создать веб-приложение на aiohttp: https://aiohttp.readthedocs.io/en/stable/\n",
    "- Создать асинхронную версию бота для телеграма: https://telepot.readthedocs.io/en/latest/#async-version-python-3-5"
   ]
  },
  {
   "cell_type": "code",
   "execution_count": null,
   "metadata": {},
   "outputs": [],
   "source": []
  }
 ],
 "metadata": {
  "celltoolbar": "Slideshow",
  "kernelspec": {
   "display_name": "Python 3",
   "language": "python",
   "name": "python3"
  },
  "language_info": {
   "codemirror_mode": {
    "name": "ipython",
    "version": 3
   },
   "file_extension": ".py",
   "mimetype": "text/x-python",
   "name": "python",
   "nbconvert_exporter": "python",
   "pygments_lexer": "ipython3",
   "version": "3.6.0"
  }
 },
 "nbformat": 4,
 "nbformat_minor": 2
}
