{
 "cells": [
  {
   "cell_type": "code",
   "execution_count": 12,
   "metadata": {
    "slideshow": {
     "slide_type": "skip"
    }
   },
   "outputs": [
    {
     "data": {
      "text/html": [
       "<style>\n",
       ".text_cell_render * {\n",
       "   font-family: OfficinaSansCTT;\n",
       "}\n",
       ".reveal code {\n",
       "    font-family: OfficinaSansCTT;\n",
       "}\n",
       ".text_cell_render h3 {\n",
       "   font-family: OfficinaSansCTT;\n",
       "}\n",
       ".reveal section img {\n",
       "    max-height: 500px;\n",
       "    margin-left: auto;\n",
       "    margin-right: auto;\n",
       "}\n",
       "</style>"
      ],
      "text/plain": [
       "<IPython.core.display.HTML object>"
      ]
     },
     "metadata": {},
     "output_type": "display_data"
    }
   ],
   "source": [
    "%%html\n",
    "<style>\n",
    ".text_cell_render * {\n",
    "   font-family: OfficinaSansCTT;\n",
    "}\n",
    ".reveal code {\n",
    "    font-family: OfficinaSansCTT;\n",
    "}\n",
    ".text_cell_render h3 {\n",
    "   font-family: OfficinaSansCTT;\n",
    "}\n",
    ".reveal section img {\n",
    "    max-height: 500px;\n",
    "    margin-left: auto;\n",
    "    margin-right: auto;\n",
    "}\n",
    "</style>"
   ]
  },
  {
   "cell_type": "markdown",
   "metadata": {
    "slideshow": {
     "slide_type": "slide"
    }
   },
   "source": [
    "### Вопросы\n",
    "\n",
    "* Назовите несколько видов баз данных и опишите, в чем их суть.\n",
    "* Что такое транзакция в терминах баз данных?\n",
    "* Что делает следующий запрос?\n",
    "```SQL\n",
    "SELECT * FROM employees, managers WHERE employees.salary > 100000 AND employees.manager_id = managers.id\n",
    "```\n",
    "* Что такое миграция, если своими словами?\n",
    "* В чем преимущества NoSQL баз перед реляционными, если грубо?\n",
    "* Для чего нужен Elasticsearch?"
   ]
  },
  {
   "cell_type": "markdown",
   "metadata": {
    "slideshow": {
     "slide_type": "slide"
    }
   },
   "source": [
    "### Фортран и процессоры\n",
    "\n",
    "![cpu](img/cpu.png \"cpu\")\n",
    "\n",
    "- SSE, SSE2, SSE3 ...\n",
    "- Векторные операции\n",
    "- Суровые дяди-ученые с 80 годов пишут библиотеки, которые реализуют основные операции линейной алгебры\n",
    "- BLAS, LAPACK, CUDA"
   ]
  },
  {
   "cell_type": "markdown",
   "metadata": {
    "slideshow": {
     "slide_type": "slide"
    }
   },
   "source": [
    "### Матричные данные\n",
    "\n",
    "![matrix](img/dribbble.gif \"matrix\")\n",
    "\n",
    "- Matlab (Octave), R, Julia, Wolfram, ..., Numpy"
   ]
  },
  {
   "cell_type": "markdown",
   "metadata": {
    "slideshow": {
     "slide_type": "slide"
    }
   },
   "source": [
    "### Numpy\n",
    "\n",
    "- http://www.numpy.org/\n",
    "- ***pip install numpy*** или просто взять Anaconda\n",
    "- http://www.labri.fr/perso/nrougier/teaching/numpy.100/\n",
    "- https://cs231n.github.io/python-numpy-tutorial/"
   ]
  },
  {
   "cell_type": "markdown",
   "metadata": {
    "slideshow": {
     "slide_type": "slide"
    }
   },
   "source": [
    "### Примеры с Numpy"
   ]
  },
  {
   "cell_type": "code",
   "execution_count": null,
   "metadata": {},
   "outputs": [],
   "source": [
    "import numpy as np\n",
    "\n",
    "np.zeros(10) # вектор из 10 нулевых элементов\n",
    "np.arange(9).reshape(3,3) # матрица 3х3 с числами от 0 до 8\n",
    "m = np.eye(3) # единичная матрица\n",
    "m.shape # размеры матрицы\n",
    "a = np.random.random((3,3,3)) # трехмерная матрица 3x3x3 со случайными значениями"
   ]
  },
  {
   "cell_type": "code",
   "execution_count": null,
   "metadata": {},
   "outputs": [],
   "source": []
  },
  {
   "cell_type": "code",
   "execution_count": null,
   "metadata": {
    "slideshow": {
     "slide_type": "slide"
    }
   },
   "outputs": [],
   "source": [
    "# Матрица numpy - многомерный массив и позволяет делать и менять срез по каждому из измерений\n",
    "a[3, 4:5, 1:20:2]"
   ]
  },
  {
   "cell_type": "markdown",
   "metadata": {},
   "source": [
    "## Вопрос: как сделать “шахматную доску” из нулей и единиц?"
   ]
  },
  {
   "cell_type": "code",
   "execution_count": null,
   "metadata": {},
   "outputs": [],
   "source": []
  },
  {
   "cell_type": "markdown",
   "metadata": {
    "slideshow": {
     "slide_type": "slide"
    }
   },
   "source": [
    "### Упражнения"
   ]
  },
  {
   "cell_type": "markdown",
   "metadata": {
    "slideshow": {
     "slide_type": "-"
    }
   },
   "source": [
    "1. Допустим, у нас есть две двумерные матрицы 5x2 и 3x2 (можно заполнить случайными числами). Нужно посчитать произведение этих матриц. Надо ли транспонировать вторую?\n",
    "2. Посчитать коэффициент корреляции Пирсона между первыми двумя колонками первой матрицы. Какая функция numpy в  этом поможет?"
   ]
  },
  {
   "cell_type": "markdown",
   "metadata": {
    "slideshow": {
     "slide_type": "slide"
    }
   },
   "source": [
    "### Pandas\n",
    "\n",
    "![data-table](img/data-table.png \"data-table\")\n",
    "\n",
    "- http://pandas.pydata.org/\n",
    "- ***pip install pandas***\n",
    "- основные понятия - Dataframe и Series"
   ]
  },
  {
   "cell_type": "markdown",
   "metadata": {
    "slideshow": {
     "slide_type": "slide"
    }
   },
   "source": [
    "### Плюшки\n",
    "\n",
    "- Схожий интерфейс с R (для олдскульных аналитиков)\n",
    "- Бесшовная интеграция с Numpy и Matplotlib\n",
    "- Легкое добавление колонок («фич»)\n",
    "- Удобные механизмы для заполнения пробелов в данных"
   ]
  },
  {
   "cell_type": "code",
   "execution_count": null,
   "metadata": {
    "slideshow": {
     "slide_type": "slide"
    }
   },
   "outputs": [],
   "source": [
    "import pandas as pd\n",
    "# чтение CSV (крутые параметры: names, chunksize, dtype)\n",
    "df = pd.read_csv(\"USlocalopendataportals.csv\")\n",
    "df.columns # названия колонок\n",
    "df.head(15) # просмотр верхних 15 строчек\n",
    "df[\"column\"].apply(lambda c: c / 100.0) # применение функции к колонке\n",
    "df[\"column\"].str.%строковая функция% # работа со строковыми колонками\n",
    "df[\"column\"].astype(np.float32) # привести колонку к нужному типу\n",
    "# а как сделать через apply?\n",
    "\n",
    "df.groupby(\"column\").mean() # операция агрегации"
   ]
  },
  {
   "cell_type": "code",
   "execution_count": null,
   "metadata": {},
   "outputs": [],
   "source": []
  },
  {
   "cell_type": "code",
   "execution_count": null,
   "metadata": {
    "slideshow": {
     "slide_type": "slide"
    }
   },
   "outputs": [],
   "source": [
    "# выбор нескольких колонок\n",
    "df[[\"Column 1\", \"Column 2\"]]\n",
    "# создать новую колонку\n",
    "df[\"Сolumn\"] = a # массив подходящего размера\n",
    "# переименование колонки\n",
    "df.rename(\n",
    "    columns={\"Oldname\": \"Newname\"},\n",
    "    inplace=True\n",
    ")\n",
    "# объединение нескольких условий выборки\n",
    "df[df.col1 > 10 & df.col2 < 100] # можно еще | для OR"
   ]
  },
  {
   "cell_type": "code",
   "execution_count": null,
   "metadata": {
    "slideshow": {
     "slide_type": "-"
    }
   },
   "outputs": [],
   "source": []
  },
  {
   "cell_type": "markdown",
   "metadata": {
    "slideshow": {
     "slide_type": "slide"
    }
   },
   "source": [
    "### Упражнение"
   ]
  },
  {
   "cell_type": "markdown",
   "metadata": {
    "slideshow": {
     "slide_type": "-"
    }
   },
   "source": [
    "1. Прочитать файл ***USlocalopendataportals.csv*** в Pandas.\n",
    "    - Сколько различных значений в колонке Location?\n",
    "    - Сколько порталов принадлежит государству?\n",
    "2. Выбрать все записи только для Location, начинающихся с “New York” и “Washington D.C.”.\n",
    "    - Какой сайт встречается в этих данных дважды?\n",
    "    - Как это показать кодом?\n",
    "3. “Починить” колонку Population и посчитать среднее население для каждой локации."
   ]
  },
  {
   "cell_type": "markdown",
   "metadata": {
    "slideshow": {
     "slide_type": "slide"
    }
   },
   "source": [
    "### Визуализация\n",
    "\n",
    "1. Matplotlib (http://matplotlib.org/)\n",
    "    - Seaborn (https://www.stanford.edu/~mwaskom/software/seaborn/ )\n",
    "    - ggplot (http://ggplot.yhathq.com/ )\n",
    "    \n",
    "2. D3.js (https://d3js.org/ )\n",
    "    - Bokeh (http://bokeh.pydata.org/en/latest/ )\n",
    "    - Plotly (https://plot.ly/ )\n",
    "3. Pygal (http://pygal.org/ )\n",
    "4. Grafana (https://grafana.com/ )\n",
    "5. Kibana (https://www.elastic.co/products/kibana )"
   ]
  },
  {
   "cell_type": "markdown",
   "metadata": {
    "slideshow": {
     "slide_type": "slide"
    }
   },
   "source": [
    "![graphs](img/graphs.png \"graphs\")"
   ]
  },
  {
   "cell_type": "markdown",
   "metadata": {
    "slideshow": {
     "slide_type": "slide"
    }
   },
   "source": [
    "![graphs2](img/graphs2.png \"graphs2\")"
   ]
  },
  {
   "cell_type": "code",
   "execution_count": null,
   "metadata": {
    "slideshow": {
     "slide_type": "slide"
    }
   },
   "outputs": [],
   "source": [
    "# интеграция в IPython\n",
    "%matplotlib inline\n",
    "# основной объект\n",
    "from matplotlib import pyplot as plt"
   ]
  },
  {
   "cell_type": "code",
   "execution_count": null,
   "metadata": {},
   "outputs": [],
   "source": [
    "# столбиковая диаграмма прямо из Pandas\n",
    "df[\"Column\"].plot(kind=\"bar\")"
   ]
  },
  {
   "cell_type": "markdown",
   "metadata": {
    "slideshow": {
     "slide_type": "slide"
    }
   },
   "source": [
    "### Упражнения с Matplotlib"
   ]
  },
  {
   "cell_type": "markdown",
   "metadata": {},
   "source": [
    "1. По датафрейму, построенному в последнем пункте предыдущего задания, построить график с горизонтальными столбиками\n",
    "2. Взять случайную выборку (скажем, 10) по локациям и населению из прошлых упражнений. С помощью объекта pyplot построить круговую диаграмму по ним.\n",
    "\n",
    "Подсказка - http://bit.ly/1eLirnL"
   ]
  },
  {
   "cell_type": "markdown",
   "metadata": {
    "slideshow": {
     "slide_type": "slide"
    }
   },
   "source": [
    "### Scikit-Learn\n",
    "\n",
    "- http://scikit-learn.org/stable/index.html\n",
    "- Обширная библиотека алгоритмов для Machine Learning\n",
    "- http://scikit-learn.org/stable/modules/clustering.html#k-means"
   ]
  },
  {
   "cell_type": "markdown",
   "metadata": {
    "slideshow": {
     "slide_type": "slide"
    }
   },
   "source": [
    "### Линейная регрессия"
   ]
  },
  {
   "cell_type": "code",
   "execution_count": null,
   "metadata": {},
   "outputs": [],
   "source": [
    "# http://scikit-learn.org/stable/auto_examples/linear_model/plot_ols.html\n",
    "    \n",
    "import matplotlib.pyplot as plt\n",
    "import numpy as np\n",
    "from sklearn import datasets, linear_model\n",
    "from sklearn.metrics import mean_squared_error, r2_score\n",
    "\n",
    "# Load the diabetes dataset\n",
    "diabetes = datasets.load_diabetes()\n",
    "\n",
    "# Use only one feature\n",
    "diabetes_X = diabetes.data[:, np.newaxis, 2]\n",
    "\n",
    "# Split the data into training/testing sets\n",
    "diabetes_X_train = diabetes_X[:-20]\n",
    "diabetes_X_test = diabetes_X[-20:]\n",
    "\n",
    "# Split the targets into training/testing sets\n",
    "diabetes_y_train = diabetes.target[:-20]\n",
    "diabetes_y_test = diabetes.target[-20:]\n",
    "\n",
    "# Create linear regression object\n",
    "regr = linear_model.LinearRegression()\n",
    "\n",
    "# Train the model using the training sets\n",
    "regr.fit(diabetes_X_train, diabetes_y_train)\n",
    "\n",
    "# Make predictions using the testing set\n",
    "diabetes_y_pred = regr.predict(diabetes_X_test)\n",
    "\n",
    "# The coefficients\n",
    "print('Coefficients: \\n', regr.coef_)\n",
    "# The mean squared error\n",
    "print(\"Mean squared error: %.2f\"\n",
    "      % mean_squared_error(diabetes_y_test, diabetes_y_pred))\n",
    "# Explained variance score: 1 is perfect prediction\n",
    "print('Variance score: %.2f' % r2_score(diabetes_y_test, diabetes_y_pred))\n",
    "\n",
    "# Plot outputs\n",
    "plt.scatter(diabetes_X_test, diabetes_y_test,  color='black')\n",
    "plt.plot(diabetes_X_test, diabetes_y_pred, color='blue', linewidth=3)\n",
    "\n",
    "plt.xticks(())\n",
    "plt.yticks(())\n",
    "\n",
    "plt.show()"
   ]
  },
  {
   "cell_type": "markdown",
   "metadata": {
    "slideshow": {
     "slide_type": "slide"
    }
   },
   "source": [
    "### Богатая экосистема"
   ]
  },
  {
   "cell_type": "markdown",
   "metadata": {},
   "source": [
    "- Dask (https://dask.pydata.org/en/latest/ ) - out-of-core версия Pandas/Numpy\n",
    "- Scipy (https://www.scipy.org/scipylib/index.html)  - научные вычисления общего типа\n",
    "- PyMC3 (https://github.com/pymc-devs/pymc3 ) - Markov Chain Monte Carlo\n",
    "- NLTK (http://www.nltk.org/ ) + pymorphy2 (https://pymorphy2.readthedocs.io/) + gensim (https://radimrehurek.com/gensim/) + BigARTM (https://www.machinelearning.ru/wiki/index.php?title=BigARTM) - анализ текстов\n",
    "- Tensorflow (https://www.tensorflow.org/) + MXNet (https://mxnet.incubator.apache.org/) + Keras (https://keras.io/) + Theano (https://deeplearning.net/software/theano/) + PyTorch (https://pytorch.org) - нейронные сети и deep learning"
   ]
  },
  {
   "cell_type": "markdown",
   "metadata": {
    "slideshow": {
     "slide_type": "slide"
    }
   },
   "source": [
    "### Что бы еще почитать"
   ]
  },
  {
   "cell_type": "markdown",
   "metadata": {},
   "source": [
    "![pydata](img/pydata.png \"pydata\")"
   ]
  },
  {
   "cell_type": "markdown",
   "metadata": {
    "slideshow": {
     "slide_type": "slide"
    }
   },
   "source": [
    "![fromscratch](img/fromscratch.png \"fromscratch\")"
   ]
  },
  {
   "cell_type": "markdown",
   "metadata": {
    "slideshow": {
     "slide_type": "slide"
    }
   },
   "source": [
    "![ml](img/ml.png \"ml\")"
   ]
  }
 ],
 "metadata": {
  "celltoolbar": "Slideshow",
  "kernelspec": {
   "display_name": "Python 3",
   "language": "python",
   "name": "python3"
  },
  "language_info": {
   "codemirror_mode": {
    "name": "ipython",
    "version": 3
   },
   "file_extension": ".py",
   "mimetype": "text/x-python",
   "name": "python",
   "nbconvert_exporter": "python",
   "pygments_lexer": "ipython3",
   "version": "3.6.1"
  }
 },
 "nbformat": 4,
 "nbformat_minor": 2
}
