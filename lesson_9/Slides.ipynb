{
 "cells": [
  {
   "cell_type": "code",
   "execution_count": 5,
   "metadata": {
    "slideshow": {
     "slide_type": "skip"
    }
   },
   "outputs": [
    {
     "data": {
      "text/html": [
       "<style>\n",
       ".text_cell_render * {\n",
       "   font-family: OfficinaSansCTT;\n",
       "}\n",
       ".reveal code {\n",
       "    font-family: OfficinaSansCTT;\n",
       "}\n",
       ".text_cell_render h3 {\n",
       "   font-family: OfficinaSansCTT;\n",
       "}\n",
       ".reveal section img {\n",
       "    max-height: 500px;\n",
       "    margin-left: auto;\n",
       "    margin-right: auto;\n",
       "}\n",
       "</style>"
      ],
      "text/plain": [
       "<IPython.core.display.HTML object>"
      ]
     },
     "metadata": {},
     "output_type": "display_data"
    }
   ],
   "source": [
    "%%html\n",
    "<style>\n",
    ".text_cell_render * {\n",
    "   font-family: OfficinaSansCTT;\n",
    "}\n",
    ".reveal code {\n",
    "    font-family: OfficinaSansCTT;\n",
    "}\n",
    ".text_cell_render h3 {\n",
    "   font-family: OfficinaSansCTT;\n",
    "}\n",
    ".reveal section img {\n",
    "    max-height: 500px;\n",
    "    margin-left: auto;\n",
    "    margin-right: auto;\n",
    "}\n",
    "</style>"
   ]
  },
  {
   "cell_type": "markdown",
   "metadata": {
    "slideshow": {
     "slide_type": "slide"
    }
   },
   "source": [
    "### Вопросы\n",
    "\n",
    "* Что такое BLAS?\n",
    "* Как сделать в Numpy вот такую матрицу?\n",
    "```python\n",
    "array([[ 0,  4,  8, 12],\n",
    "       [ 1,  5,  9, 13],\n",
    "       [ 2,  6, 10, 14],\n",
    "       [ 3,  7, 11, 15]])\n",
    "```\n",
    "* Какой параметр функции read_csv() в Pandas позволяет не читать весь файл сразу целиком в память? И как посмотреть, сколько места датафрейм занимает в памяти?\n",
    "* Какой метод колонки является аналогом ```df[column].groupby(column).count()```?\n",
    "* Опишите своими словами, как решается задача предсказания методом линейной регрессии с использованием ."
   ]
  },
  {
   "cell_type": "markdown",
   "metadata": {
    "slideshow": {
     "slide_type": "slide"
    }
   },
   "source": [
    "### Что такое DevOps?\n",
    "\n",
    "- Это набор практик"
   ]
  },
  {
   "cell_type": "markdown",
   "metadata": {
    "slideshow": {
     "slide_type": "slide"
    }
   },
   "source": [
    "### Создание полноценного проекта на Python\n",
    "\n",
    "- Шаг 1: Создаем virtualenv для работы (это мы уже умеем)\n",
    "- **Шаг 2: Создаем репозиторий на Github**"
   ]
  },
  {
   "cell_type": "code",
   "execution_count": null,
   "metadata": {},
   "outputs": [],
   "source": []
  },
  {
   "cell_type": "markdown",
   "metadata": {
    "slideshow": {
     "slide_type": "slide"
    }
   },
   "source": [
    "### Создание полноценного проекта на Python\n",
    "\n",
    "- Шаг 1: Создаем virtualenv для работы\n",
    "- Шаг 2: Создаем репозиторий на Github\n",
    "- **Шаг 3: Описываем аргументы командной строки и конфигурационные файлы (если нужно)**"
   ]
  },
  {
   "cell_type": "markdown",
   "metadata": {
    "slideshow": {
     "slide_type": "slide"
    }
   },
   "source": [
    "### Модуль argparse\n",
    "\n",
    "- Помните **sys.argv**?"
   ]
  },
  {
   "cell_type": "code",
   "execution_count": null,
   "metadata": {},
   "outputs": [],
   "source": [
    "import argparse\n",
    "\n",
    "def build_parser():\n",
    "    parser = argparse.ArgumentParser()\n",
    "    parser.add_argument(\n",
    "        '-c', '--config', dest='config', action='store', type=str,\n",
    "        help='path to custom config',\n",
    "        default=os.path.join(os.path.dirname(__file__), \"config.yaml\")\n",
    "    )\n",
    "    return parser\n",
    "\n",
    "def main():\n",
    "    parser = build_parser()\n",
    "    params, other_params = parser.parse_known_args()\n",
    "    conf = load_config(params.config)\n",
    "    ..."
   ]
  },
  {
   "cell_type": "markdown",
   "metadata": {
    "slideshow": {
     "slide_type": "slide"
    }
   },
   "source": [
    "### Конфигурационные файлы\n",
    "\n",
    "- В конфигурационном файле должны быть все настройки программы, которые мы хотим менять без модификации ее кода\n",
    "- Формат конфига может быть любым, я бы предложил взять YAML, JSON или INI (про INI можно почитать вот тут - https://docs.python.org/3/library/configparser.html)"
   ]
  },
  {
   "cell_type": "markdown",
   "metadata": {
    "slideshow": {
     "slide_type": "slide"
    }
   },
   "source": [
    "### Создание полноценного проекта на Python\n",
    "\n",
    "- Шаг 1: Создаем virtualenv для работы\n",
    "- Шаг 2: Создаем репозиторий на Github\n",
    "- Шаг 3: Описываем аргументы командной строки и конфигурационные файлы (если нужно)\n",
    "- **Шаг 4: Сохраняем зависимости нашего проекта в отдельный файл, который затем включим в пакет**"
   ]
  },
  {
   "cell_type": "markdown",
   "metadata": {
    "slideshow": {
     "slide_type": "-"
    }
   },
   "source": [
    "- ***pip freeze > requirements.txt***\n",
    "- Посмотрим глазами на содержимое. На некоторых системах эта команда создает ненужную запись о несуществующем пакете *\"pkg-resources==0.0.0\"* - удалим ее, если она присутствует."
   ]
  },
  {
   "cell_type": "markdown",
   "metadata": {
    "slideshow": {
     "slide_type": "slide"
    }
   },
   "source": [
    "### Создание полноценного проекта на Python\n",
    "\n",
    "- Шаг 1: Создаем virtualenv для работы\n",
    "- Шаг 2: Создаем репозиторий на Github\n",
    "- Шаг 3: Описываем аргументы командной строки и конфигурационные файлы (если нужно)\n",
    "- Шаг 4: Сохраняем зависимости нашего проекта в отдельный файл, который затем включим в пакет\n",
    "- **Шаг 5: Структурируем программу, как пакет**"
   ]
  },
  {
   "cell_type": "markdown",
   "metadata": {
    "slideshow": {
     "slide_type": "slide"
    }
   },
   "source": [
    "```\n",
    "my_package <- это папка с нашим проектом\n",
    "├── MANIFEST.in  <- до этого мы сейчас дойдем\n",
    "├── my_package  <- это папка с именем нашего модуля, то, что будет в \"import my_package\"\n",
    "│   ├── cli.py  <- это базовый файл с нашим кодом\n",
    "│   ├── config.yaml  <- это файл конфигурации\n",
    "│   └── __init__.py  <- это чаще всего пустой файл, который превращает папку в модуль питона\n",
    "├── requirements.txt  <- это наш файл с зависимостями\n",
    "└── setup.py  <- до этого мы сейчас дойдем\n",
    "```"
   ]
  },
  {
   "cell_type": "markdown",
   "metadata": {
    "slideshow": {
     "slide_type": "slide"
    }
   },
   "source": [
    "### Пакеты Python\n",
    "\n",
    "- Помните эту команду? ***pip install -U pip wheel setuptools***\n",
    "- Пакеты бывают (в общем случае) двух типов: \n",
    "    - архивы (чаще всего формата .tar.gz)\n",
    "    - бинарные дистрибутивы (формата .whl)\n",
    "- Главный файл пакета - *setup.py*\n",
    "- Интерпретатор по умолчанию ищет пакеты в **/usr/lib/python3.6** , либо же в **venv/lib/python3.6/site-packages**\n",
    "- Можно передавать дополнительные пути для поиска с помощью переменной окружения **PYTHONPATH** или добавляя их в **sys.path**"
   ]
  },
  {
   "cell_type": "code",
   "execution_count": null,
   "metadata": {
    "slideshow": {
     "slide_type": "slide"
    }
   },
   "outputs": [],
   "source": [
    "# setup.py\n",
    "\n",
    "import os\n",
    "import os.path\n",
    "\n",
    "from setuptools import find_packages\n",
    "from setuptools import setup\n",
    "\n",
    "def find_requires():\n",
    "    dir_path = os.path.dirname(os.path.realpath(__file__))\n",
    "    requirements = []\n",
    "    with open('{0}/requirements.txt'.format(dir_path), 'r') as reqs:\n",
    "        requirements = reqs.readlines()\n",
    "    return requirements\n",
    "\n",
    "\n",
    "if __name__ == \"__main__\":\n",
    "    setup(\n",
    "        name=\"my_package\",\n",
    "        version=\"0.0.1\",\n",
    "        description='my cool package',\n",
    "        packages=find_packages(),\n",
    "        install_requires=find_requires(),\n",
    "        include_package_data=True,\n",
    "        entry_points={\n",
    "            'console_scripts': [\n",
    "                'my_command = my_package.cli:main',\n",
    "            ],\n",
    "        },\n",
    "    )\n"
   ]
  },
  {
   "cell_type": "markdown",
   "metadata": {
    "slideshow": {
     "slide_type": "slide"
    }
   },
   "source": [
    "### MANIFEST.in (включить не-питоновые файлы в проект)\n",
    "\n",
    "```\n",
    "include *requirements.txt\n",
    "recursive-include my_package *\n",
    "```"
   ]
  },
  {
   "cell_type": "markdown",
   "metadata": {
    "slideshow": {
     "slide_type": "slide"
    }
   },
   "source": [
    "### Создание полноценного проекта на Python\n",
    "\n",
    "- Шаг 1: Создаем virtualenv для работы\n",
    "- Шаг 2: Создаем репозиторий на Github\n",
    "- Шаг 3: Описываем аргументы командной строки и конфигурационные файлы (если нужно)\n",
    "- Шаг 4: Сохраняем зависимости нашего проекта в отдельный файл, который затем включим в пакет\n",
    "- Шаг 5: Структурируем программу, как пакет\n",
    "- **Шаг 6 (опциональный): Используем \"pip install --editable .\" для отладочного режима**"
   ]
  },
  {
   "cell_type": "markdown",
   "metadata": {
    "slideshow": {
     "slide_type": "slide"
    }
   },
   "source": [
    "### Пути и import\n",
    "\n",
    "- Более старый, но стабильный вариант - ***python setup.py develop***\n",
    "- Гораздо меньше ошибок возникает, если всегда использовать путь от имени пакета\n",
    "- Любые изменения в файлах сразу же станут видны внутри пакета\n",
    "- Точнее, не сразу, а после перезапуска интерпретатора"
   ]
  },
  {
   "cell_type": "markdown",
   "metadata": {
    "slideshow": {
     "slide_type": "slide"
    }
   },
   "source": [
    "### Создание полноценного проекта на Python\n",
    "\n",
    "- Шаг 1: Создаем virtualenv для работы\n",
    "- Шаг 2: Создаем репозиторий на Github\n",
    "- Шаг 3: Описываем аргументы командной строки и конфигурационные файлы (если нужно)\n",
    "- Шаг 4: Сохраняем зависимости нашего проекта в отдельный файл, который затем включим в пакет\n",
    "- Шаг 5: Структурируем программу, как пакет\n",
    "- Шаг 6 (опциональный): Используем \"python setup.py develop\" для отладочного режима\n",
    "- **Шаг 7: Проверяем, что пакет реально собирается**"
   ]
  },
  {
   "cell_type": "markdown",
   "metadata": {
    "slideshow": {
     "slide_type": "slide"
    }
   },
   "source": [
    "### Сборка в tar.gz\n",
    "\n",
    "- ***python setup.py sdist***\n",
    "- Создает папки **dist** и **%имя проекта%.egg-info**, вторую можно смело удалить (там метаданные)\n",
    "- Созданный в папке **dist** архив и будем собранным пакетом Python\n",
    "- https://packaging.python.org/tutorials/distributing-packages/"
   ]
  },
  {
   "cell_type": "markdown",
   "metadata": {
    "slideshow": {
     "slide_type": "-"
    }
   },
   "source": [
    "### Сборка в .whl\n",
    "\n",
    "- ***python setup.py bdist_wheel*** (есть еще опция --universal, когда проект совместим с Python 2)\n",
    "- Создает те же папки плюс **build**, где будет примерная структура пакета после инсталляции\n",
    "- В папке **dist** появится файл *.whl*, который будет бинарным пакетом Python\n",
    "- Во многих случаях собранный бинарный пакет будет устанавливаться только на ту же ОС, где собирался"
   ]
  },
  {
   "cell_type": "markdown",
   "metadata": {
    "slideshow": {
     "slide_type": "slide"
    }
   },
   "source": [
    "### Создание полноценного проекта на Python\n",
    "\n",
    "- Шаг 1: Создаем virtualenv для работы\n",
    "- Шаг 2: Создаем репозиторий на Github\n",
    "- Шаг 3: Описываем аргументы командной строки и конфигурационные файлы (если нужно)\n",
    "- Шаг 4: Сохраняем зависимости нашего проекта в отдельный файл, который затем включим в пакет\n",
    "- Шаг 5: Структурируем программу, как пакет\n",
    "- Шаг 6 (опциональный): Используем \"python setup.py develop\" для отладочного режима\n",
    "- Шаг 7: Проверяем, что пакет реально собирается\n",
    "- **Шаг 8: Отмечаем файлы, которые мы не хотим загружать в систему контроля версий**"
   ]
  },
  {
   "cell_type": "markdown",
   "metadata": {
    "slideshow": {
     "slide_type": "slide"
    }
   },
   "source": [
    "### Файл .gitignore\n",
    "\n",
    "- Файл находится в корне проекта/репозитория. Если его там нет - создайте его\n",
    "- Просто пишем пути к файлам, которые не хотим отслеживать"
   ]
  },
  {
   "cell_type": "markdown",
   "metadata": {
    "slideshow": {
     "slide_type": "slide"
    }
   },
   "source": [
    "### Создание полноценного проекта на Python\n",
    "\n",
    "- Шаг 1: Создаем virtualenv для работы\n",
    "- Шаг 2: Создаем репозиторий на Github и клонируем его к себе\n",
    "- Шаг 3: Описываем аргументы командной строки и конфигурационные файлы (если нужно)\n",
    "- Шаг 4: Сохраняем зависимости нашего проекта в отдельный файл, который затем включим в пакет\n",
    "- Шаг 5: Структурируем программу, как пакет\n",
    "- Шаг 6 (опциональный): Используем \"python setup.py develop\" для отладочного режима\n",
    "- Шаг 7: Проверяем, что пакет реально собирается\n",
    "- Шаг 8: Отмечаем файлы, которые мы не хотим загружать в систему контроля версий\n",
    "- **Шаг 9: Заливаем код в Git**"
   ]
  },
  {
   "cell_type": "markdown",
   "metadata": {
    "slideshow": {
     "slide_type": "slide"
    }
   },
   "source": [
    "### Вспоминаем работу с Git из консоли\n",
    "\n",
    "- Все команды набираем внутри нашей папки с проектом\n",
    "- ***git status***  # что вообще происходит\n",
    "- ***git add путь/к/файлу ***  # добавляем файл в git\n",
    "- ***git add * ***  # добавляем все файлы в текущей папке в git\n",
    "- ***git commit -m \"Initial commit\"***  # создаем коммит, то есть точку восстановления\n",
    "- ***git push origin master***  # заливаем код в репозиторий"
   ]
  },
  {
   "cell_type": "markdown",
   "metadata": {
    "slideshow": {
     "slide_type": "slide"
    }
   },
   "source": [
    "### Создание полноценного проекта на Python\n",
    "\n",
    "- Шаг 1: Создаем virtualenv для работы\n",
    "- Шаг 2: Создаем репозиторий на Github и клонируем его к себе\n",
    "- Шаг 3: Описываем аргументы командной строки и конфигурационные файлы (если нужно)\n",
    "- Шаг 4: Сохраняем зависимости нашего проекта в отдельный файл, который затем включим в пакет\n",
    "- Шаг 5: Структурируем программу, как пакет\n",
    "- Шаг 6 (опциональный): Используем \"python setup.py develop\" для отладочного режима\n",
    "- Шаг 7: Проверяем, что пакет реально собирается\n",
    "- Шаг 8: Отмечаем файлы, которые мы не хотим загружать в систему контроля версий\n",
    "- Шаг 9: Заливаем код в Git\n",
    "- **Шаг 10: Документация**"
   ]
  },
  {
   "cell_type": "markdown",
   "metadata": {
    "slideshow": {
     "slide_type": "slide"
    }
   },
   "source": [
    "### Модуль Sphinx"
   ]
  },
  {
   "cell_type": "markdown",
   "metadata": {},
   "source": [
    "- создадим папку docs\n",
    "- ***pip install sphinx sphinx-argparse***\n",
    "- в папке docs: ***sphinx-quickstart***\n",
    "- лучше задать значения для: \"Project name\", \"Author name(s)\", \"Project version\", \"autodoc: automatically insert docstrings from modules\" (y), \"viewcode: include links to the source code of documented Python objects\" (y)\n",
    "- в файле **conf.py** в *extensions* добавим *'sphinxarg.ext'*, а еще наверху раскомментируем и поправим одну точку на две:"
   ]
  },
  {
   "cell_type": "code",
   "execution_count": null,
   "metadata": {},
   "outputs": [],
   "source": [
    "import os\n",
    "import sys\n",
    "sys.path.insert(0, os.path.abspath('..'))"
   ]
  },
  {
   "cell_type": "markdown",
   "metadata": {
    "slideshow": {
     "slide_type": "slide"
    }
   },
   "source": [
    "- добавим логотип для красоты:\n",
    "    - ```html_logo = '../logo.png'```\n",
    "- добавим в **index.rst** после \":caption: Contents:\" строчки \"quickstart\" и \"develop\"\n",
    "- это значит, нам надо будет создать два файла - **quickstart.rst** и **develop.rst** в том же каталоге"
   ]
  },
  {
   "cell_type": "markdown",
   "metadata": {},
   "source": [
    "### quickstart.rst\n",
    "\n",
    "```rst\n",
    "Quickstart\n",
    "==========\n",
    "\n",
    ".. contents:: :local:\n",
    "\n",
    ".. argparse::\n",
    "   :module: my_package.cli\n",
    "   :func: build_parser\n",
    "   :prog: my_command\n",
    "```"
   ]
  },
  {
   "cell_type": "markdown",
   "metadata": {},
   "source": [
    "### develop.rst\n",
    "\n",
    "```rst\n",
    "Reference\n",
    "=========\n",
    "\n",
    ".. contents:: :local:\n",
    "\n",
    ".. automodule:: my_package.cli\n",
    "    :inherited-members:\n",
    "```"
   ]
  },
  {
   "cell_type": "markdown",
   "metadata": {
    "slideshow": {
     "slide_type": "slide"
    }
   },
   "source": [
    "- ***make html***  или ***make.bat html*** - в папке **_build/html** создастся куча файлов, главный - **index.html**"
   ]
  },
  {
   "cell_type": "markdown",
   "metadata": {
    "slideshow": {
     "slide_type": "slide"
    }
   },
   "source": [
    "### Создание полноценного проекта на Python\n",
    "\n",
    "- Шаг 1: Создаем virtualenv для работы\n",
    "- Шаг 2: Создаем репозиторий на Github и клонируем его к себе\n",
    "- Шаг 3: Описываем аргументы командной строки и конфигурационные файлы (если нужно)\n",
    "- Шаг 4: Сохраняем зависимости нашего проекта в отдельный файл, который затем включим в пакет\n",
    "- Шаг 5: Структурируем программу, как пакет\n",
    "- Шаг 6 (опциональный): Используем \"python setup.py develop\" для отладочного режима\n",
    "- Шаг 7: Проверяем, что пакет реально собирается\n",
    "- Шаг 8: Отмечаем файлы, которые мы не хотим загружать в систему контроля версий\n",
    "- Шаг 9: Заливаем код в Git\n",
    "- Шаг 10: Документация\n",
    "- **Шаг 11: Тестирование (обсудим в другой раз)**"
   ]
  }
 ],
 "metadata": {
  "celltoolbar": "Slideshow",
  "kernelspec": {
   "display_name": "Python 3",
   "language": "python",
   "name": "python3"
  },
  "language_info": {
   "codemirror_mode": {
    "name": "ipython",
    "version": 3
   },
   "file_extension": ".py",
   "mimetype": "text/x-python",
   "name": "python",
   "nbconvert_exporter": "python",
   "pygments_lexer": "ipython3",
   "version": "3.6.1"
  }
 },
 "nbformat": 4,
 "nbformat_minor": 2
}
