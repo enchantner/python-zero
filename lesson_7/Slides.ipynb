{
 "cells": [
  {
   "cell_type": "code",
   "execution_count": null,
   "metadata": {
    "slideshow": {
     "slide_type": "skip"
    }
   },
   "outputs": [],
   "source": [
    "%%html\n",
    "<style>\n",
    ".text_cell_render * {\n",
    "   font-family: OfficinaSansCTT;\n",
    "}\n",
    ".reveal code {\n",
    "    font-family: OfficinaSansCTT;\n",
    "}\n",
    ".text_cell_render h3 {\n",
    "   font-family: OfficinaSansCTT;\n",
    "}\n",
    ".reveal section img {\n",
    "    max-height: 500px;\n",
    "    margin-left: auto;\n",
    "    margin-right: auto;\n",
    "}\n",
    "</style>"
   ]
  },
  {
   "cell_type": "markdown",
   "metadata": {
    "slideshow": {
     "slide_type": "slide"
    }
   },
   "source": [
    "### Вопросы\n",
    "\n",
    "* Какие есть два способа создать поток, используя модуль threading?\n",
    "* Что такое кооперативная многозадачность? Что такое Future?\n",
    "* В чем основные отличия между асинхронными и синхронными функциями в Python?\n",
    "* Какая функция при работе с корутинами является, грубо говоря, аналогом функции concurrent.futures.ThreadPoolExecutor.submit() из мира потоков?\n",
    "* Что такое MVC и какие файлы в Django отвечают за каждый компонент?\n",
    "* В чем главные отличия Django, Flask и aiohttp?"
   ]
  },
  {
   "cell_type": "markdown",
   "metadata": {
    "slideshow": {
     "slide_type": "slide"
    }
   },
   "source": [
    "### Асинхронный бот"
   ]
  },
  {
   "cell_type": "markdown",
   "metadata": {
    "slideshow": {
     "slide_type": "slide"
    }
   },
   "source": [
    "### Базы данных\n",
    "\n",
    "* Реляционные (MySQL, PostgreSQL, Oracle, SQLite)\n",
    "* Key-Value + document-oriented (Redis, Tarantool, MongoDB, Elasticsearch)\n",
    "* Графовые (Neo4j)\n",
    "* и т.д.\n",
    "\n",
    "\n",
    "- Распределенные? (DNS)\n",
    "- In-Memory? (Memcached)"
   ]
  },
  {
   "cell_type": "markdown",
   "metadata": {
    "slideshow": {
     "slide_type": "slide"
    }
   },
   "source": [
    "### Реляционные базы данных\n",
    "\n",
    "* Записи могут иметь ключи, указывающие друг на друга\n",
    "* Чаще всего для работы с данными используется SQL (https://ru.wikipedia.org/wiki/SQL)"
   ]
  },
  {
   "cell_type": "markdown",
   "metadata": {},
   "source": [
    "![data-table](img/data-table.png \"data-table\")"
   ]
  },
  {
   "cell_type": "markdown",
   "metadata": {
    "slideshow": {
     "slide_type": "slide"
    }
   },
   "source": [
    "### SQL - Structured Query Language\n",
    "\n",
    "```SQL\n",
    "SELECT emp.last_name AS Surname, d.title AS Department FROM departments d LEFT JOIN employees emp ON (d.id = emp.department_id)\n",
    "```\n",
    "\n",
    "- http://sqlfiddle.com"
   ]
  },
  {
   "cell_type": "markdown",
   "metadata": {
    "slideshow": {
     "slide_type": "slide"
    }
   },
   "source": [
    "```SQL\n",
    "CREATE TABLE IF NOT EXISTS `employees` (\n",
    "  `id` int(6) unsigned NOT NULL,\n",
    "  `first_name` varchar(30) NOT NULL,\n",
    "  `last_name` varchar(30) NOT NULL,\n",
    "  `department_id` int(6) unsigned,\n",
    "  PRIMARY KEY (`id`)\n",
    ") DEFAULT CHARSET=utf8;\n",
    "\n",
    "CREATE TABLE IF NOT EXISTS `departments` (\n",
    "  `id` int(6) unsigned NOT NULL,\n",
    "  `title` varchar(30) NOT NULL,\n",
    "  PRIMARY KEY (`id`)\n",
    ") DEFAULT CHARSET=utf8;\n",
    "```"
   ]
  },
  {
   "cell_type": "markdown",
   "metadata": {
    "slideshow": {
     "slide_type": "slide"
    }
   },
   "source": [
    "```SQL\n",
    "INSERT INTO `employees` (`id`, `first_name`, `last_name`, `department_id`) VALUES\n",
    "  ('1', 'Darth', 'Vader', 1),\n",
    "  ('2', 'Darth', 'Maul', 1),\n",
    "  ('3', 'Kylo', 'Ren', 1),\n",
    "  ('4', 'Magister', 'Yoda', 2),\n",
    "  ('5', 'Leia', 'Organa', 2),\n",
    "  ('6', 'Luke', 'Skywalker', 2),\n",
    "  ('7', 'Jar Jar', 'Binks', NULL);\n",
    "  \n",
    "INSERT INTO `departments` (`id`, `title`) VALUES\n",
    "  ('1', 'Dark Side Inc.'),\n",
    "  ('2', 'Light Side Ltd.'),\n",
    "  ('3', 'Rebels'),\n",
    "  ('4', 'Wookie');\n",
    "```"
   ]
  },
  {
   "cell_type": "markdown",
   "metadata": {
    "slideshow": {
     "slide_type": "slide"
    }
   },
   "source": [
    "### Python DB API 2.0\n",
    "\n",
    "- https://www.python.org/dev/peps/pep-0249/\n",
    "- https://docs.python.org/3/library/sqlite3.html"
   ]
  },
  {
   "cell_type": "code",
   "execution_count": null,
   "metadata": {
    "slideshow": {
     "slide_type": "slide"
    }
   },
   "outputs": [],
   "source": [
    "import sqlite3\n",
    "conn = sqlite3.connect('example.db')\n",
    "c = conn.cursor()"
   ]
  },
  {
   "cell_type": "code",
   "execution_count": null,
   "metadata": {
    "slideshow": {
     "slide_type": "slide"
    }
   },
   "outputs": [],
   "source": [
    "c.execute(\"\"\"\n",
    "CREATE TABLE employees (\n",
    "  id int unsigned NOT NULL,\n",
    "  first_name string NOT NULL,\n",
    "  last_name string NOT NULL,\n",
    "  department_id int unsigned,\n",
    "  PRIMARY KEY (id)\n",
    ")\"\"\")\n",
    "c.execute(\"\"\"\n",
    "CREATE TABLE departments (\n",
    "  id int unsigned NOT NULL,\n",
    "  title string NOT NULL,\n",
    "  PRIMARY KEY (id)\n",
    ")\"\"\")\n",
    "conn.commit()"
   ]
  },
  {
   "cell_type": "code",
   "execution_count": null,
   "metadata": {
    "slideshow": {
     "slide_type": "slide"
    }
   },
   "outputs": [],
   "source": [
    "c.execute(\"\"\"\n",
    "INSERT INTO `employees` (`id`, `first_name`, `last_name`, `department_id`) VALUES\n",
    "  ('1', 'Darth', 'Vader', 1),\n",
    "  ('2', 'Darth', 'Maul', 1),\n",
    "  ('3', 'Kylo', 'Ren', 1),\n",
    "  ('4', 'Magister', 'Yoda', 2),\n",
    "  ('5', 'Leia', 'Organa', 2),\n",
    "  ('6', 'Luke', 'Skywalker', 2),\n",
    "  ('7', 'Jar Jar', 'Binks', NULL)\n",
    "\"\"\")\n",
    "c.execute(\"\"\"\n",
    "INSERT INTO `departments` (`id`, `title`) VALUES\n",
    "  ('1', 'Dark Side Inc.'),\n",
    "  ('2', 'Light Side Ltd.'),\n",
    "  ('3', 'Rebels'),\n",
    "  ('4', 'Wookie')\n",
    "\"\"\")\n",
    "conn.commit()"
   ]
  },
  {
   "cell_type": "code",
   "execution_count": null,
   "metadata": {
    "slideshow": {
     "slide_type": "slide"
    }
   },
   "outputs": [],
   "source": [
    "c.execute(\"SELECT emp.last_name AS Surname, d.title AS Department FROM departments d LEFT JOIN employees emp ON (d.id = emp.department_id)\")\n",
    "print(c.fetchall())"
   ]
  },
  {
   "cell_type": "markdown",
   "metadata": {
    "slideshow": {
     "slide_type": "slide"
    }
   },
   "source": [
    "![sql-recipes](img/sql-recipes.jpg \"sql-recipes\")"
   ]
  },
  {
   "cell_type": "markdown",
   "metadata": {
    "slideshow": {
     "slide_type": "slide"
    }
   },
   "source": [
    "### ORM - Object-Relational Mapping \n",
    "\n",
    "- Установим соответствие между записями в базе и объектами в коде\n",
    "- Получим удобство в коде за счет меньшей гибкости построения запросов и большего оверхеда"
   ]
  },
  {
   "cell_type": "markdown",
   "metadata": {
    "slideshow": {
     "slide_type": "-"
    }
   },
   "source": [
    "### Вернемся к нашему сайту\n",
    "\n",
    "- **Миграции** - это преобразования схемы и/или типов данных, меняющие структуру базы как в процессе разработки, так и на боевых серверах\n",
    "- ***python manage.py migrate***"
   ]
  },
  {
   "cell_type": "code",
   "execution_count": null,
   "metadata": {
    "slideshow": {
     "slide_type": "slide"
    }
   },
   "outputs": [],
   "source": [
    "# hello/models.py\n",
    "\n",
    "from django.db import models\n",
    "\n",
    "\n",
    "class Question(models.Model):\n",
    "    question_text = models.CharField(max_length=200)\n",
    "    pub_date = models.DateTimeField('date published')\n",
    "\n",
    "\n",
    "class Choice(models.Model):\n",
    "    question = models.ForeignKey(Question, on_delete=models.CASCADE)\n",
    "    choice_text = models.CharField(max_length=200)\n",
    "    votes = models.IntegerField(default=0)"
   ]
  },
  {
   "cell_type": "markdown",
   "metadata": {
    "slideshow": {
     "slide_type": "slide"
    }
   },
   "source": [
    "### Нужно добавить наше приложение в INSTALLED_APPS в settings.py"
   ]
  },
  {
   "cell_type": "code",
   "execution_count": null,
   "metadata": {},
   "outputs": [],
   "source": [
    "INSTALLED_APPS = [\n",
    "    'hello',   # <---- вот сюда, например\n",
    "    'django.contrib.admin',\n",
    "    'django.contrib.auth',\n",
    "    'django.contrib.contenttypes',\n",
    "    'django.contrib.sessions',\n",
    "    'django.contrib.messages',\n",
    "    'django.contrib.staticfiles',\n",
    "]"
   ]
  },
  {
   "cell_type": "markdown",
   "metadata": {
    "slideshow": {
     "slide_type": "slide"
    }
   },
   "source": [
    "### Создадим миграцию для наших новых моделей\n",
    "\n",
    "- ***python manage.py makemigrations hello***\n",
    "- Но что конкретно он нагенерировал?\n",
    "- ***python manage.py sqlmigrate hello 0001***\n",
    "- Ну вот, теперь все понятно\n",
    "- ***python manage.py migrate***"
   ]
  },
  {
   "cell_type": "markdown",
   "metadata": {
    "slideshow": {
     "slide_type": "slide"
    }
   },
   "source": [
    "### Встроенный Python shell (рекомендую IPython)\n",
    "\n",
    "- ***python manage.py shell***"
   ]
  },
  {
   "cell_type": "code",
   "execution_count": null,
   "metadata": {},
   "outputs": [],
   "source": [
    "import django\n",
    "django.setup()\n",
    "\n",
    "from django.utils import timezone  # поддержка временных зон\n",
    "from hello.models import Question, Choice\n",
    "\n",
    "Question.objects.all()   # вернуть все объекты из базы\n",
    "q = Question(question_text=\"Чёкак?\", pub_date=timezone.now())  # создать объект\n",
    "q.save()   # сохранить объект в базу\n",
    "q.question_text = \"Чёкаво?\"\n",
    "q.save()"
   ]
  },
  {
   "cell_type": "code",
   "execution_count": null,
   "metadata": {
    "slideshow": {
     "slide_type": "slide"
    }
   },
   "outputs": [],
   "source": [
    "str(q.query)  # заглянуть внутрь\n",
    "Question.objects.filter(question_text__startswith='Чё')  # фильтруем по строчкам\n",
    "current_year = timezone.now().year\n",
    "Question.objects.get(pub_date__year=current_year)   # фильтруем по году\n",
    "Question.objects.get(id=2)\n",
    "q.choice_set.all()  # все варианты ответа для данного вопроса\n",
    "c = q.choice_set.create(choice_text='Кто бы знал', votes=0)  # создаем связанный объект\n",
    "c.delete()   # удаляем объект"
   ]
  },
  {
   "cell_type": "markdown",
   "metadata": {
    "slideshow": {
     "slide_type": "slide"
    }
   },
   "source": [
    "### Админка\n",
    "\n",
    "- ***python manage.py createsuperuser***"
   ]
  },
  {
   "cell_type": "code",
   "execution_count": null,
   "metadata": {},
   "outputs": [],
   "source": [
    "# hello/admin.py\n",
    "\n",
    "from django.contrib import admin\n",
    "\n",
    "from .models import Question\n",
    "\n",
    "admin.site.register(Question)"
   ]
  },
  {
   "cell_type": "markdown",
   "metadata": {},
   "source": [
    "- ***python manage.py runserver***"
   ]
  },
  {
   "cell_type": "markdown",
   "metadata": {
    "slideshow": {
     "slide_type": "slide"
    }
   },
   "source": [
    "### А что насчет не-Django? SQLAlchemy, вот что!\n",
    "\n",
    "- https://www.sqlalchemy.org/\n",
    "- http://docs.sqlalchemy.org/en/latest/orm/tutorial.html\n",
    "- Есть и другие\n",
    "- https://ponyorm.com/\n",
    "- http://docs.peewee-orm.com/en/latest/"
   ]
  },
  {
   "cell_type": "markdown",
   "metadata": {
    "slideshow": {
     "slide_type": "slide"
    }
   },
   "source": [
    "### Проблемы с реляционными базами \n",
    "\n",
    "- Не очень хорошо масштабируются\n",
    "- Любое изменение схемы приводит к гиганским миграциям\n",
    "- Плохо поддерживают асинхронность\n",
    "- Распространенные СУБД плохо интергрируются с вычислительными решениями\n",
    "- Но вообще PostgreSQL неплох"
   ]
  },
  {
   "cell_type": "markdown",
   "metadata": {
    "slideshow": {
     "slide_type": "slide"
    }
   },
   "source": [
    "### Как насчет NoSQL?\n",
    "\n",
    "- Redis (https://redis.io/), https://aioredis.readthedocs.io/en/latest/\n",
    "- Elasticsearch (https://www.elastic.co/products/elasticsearch), https://aioes.readthedocs.io/en/latest/\n",
    "- MongoDB (https://www.mongodb.com/), https://motor.readthedocs.io/en/stable/"
   ]
  },
  {
   "cell_type": "markdown",
   "metadata": {
    "slideshow": {
     "slide_type": "slide"
    }
   },
   "source": [
    "### Попробуем Elasticsearch\n",
    "\n",
    "- https://www.elastic.co/downloads/elasticsearch\n",
    "- Запустить bin/elasticsearch, проверить, что работает: http://localhost:9200/\n",
    "- ***pip install aioes***\n",
    "- Для тех, кто боится асинхронности: https://elasticsearch-py.readthedocs.io/en/master/"
   ]
  },
  {
   "cell_type": "code",
   "execution_count": null,
   "metadata": {
    "slideshow": {
     "slide_type": "slide"
    }
   },
   "outputs": [],
   "source": [
    "import asyncio\n",
    "\n",
    "import aiohttp\n",
    "\n",
    "from aioes import Elasticsearch\n",
    "from datetime import datetime\n",
    "\n",
    "es = Elasticsearch(['localhost:9200'])"
   ]
  },
  {
   "cell_type": "code",
   "execution_count": null,
   "metadata": {
    "slideshow": {
     "slide_type": "slide"
    }
   },
   "outputs": [],
   "source": [
    "URL = \"https://ghibliapi.herokuapp.com/species/603428ba-8a86-4b0b-a9f1-65df6abef3d3\"\n",
    "\n",
    "async def create_db():\n",
    "    async with aiohttp.ClientSession() as session:\n",
    "        async with session.get(URL) as resp:\n",
    "            films_urls = (await resp.json())[\"films\"]\n",
    "            \n",
    "        for i, film_url in enumerate(films_urls):\n",
    "            async with session.get(film_url) as resp:\n",
    "                res = await es.index(\n",
    "                    index=\"coding-index\",\n",
    "                    doc_type='film',\n",
    "                    id=i,\n",
    "                    body=await resp.json()\n",
    "                )\n",
    "                print(res['created'])\n",
    "\n",
    "loop = asyncio.get_event_loop()\n",
    "loop.run_until_complete(create_db())"
   ]
  },
  {
   "cell_type": "code",
   "execution_count": null,
   "metadata": {
    "slideshow": {
     "slide_type": "slide"
    }
   },
   "outputs": [],
   "source": [
    "# https://www.elastic.co/guide/en/elasticsearch/reference/current/query-dsl-match-query.html\n",
    "\n",
    "async def get_by_id(key):\n",
    "    return await es.get(index='coding-index', doc_type='film', id=key)\n",
    "\n",
    "async def search_by_director(director):\n",
    "    return await es.search(index='coding-index', body={\"query\": {\"match\": {'director': director}}})\n",
    "\n",
    "async def search_in_description(sentence):\n",
    "    return await es.search(index='coding-index', body={\"query\": {\"match\": {'description': sentence}}})"
   ]
  },
  {
   "cell_type": "code",
   "execution_count": null,
   "metadata": {
    "slideshow": {
     "slide_type": "slide"
    }
   },
   "outputs": [],
   "source": [
    "# loop.run_until_complete(get_by_id(0))\n",
    "# loop.run_until_complete(search_by_director(\"Hayao Miyazaki\"))\n",
    "loop.run_until_complete(search_in_description(\"cat\"))"
   ]
  },
  {
   "cell_type": "markdown",
   "metadata": {
    "slideshow": {
     "slide_type": "slide"
    }
   },
   "source": [
    "### Дома поковырять\n",
    "\n",
    "- Сделать сервис для хранения заметок и для поиска по ним. Сервис может быть ботом в телеграме, а может быть сайтом."
   ]
  },
  {
   "cell_type": "code",
   "execution_count": null,
   "metadata": {},
   "outputs": [],
   "source": []
  }
 ],
 "metadata": {
  "celltoolbar": "Slideshow",
  "kernelspec": {
   "display_name": "Python 3",
   "language": "python",
   "name": "python3"
  },
  "language_info": {
   "codemirror_mode": {
    "name": "ipython",
    "version": 3
   },
   "file_extension": ".py",
   "mimetype": "text/x-python",
   "name": "python",
   "nbconvert_exporter": "python",
   "pygments_lexer": "ipython3",
   "version": "3.6.1"
  }
 },
 "nbformat": 4,
 "nbformat_minor": 2
}
