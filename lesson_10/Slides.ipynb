{
 "cells": [
  {
   "cell_type": "code",
   "execution_count": 9,
   "metadata": {
    "slideshow": {
     "slide_type": "skip"
    }
   },
   "outputs": [
    {
     "data": {
      "text/html": [
       "<style>\n",
       ".text_cell_render * {\n",
       "   font-family: OfficinaSansCTT;\n",
       "}\n",
       ".reveal code {\n",
       "    font-family: OfficinaSansCTT;\n",
       "}\n",
       ".text_cell_render h3 {\n",
       "   font-family: OfficinaSansCTT;\n",
       "}\n",
       ".reveal section img {\n",
       "    max-height: 500px;\n",
       "    margin-left: auto;\n",
       "    margin-right: auto;\n",
       "}\n",
       "</style>"
      ],
      "text/plain": [
       "<IPython.core.display.HTML object>"
      ]
     },
     "metadata": {},
     "output_type": "display_data"
    }
   ],
   "source": [
    "%%html\n",
    "<style>\n",
    ".text_cell_render * {\n",
    "   font-family: OfficinaSansCTT;\n",
    "}\n",
    ".reveal code {\n",
    "    font-family: OfficinaSansCTT;\n",
    "}\n",
    ".text_cell_render h3 {\n",
    "   font-family: OfficinaSansCTT;\n",
    "}\n",
    ".reveal section img {\n",
    "    max-height: 500px;\n",
    "    margin-left: auto;\n",
    "    margin-right: auto;\n",
    "}\n",
    "</style>"
   ]
  },
  {
   "cell_type": "markdown",
   "metadata": {
    "slideshow": {
     "slide_type": "slide"
    }
   },
   "source": [
    "### Вопросы\n",
    "\n",
    "* Функция *parser.parse_known_args()* возвращает два значения. Что в них находится?\n",
    "* Какие два основных типа собранных пакетов существуют в Python?\n",
    "* Где Python ищет модуль, когда мы пишем \"import foobar\"?\n",
    "* Зачем нужен MANIFEST.in и как включить его поддержку?\n",
    "* Зачем нужен .gitignore?\n",
    "* Каким образом мы строим дерево разделов в Sphinx?"
   ]
  },
  {
   "cell_type": "markdown",
   "metadata": {
    "slideshow": {
     "slide_type": "slide"
    }
   },
   "source": [
    "### Логирование\n",
    "\n",
    "* Можно кидать лог в одно или несколько мест одновременно\n",
    "* Разные уровни ошибок:\n",
    "    - DEBUG\n",
    "    - INFO\n",
    "    - WARNING\n",
    "    - ERROR\n",
    "    - CRITICAL\n",
    "* Расширенные возможности форматирования\n",
    "* http://docs.python-guide.org/en/latest/writing/logging/"
   ]
  },
  {
   "cell_type": "code",
   "execution_count": null,
   "metadata": {
    "slideshow": {
     "slide_type": "slide"
    }
   },
   "outputs": [],
   "source": [
    "import logging\n",
    "import sys\n",
    "\n",
    "logger = logging.getLogger(__file__)  # логгер идентифицируется по имени\n",
    "logger.setLevel(logging.DEBUG)   # глобальный уровень логирования (WARNING по умолчанию)\n",
    "fh = logging.FileHandler('test.log')  # обработчик для записи в файл, еще есть RotationFileHandler\n",
    "fh.setLevel(logging.DEBUG)  # выставляем уровень логирования конкретного обработчика\n",
    "ch = logging.StreamHandler()  # обработчик для записи в stderr (по умолчанию)\n",
    "ch.setLevel(logging.ERROR)  # логируем сообщения ERROR и CRITICAL\n",
    "formatter = logging.Formatter(\n",
    "    '%(asctime)s - %(name)s - %(levelname)s - %(message)s'\n",
    ")  # форматируем\n",
    "fh.setFormatter(formatter)  # можно назначить разное форматирование для разных обработчиков\n",
    "ch.setFormatter(formatter)\n",
    "\n",
    "logger.addHandler(fh)  # добавляем обработчики\n",
    "logger.addHandler(ch)"
   ]
  },
  {
   "cell_type": "code",
   "execution_count": null,
   "metadata": {
    "slideshow": {
     "slide_type": "slide"
    }
   },
   "outputs": [],
   "source": [
    "logger.info(\"We're in a jungle\")\n",
    "logger.warning(\"Oh no! It's a snake!\")\n",
    "logger.error(\"Nowhere to run!\")\n",
    "logger.critical(\"It bit be!\")\n",
    "logger.debug(\"Ha, it's just a small Python\")"
   ]
  },
  {
   "cell_type": "markdown",
   "metadata": {
    "slideshow": {
     "slide_type": "slide"
    }
   },
   "source": [
    "### \"Сконфигурить сразу все\""
   ]
  },
  {
   "cell_type": "markdown",
   "metadata": {},
   "source": [
    "- logging.basicConfig()\n",
    "- https://docs.python.org/3/library/logging.html#logging.basicConfig"
   ]
  },
  {
   "cell_type": "markdown",
   "metadata": {
    "slideshow": {
     "slide_type": "slide"
    }
   },
   "source": [
    "### Тестирование\n",
    "\n",
    "- Про виды тестирования: http://www.protesting.ru/testing/testtypes.html\n",
    "- По сути, практически любой тест состоит из кода, который сравнивает ожидаемое поведение с реальным\n",
    "- Концепция TDD - сначала пишем тесты, описывающие поведение, потом код\n",
    "- Главные модули:\n",
    "    * unittest (https://docs.python.org/3/library/unittest.html )\n",
    "    * mock (внутри unittest, https://docs.python.org/3/library/unittest.mock.html )"
   ]
  },
  {
   "cell_type": "code",
   "execution_count": null,
   "metadata": {
    "slideshow": {
     "slide_type": "slide"
    }
   },
   "outputs": [],
   "source": [
    "# test_code.py\n",
    "\n",
    "import unittest\n",
    "\n",
    "class TestStringMethods(unittest.TestCase):\n",
    "\n",
    "    def test_upper(self):\n",
    "        self.assertEqual('foo'.upper(), 'FOO')\n",
    "\n",
    "    def test_isupper(self):\n",
    "        self.assertTrue('FOO'.isupper())\n",
    "        self.assertFalse('Foo'.isupper())\n",
    "\n",
    "    def test_split(self):\n",
    "        s = 'hello world'\n",
    "        self.assertEqual(s.split(), ['hello', 'world'])\n",
    "        # check that s.split fails when the separator is not a string\n",
    "        with self.assertRaises(TypeError):\n",
    "            s.split(2)\n",
    "\n",
    "if __name__ == '__main__':\n",
    "    unittest.main()"
   ]
  },
  {
   "cell_type": "markdown",
   "metadata": {
    "slideshow": {
     "slide_type": "slide"
    }
   },
   "source": [
    "### setUp() и tearDown()\n",
    "\n",
    "- Запустить код перед тестом и после него"
   ]
  },
  {
   "cell_type": "markdown",
   "metadata": {
    "slideshow": {
     "slide_type": "slide"
    }
   },
   "source": [
    "### Упражнение\n",
    "\n",
    "Сгенерируйте файл 'input.txt' из 100 случайных чисел от -1000 до 1000 (по одному на строчке). Напишите программу, которая читает этот файл и находит 10 самых больших чисел в файле, не используя sorted() (дополнительные очки за использование, например, модуля heapq). Постарайтесь учесть ошибки (файл отсутствует, в файле не числа, файл пуст и т.п.). Придумайте, как структурировать программу таким образом, чтобы ее было легко тестировать, и напишите в соседнем файле тест для нее, желательно не менее четырех методов в кейсе."
   ]
  },
  {
   "cell_type": "markdown",
   "metadata": {
    "slideshow": {
     "slide_type": "slide"
    }
   },
   "source": [
    "### Динамическая подмена объектов - мок\n",
    "\n",
    "- https://docs.python.org/3/library/unittest.mock.html\n",
    "- Для того, чтобы что-то функционально протестировать - надо это изолировать\n",
    "- Особенно внешние вызовы - запросы к сайтам, работу с базой и т.д."
   ]
  },
  {
   "cell_type": "markdown",
   "metadata": {
    "slideshow": {
     "slide_type": "slide"
    }
   },
   "source": [
    "### Предположим, у нас такой вот код"
   ]
  },
  {
   "cell_type": "code",
   "execution_count": null,
   "metadata": {
    "slideshow": {
     "slide_type": "-"
    }
   },
   "outputs": [],
   "source": [
    "# my_code.py\n",
    "\n",
    "def read_file(fname):\n",
    "    with open(fname, \"r\") as f:\n",
    "        for line in f:\n",
    "            yield line\n",
    "\n",
    "def do_cool_stuff(filename):\n",
    "    s = 0\n",
    "    for line in read_file(filename):\n",
    "        s += int(line.strip())\n",
    "    return s"
   ]
  },
  {
   "cell_type": "code",
   "execution_count": null,
   "metadata": {
    "slideshow": {
     "slide_type": "slide"
    }
   },
   "outputs": [],
   "source": [
    "# test_my_code.py\n",
    "\n",
    "import unittest\n",
    "from unittest.mock import MagicMock\n",
    "\n",
    "import my_code\n",
    "\n",
    "\n",
    "class TestMyCode(unittest.TestCase):\n",
    "\n",
    "    def test_cool_stuff(self):\n",
    "        my_code.read_file = MagicMock()\n",
    "        my_code.read_file.return_value = iter([1, 2, 3])\n",
    "        self.assertEqual(\n",
    "            my_code.do_cool_stuff(\"fakefile\"),\n",
    "            [1, 2, 3]\n",
    "        )\n",
    "        \n",
    "\n",
    "if __name__ == '__main__':\n",
    "    unittest.main()"
   ]
  },
  {
   "cell_type": "markdown",
   "metadata": {
    "slideshow": {
     "slide_type": "slide"
    }
   },
   "source": [
    "### Pytest\n",
    "\n",
    "- https://docs.pytest.org/en/latest/"
   ]
  },
  {
   "cell_type": "code",
   "execution_count": null,
   "metadata": {
    "slideshow": {
     "slide_type": "slide"
    }
   },
   "outputs": [],
   "source": [
    "import pytest\n",
    "from pytest_mock import mocker\n",
    "\n",
    "import my_code\n",
    "\n",
    "def test_load_list_extended(mocker):\n",
    "    my_code.read_file = mocker.MagicMock()\n",
    "    my_code.read_file.return_value = iter(['a', 'b', 'c'])\n",
    "    expected = ['a', 'b', 'c']\n",
    "    assert my_code.do_cool_stuf('some_file') == expected"
   ]
  }
 ],
 "metadata": {
  "celltoolbar": "Slideshow",
  "kernelspec": {
   "display_name": "Python 3",
   "language": "python",
   "name": "python3"
  },
  "language_info": {
   "codemirror_mode": {
    "name": "ipython",
    "version": 3
   },
   "file_extension": ".py",
   "mimetype": "text/x-python",
   "name": "python",
   "nbconvert_exporter": "python",
   "pygments_lexer": "ipython3",
   "version": "3.6.0"
  }
 },
 "nbformat": 4,
 "nbformat_minor": 2
}
